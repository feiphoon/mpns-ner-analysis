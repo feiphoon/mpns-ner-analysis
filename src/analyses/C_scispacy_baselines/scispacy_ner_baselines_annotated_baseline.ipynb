{
 "cells": [
  {
   "cell_type": "markdown",
   "metadata": {},
   "source": [
    "# Pretrained scispacy model test on PubMed hand-annotated abstracts"
   ]
  },
  {
   "cell_type": "markdown",
   "metadata": {},
   "source": [
    "## 1: Setup "
   ]
  },
  {
   "cell_type": "markdown",
   "metadata": {},
   "source": [
    "### 1.1: Load models and packages"
   ]
  },
  {
   "cell_type": "code",
   "execution_count": 1,
   "metadata": {},
   "outputs": [],
   "source": [
    "%%capture\n",
    "!pip install -U spacy<3.0.0\n",
    "!pip install -U scispacy==0.3.0\n",
    "!pip install https://s3-us-west-2.amazonaws.com/ai2-s2-scispacy/releases/v0.3.0/en_core_sci_md-0.3.0.tar.gz\n",
    "!pip install https://s3-us-west-2.amazonaws.com/ai2-s2-scispacy/releases/v0.3.0/en_core_sci_lg-0.3.0.tar.gz\n"
   ]
  },
  {
   "cell_type": "code",
   "execution_count": 26,
   "metadata": {},
   "outputs": [],
   "source": [
    "import os\n",
    "import json\n",
    "from pathlib import Path\n",
    "import pandas as pd\n",
    "import spacy\n",
    "import scispacy\n",
    "from spacy import displacy\n"
   ]
  },
  {
   "cell_type": "markdown",
   "metadata": {},
   "source": [
    "### 1.2: Load text examples"
   ]
  },
  {
   "cell_type": "code",
   "execution_count": 27,
   "metadata": {},
   "outputs": [],
   "source": [
    "hand_annotated_pubmed_data_filename = \"../../../data/hand_annotated_abstracts/test/part-00000-3f29966d-3707-4973-a811-6c53c50a0735-c000.json\"\n",
    "output_filepath = Path(\"../../../data/hand_annotated_abstracts/results/\")"
   ]
  },
  {
   "cell_type": "markdown",
   "metadata": {},
   "source": [
    "### 1.3: Define shared functions"
   ]
  },
  {
   "cell_type": "code",
   "execution_count": 46,
   "metadata": {},
   "outputs": [],
   "source": [
    "def get_ner_model_results_from_json(\n",
    "    model: str, input_filename: str, output_filepath: str, render: bool = False\n",
    ") -> None:\n",
    "    nlp = spacy.load(model)\n",
    "\n",
    "    with open(input_filename, \"r\") as f:\n",
    "        contents = [json.loads(json_line) for json_line in list(f)]\n",
    "\n",
    "        result_rows = []\n",
    "        for corpus in contents:\n",
    "            # Create results tuple for every entity in each abstract.\n",
    "            # Here's the boilerplate of every result in this abstract or corpus.\n",
    "            result = (corpus[\"id\"], corpus[\"pmid\"])\n",
    "\n",
    "            doc = nlp(corpus[\"data\"])\n",
    "\n",
    "            if render:\n",
    "                displacy.render(doc, style=\"ent\")\n",
    "                print(\"\\n\")\n",
    "\n",
    "            # This produces the entity, label and position\n",
    "            for x in doc.ents:\n",
    "                _entities = (\n",
    "                    x.text,\n",
    "                    x.label_,\n",
    "                    x.start_char,\n",
    "                    x.end_char,\n",
    "                )\n",
    "\n",
    "            result_rows.append(result + _entities)\n",
    "\n",
    "    result_cols = [\n",
    "        \"id\",\n",
    "        \"pmid\",\n",
    "        \"test_ent_text\",\n",
    "        \"test_ent_label\",\n",
    "        \"test_ent_start\",\n",
    "        \"test_ent_end\",\n",
    "    ]\n",
    "    results_df = pd.DataFrame.from_records(result_rows, columns=result_cols)\n",
    "    output_filepath.mkdir(parents=True, exist_ok=True)\n",
    "    results_df.to_csv(Path(f\"{output_filepath}/{model}.csv\") , index=False)"
   ]
  },
  {
   "cell_type": "markdown",
   "metadata": {},
   "source": [
    "## 2: NER Model test runs\n",
    "\n",
    "These will produce results to CSV in this repo."
   ]
  },
  {
   "cell_type": "markdown",
   "metadata": {},
   "source": [
    "### 2.1: `en_core_sci_md`"
   ]
  },
  {
   "cell_type": "code",
   "execution_count": 47,
   "metadata": {},
   "outputs": [],
   "source": [
    "get_ner_model_results_from_json(model=\"en_core_sci_md\", input_filename=hand_annotated_pubmed_data_filename, output_filepath=output_filepath, render=False)"
   ]
  },
  {
   "cell_type": "markdown",
   "metadata": {},
   "source": [
    "### 2.2: `en_core_sci_lg`"
   ]
  },
  {
   "cell_type": "code",
   "execution_count": 48,
   "metadata": {},
   "outputs": [],
   "source": [
    "get_ner_model_results_from_json(model=\"en_core_sci_lg\", input_filename=hand_annotated_pubmed_data_filename, output_filepath=output_filepath, render=False)"
   ]
  },
  {
   "cell_type": "markdown",
   "metadata": {},
   "source": [
    "## 3: Analysis of NER Models"
   ]
  },
  {
   "cell_type": "markdown",
   "metadata": {},
   "source": [
    "### 3.1: `en_core_sci_md`"
   ]
  },
  {
   "cell_type": "code",
   "execution_count": 49,
   "metadata": {},
   "outputs": [
    {
     "data": {
      "text/html": [
       "<div>\n",
       "<style scoped>\n",
       "    .dataframe tbody tr th:only-of-type {\n",
       "        vertical-align: middle;\n",
       "    }\n",
       "\n",
       "    .dataframe tbody tr th {\n",
       "        vertical-align: top;\n",
       "    }\n",
       "\n",
       "    .dataframe thead th {\n",
       "        text-align: right;\n",
       "    }\n",
       "</style>\n",
       "<table border=\"1\" class=\"dataframe\">\n",
       "  <thead>\n",
       "    <tr style=\"text-align: right;\">\n",
       "      <th></th>\n",
       "      <th>id</th>\n",
       "      <th>pmid</th>\n",
       "      <th>test_ent_text</th>\n",
       "      <th>test_ent_label</th>\n",
       "      <th>test_ent_start</th>\n",
       "      <th>test_ent_end</th>\n",
       "    </tr>\n",
       "  </thead>\n",
       "  <tbody>\n",
       "    <tr>\n",
       "      <th>0</th>\n",
       "      <td>24</td>\n",
       "      <td>33081197</td>\n",
       "      <td>medical industries</td>\n",
       "      <td>ENTITY</td>\n",
       "      <td>1200</td>\n",
       "      <td>1218</td>\n",
       "    </tr>\n",
       "    <tr>\n",
       "      <th>1</th>\n",
       "      <td>25</td>\n",
       "      <td>33383372</td>\n",
       "      <td>secretion</td>\n",
       "      <td>ENTITY</td>\n",
       "      <td>2412</td>\n",
       "      <td>2421</td>\n",
       "    </tr>\n",
       "    <tr>\n",
       "      <th>2</th>\n",
       "      <td>26</td>\n",
       "      <td>32101119</td>\n",
       "      <td>co-administered</td>\n",
       "      <td>ENTITY</td>\n",
       "      <td>370</td>\n",
       "      <td>385</td>\n",
       "    </tr>\n",
       "    <tr>\n",
       "      <th>3</th>\n",
       "      <td>27</td>\n",
       "      <td>32588370</td>\n",
       "      <td>diabetes</td>\n",
       "      <td>ENTITY</td>\n",
       "      <td>1936</td>\n",
       "      <td>1944</td>\n",
       "    </tr>\n",
       "    <tr>\n",
       "      <th>4</th>\n",
       "      <td>28</td>\n",
       "      <td>32668965</td>\n",
       "      <td>IRAK1-TAK1 signaling pathways</td>\n",
       "      <td>ENTITY</td>\n",
       "      <td>1811</td>\n",
       "      <td>1840</td>\n",
       "    </tr>\n",
       "    <tr>\n",
       "      <th>5</th>\n",
       "      <td>29</td>\n",
       "      <td>26219274</td>\n",
       "      <td>medicinal products</td>\n",
       "      <td>ENTITY</td>\n",
       "      <td>405</td>\n",
       "      <td>423</td>\n",
       "    </tr>\n",
       "    <tr>\n",
       "      <th>6</th>\n",
       "      <td>30</td>\n",
       "      <td>24188229</td>\n",
       "      <td>women</td>\n",
       "      <td>ENTITY</td>\n",
       "      <td>246</td>\n",
       "      <td>251</td>\n",
       "    </tr>\n",
       "    <tr>\n",
       "      <th>7</th>\n",
       "      <td>31</td>\n",
       "      <td>21688071</td>\n",
       "      <td>evaluation</td>\n",
       "      <td>ENTITY</td>\n",
       "      <td>1607</td>\n",
       "      <td>1617</td>\n",
       "    </tr>\n",
       "    <tr>\n",
       "      <th>8</th>\n",
       "      <td>32</td>\n",
       "      <td>33961968</td>\n",
       "      <td>investigation</td>\n",
       "      <td>ENTITY</td>\n",
       "      <td>2022</td>\n",
       "      <td>2035</td>\n",
       "    </tr>\n",
       "    <tr>\n",
       "      <th>9</th>\n",
       "      <td>33</td>\n",
       "      <td>30380351</td>\n",
       "      <td>grease</td>\n",
       "      <td>ENTITY</td>\n",
       "      <td>807</td>\n",
       "      <td>813</td>\n",
       "    </tr>\n",
       "  </tbody>\n",
       "</table>\n",
       "</div>"
      ],
      "text/plain": [
       "   id      pmid                  test_ent_text test_ent_label  test_ent_start  \\\n",
       "0  24  33081197             medical industries         ENTITY            1200   \n",
       "1  25  33383372                      secretion         ENTITY            2412   \n",
       "2  26  32101119                co-administered         ENTITY             370   \n",
       "3  27  32588370                       diabetes         ENTITY            1936   \n",
       "4  28  32668965  IRAK1-TAK1 signaling pathways         ENTITY            1811   \n",
       "5  29  26219274             medicinal products         ENTITY             405   \n",
       "6  30  24188229                          women         ENTITY             246   \n",
       "7  31  21688071                     evaluation         ENTITY            1607   \n",
       "8  32  33961968                  investigation         ENTITY            2022   \n",
       "9  33  30380351                         grease         ENTITY             807   \n",
       "\n",
       "   test_ent_end  \n",
       "0          1218  \n",
       "1          2421  \n",
       "2           385  \n",
       "3          1944  \n",
       "4          1840  \n",
       "5           423  \n",
       "6           251  \n",
       "7          1617  \n",
       "8          2035  \n",
       "9           813  "
      ]
     },
     "execution_count": 49,
     "metadata": {},
     "output_type": "execute_result"
    }
   ],
   "source": [
    "# Load the results of this model\n",
    "en_core_sci_md_results_df = pd.read_csv(os.path.join(output_filepath, \"en_core_sci_md.csv\"))\n",
    "en_core_sci_md_results_df.head(10)"
   ]
  },
  {
   "cell_type": "code",
   "execution_count": null,
   "metadata": {},
   "outputs": [],
   "source": [
    "Where the ent_start matches the ent_start of the original set\n",
    "Where the ent_end matches the ent_end of the original set"
   ]
  },
  {
   "cell_type": "markdown",
   "metadata": {},
   "source": [
    "## Conclusions"
   ]
  },
  {
   "cell_type": "markdown",
   "metadata": {},
   "source": []
  }
 ],
 "metadata": {
  "interpreter": {
   "hash": "67f4780eb96faf297d175188e69e69fac805a6f2ebb65e35e4468d9195d66e2d"
  },
  "kernelspec": {
   "display_name": "Python 3.8.5 64-bit ('venv-scispacy': venv)",
   "language": "python",
   "name": "python3"
  },
  "language_info": {
   "codemirror_mode": {
    "name": "ipython",
    "version": 3
   },
   "file_extension": ".py",
   "mimetype": "text/x-python",
   "name": "python",
   "nbconvert_exporter": "python",
   "pygments_lexer": "ipython3",
   "version": "3.8.5"
  },
  "orig_nbformat": 4
 },
 "nbformat": 4,
 "nbformat_minor": 2
}
