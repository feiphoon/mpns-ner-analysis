{
 "cells": [
  {
   "cell_type": "markdown",
   "metadata": {},
   "source": [
    "# Pretrained scispacy model performance on PubMed hand-annotated abstracts"
   ]
  },
  {
   "cell_type": "markdown",
   "metadata": {},
   "source": [
    "## 1: Setup "
   ]
  },
  {
   "cell_type": "markdown",
   "metadata": {},
   "source": [
    "### 1.1: Load models and packages"
   ]
  },
  {
   "cell_type": "code",
   "execution_count": 1,
   "metadata": {},
   "outputs": [],
   "source": [
    "%%capture\n",
    "!pip install -U spacy<3.0.0\n",
    "!pip install -U scispacy==0.3.0\n",
    "!pip install https://s3-us-west-2.amazonaws.com/ai2-s2-scispacy/releases/v0.3.0/en_core_sci_md-0.3.0.tar.gz\n",
    "!pip install https://s3-us-west-2.amazonaws.com/ai2-s2-scispacy/releases/v0.3.0/en_core_sci_lg-0.3.0.tar.gz\n"
   ]
  },
  {
   "cell_type": "code",
   "execution_count": 26,
   "metadata": {},
   "outputs": [],
   "source": [
    "import os\n",
    "import json\n",
    "from pathlib import Path\n",
    "import pandas as pd\n",
    "import spacy\n",
    "import scispacy\n",
    "from spacy import displacy\n"
   ]
  },
  {
   "cell_type": "markdown",
   "metadata": {},
   "source": [
    "### 1.2: Load text examples"
   ]
  },
  {
   "cell_type": "code",
   "execution_count": 27,
   "metadata": {},
   "outputs": [],
   "source": [
    "hand_annotated_pubmed_data_filename = \"../../../data/hand_annotated_abstracts/test/part-00000-3f29966d-3707-4973-a811-6c53c50a0735-c000.json\"\n",
    "output_filepath = Path(\"../../../data/hand_annotated_abstracts/results/\")"
   ]
  },
  {
   "cell_type": "markdown",
   "metadata": {},
   "source": [
    "### 1.3: Define shared functions"
   ]
  },
  {
   "cell_type": "code",
   "execution_count": 35,
   "metadata": {},
   "outputs": [],
   "source": [
    "def get_ner_model_results_from_json(\n",
    "    model: str, input_filename: str, output_filepath: str, render: bool = False\n",
    ") -> None:\n",
    "    nlp = spacy.load(model)\n",
    "\n",
    "    with open(input_filename, \"r\") as f:\n",
    "        contents = [json.loads(json_line) for json_line in list(f)]\n",
    "\n",
    "        result_rows = []\n",
    "        for corpus in contents:\n",
    "            # Create results tuple for every entity in each abstract.\n",
    "            # Here's the boilerplate of every result in this abstract or corpus.\n",
    "            result = (corpus[\"data\"], corpus[\"id\"], corpus[\"pmid\"])\n",
    "\n",
    "            doc = nlp(corpus[\"data\"])\n",
    "\n",
    "            if render:\n",
    "                displacy.render(doc, style=\"ent\")\n",
    "                print(\"\\n\")\n",
    "\n",
    "            # This produces the entity, label and position\n",
    "            for x in doc.ents:\n",
    "                _entities = (\n",
    "                    x.text,\n",
    "                    x.label_,\n",
    "                    x.start_char,\n",
    "                    x.end_char,\n",
    "                )\n",
    "\n",
    "            result_rows.append(result + _entities)\n",
    "\n",
    "    result_cols = [\n",
    "        \"corpus\",\n",
    "        \"id\",\n",
    "        \"pmid\",\n",
    "        \"ent_text\",\n",
    "        \"ent_label\",\n",
    "        \"ent_start\",\n",
    "        \"ent_end\",\n",
    "    ]\n",
    "    results_df = pd.DataFrame.from_records(result_rows, columns=result_cols)\n",
    "    output_filepath.mkdir(parents=True, exist_ok=True)\n",
    "    results_df.to_csv(Path(f\"{output_filepath}/{model}.csv\") , index=False)"
   ]
  },
  {
   "cell_type": "markdown",
   "metadata": {},
   "source": [
    "## 2: NER Model comparison"
   ]
  },
  {
   "cell_type": "markdown",
   "metadata": {},
   "source": [
    "### 2.1: `en_core_sci_md`"
   ]
  },
  {
   "cell_type": "code",
   "execution_count": 36,
   "metadata": {},
   "outputs": [],
   "source": [
    "get_ner_model_results_from_json(model=\"en_core_sci_md\", input_filename=hand_annotated_pubmed_data_filename, output_filepath=output_filepath, render=False)"
   ]
  },
  {
   "cell_type": "markdown",
   "metadata": {},
   "source": [
    "### 2.2: `en_core_sci_lg`"
   ]
  },
  {
   "cell_type": "code",
   "execution_count": 37,
   "metadata": {},
   "outputs": [],
   "source": [
    "get_ner_model_results_from_json(model=\"en_core_sci_lg\", input_filename=hand_annotated_pubmed_data_filename, output_filepath=output_filepath, render=False)"
   ]
  },
  {
   "cell_type": "markdown",
   "metadata": {},
   "source": [
    "## Conclusions"
   ]
  },
  {
   "cell_type": "markdown",
   "metadata": {},
   "source": []
  }
 ],
 "metadata": {
  "interpreter": {
   "hash": "67f4780eb96faf297d175188e69e69fac805a6f2ebb65e35e4468d9195d66e2d"
  },
  "kernelspec": {
   "display_name": "Python 3.8.5 64-bit ('venv-scispacy': venv)",
   "language": "python",
   "name": "python3"
  },
  "language_info": {
   "codemirror_mode": {
    "name": "ipython",
    "version": 3
   },
   "file_extension": ".py",
   "mimetype": "text/x-python",
   "name": "python",
   "nbconvert_exporter": "python",
   "pygments_lexer": "ipython3",
   "version": "3.8.5"
  },
  "orig_nbformat": 4
 },
 "nbformat": 4,
 "nbformat_minor": 2
}
