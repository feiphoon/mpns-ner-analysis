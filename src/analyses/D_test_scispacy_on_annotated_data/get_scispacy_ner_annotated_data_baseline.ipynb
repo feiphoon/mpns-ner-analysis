{
 "cells": [
  {
   "cell_type": "markdown",
   "metadata": {},
   "source": [
    "# Test and analyse pretrained scispacy models on PubMed hand-annotated abstracts"
   ]
  },
  {
   "cell_type": "markdown",
   "metadata": {},
   "source": [
    "## 1: Setup "
   ]
  },
  {
   "cell_type": "markdown",
   "metadata": {},
   "source": [
    "### 1.1: Load models and packages"
   ]
  },
  {
   "cell_type": "code",
   "execution_count": 181,
   "metadata": {},
   "outputs": [],
   "source": [
    "%%capture\n",
    "!pip install -U spacy<3.0.0\n",
    "!pip install -U scispacy==0.3.0\n",
    "!pip install https://s3-us-west-2.amazonaws.com/ai2-s2-scispacy/releases/v0.3.0/en_core_sci_md-0.3.0.tar.gz\n",
    "!pip install https://s3-us-west-2.amazonaws.com/ai2-s2-scispacy/releases/v0.3.0/en_core_sci_lg-0.3.0.tar.gz\n"
   ]
  },
  {
   "cell_type": "code",
   "execution_count": 182,
   "metadata": {},
   "outputs": [],
   "source": [
    "import os\n",
    "import json\n",
    "from pathlib import Path\n",
    "import pandas as pd\n",
    "import spacy\n",
    "import scispacy\n",
    "from spacy import displacy\n"
   ]
  },
  {
   "cell_type": "markdown",
   "metadata": {},
   "source": [
    "### 1.2: Set up test and results filepaths"
   ]
  },
  {
   "cell_type": "code",
   "execution_count": 183,
   "metadata": {},
   "outputs": [],
   "source": [
    "hand_annotated_pubmed_data_filename = \"../../../data/hand_annotated_abstracts/test/part-00000-c89cb926-5be3-4c52-a27a-cf9d031475b9-c000.json\"\n",
    "expected_filename = \"../../../data/hand_annotated_abstracts/answers/hand_annotated_answers.csv\"\n",
    "returned_filepath = \"../../../data/hand_annotated_abstracts/results/\""
   ]
  },
  {
   "cell_type": "markdown",
   "metadata": {},
   "source": [
    "### 1.3: Define shared functions"
   ]
  },
  {
   "cell_type": "code",
   "execution_count": 184,
   "metadata": {},
   "outputs": [],
   "source": [
    "def get_ner_model_results_from_json(\n",
    "    model: str, input_filename: str, output_filepath: str, render: bool = False\n",
    ") -> None:\n",
    "    nlp = spacy.load(model)\n",
    "\n",
    "    with open(input_filename, \"r\") as f:\n",
    "        contents = [json.loads(json_line) for json_line in list(f)]\n",
    "\n",
    "        result_rows = []\n",
    "        for corpus in contents:\n",
    "            # Create results tuple for every entity in each abstract.\n",
    "            # Here\"s the boilerplate of every result in this abstract or corpus.\n",
    "            result = (corpus[\"id\"], corpus[\"pmid\"])\n",
    "\n",
    "            doc = nlp(corpus[\"data\"])\n",
    "\n",
    "            if render:\n",
    "                displacy.render(doc, style=\"ent\")\n",
    "                print(\"\\n\")\n",
    "\n",
    "            # This produces the entity, label and position\n",
    "            for x in doc.ents:\n",
    "                _entities = (\n",
    "                    x.text,\n",
    "                    x.label_,\n",
    "                    x.start_char,\n",
    "                    x.end_char,\n",
    "                )\n",
    "\n",
    "                result_rows.append(result + _entities)\n",
    "\n",
    "    result_cols = [\n",
    "        \"id\",\n",
    "        \"pmid\",\n",
    "        \"test_ent_text\",\n",
    "        \"test_ent_label\",\n",
    "        \"test_ent_start\",\n",
    "        \"test_ent_end\",\n",
    "    ]\n",
    "    results_df = pd.DataFrame.from_records(result_rows, columns=result_cols)\n",
    "    results_df = results_df.sort_values([\"id\", \"test_ent_start\"], ascending=(True, True))\n",
    "\n",
    "    output_filepath = Path(output_filepath)\n",
    "    output_filepath.mkdir(parents=True, exist_ok=True)\n",
    "    results_df.to_csv(Path(f\"{output_filepath}/{model}.csv\") , index=False)"
   ]
  },
  {
   "cell_type": "markdown",
   "metadata": {},
   "source": [
    "## 2: NER Model test runs\n",
    "\n",
    "These will produce results to CSV in this repo."
   ]
  },
  {
   "cell_type": "markdown",
   "metadata": {},
   "source": [
    "### 2.1: `en_core_sci_md`"
   ]
  },
  {
   "cell_type": "code",
   "execution_count": 218,
   "metadata": {},
   "outputs": [],
   "source": [
    "get_ner_model_results_from_json(model=\"en_core_sci_md\", input_filename=hand_annotated_pubmed_data_filename, output_filepath=returned_filepath, render=False)"
   ]
  },
  {
   "cell_type": "markdown",
   "metadata": {},
   "source": [
    "### 2.2: `en_core_sci_lg`"
   ]
  },
  {
   "cell_type": "code",
   "execution_count": 219,
   "metadata": {},
   "outputs": [],
   "source": [
    "get_ner_model_results_from_json(model=\"en_core_sci_lg\", input_filename=hand_annotated_pubmed_data_filename, output_filepath=returned_filepath, render=False)"
   ]
  },
  {
   "cell_type": "markdown",
   "metadata": {},
   "source": [
    "## 3: Analysis of NER Models"
   ]
  },
  {
   "cell_type": "markdown",
   "metadata": {},
   "source": [
    "### 3.1: Load `en_core_sci_md`"
   ]
  },
  {
   "cell_type": "code",
   "execution_count": null,
   "metadata": {},
   "outputs": [
    {
     "data": {
      "text/html": [
       "<div>\n",
       "<style scoped>\n",
       "    .dataframe tbody tr th:only-of-type {\n",
       "        vertical-align: middle;\n",
       "    }\n",
       "\n",
       "    .dataframe tbody tr th {\n",
       "        vertical-align: top;\n",
       "    }\n",
       "\n",
       "    .dataframe thead th {\n",
       "        text-align: right;\n",
       "    }\n",
       "</style>\n",
       "<table border=\"1\" class=\"dataframe\">\n",
       "  <thead>\n",
       "    <tr style=\"text-align: right;\">\n",
       "      <th></th>\n",
       "      <th>id</th>\n",
       "      <th>pmid</th>\n",
       "      <th>test_ent_text</th>\n",
       "      <th>test_ent_label</th>\n",
       "      <th>test_ent_start</th>\n",
       "      <th>test_ent_end</th>\n",
       "    </tr>\n",
       "  </thead>\n",
       "  <tbody>\n",
       "    <tr>\n",
       "      <th>0</th>\n",
       "      <td>23</td>\n",
       "      <td>33413787</td>\n",
       "      <td>Efficacy</td>\n",
       "      <td>ENTITY</td>\n",
       "      <td>0</td>\n",
       "      <td>8</td>\n",
       "    </tr>\n",
       "    <tr>\n",
       "      <th>1</th>\n",
       "      <td>23</td>\n",
       "      <td>33413787</td>\n",
       "      <td>Safety</td>\n",
       "      <td>ENTITY</td>\n",
       "      <td>13</td>\n",
       "      <td>19</td>\n",
       "    </tr>\n",
       "    <tr>\n",
       "      <th>2</th>\n",
       "      <td>23</td>\n",
       "      <td>33413787</td>\n",
       "      <td>Centella Asiatica</td>\n",
       "      <td>ENTITY</td>\n",
       "      <td>23</td>\n",
       "      <td>40</td>\n",
       "    </tr>\n",
       "    <tr>\n",
       "      <th>3</th>\n",
       "      <td>23</td>\n",
       "      <td>33413787</td>\n",
       "      <td>Wrinkles</td>\n",
       "      <td>ENTITY</td>\n",
       "      <td>54</td>\n",
       "      <td>62</td>\n",
       "    </tr>\n",
       "    <tr>\n",
       "      <th>4</th>\n",
       "      <td>23</td>\n",
       "      <td>33413787</td>\n",
       "      <td>Systematic Review</td>\n",
       "      <td>ENTITY</td>\n",
       "      <td>66</td>\n",
       "      <td>83</td>\n",
       "    </tr>\n",
       "    <tr>\n",
       "      <th>5</th>\n",
       "      <td>23</td>\n",
       "      <td>33413787</td>\n",
       "      <td>Published Data</td>\n",
       "      <td>ENTITY</td>\n",
       "      <td>87</td>\n",
       "      <td>101</td>\n",
       "    </tr>\n",
       "    <tr>\n",
       "      <th>6</th>\n",
       "      <td>23</td>\n",
       "      <td>33413787</td>\n",
       "      <td>Network Meta-Analysis</td>\n",
       "      <td>ENTITY</td>\n",
       "      <td>106</td>\n",
       "      <td>127</td>\n",
       "    </tr>\n",
       "    <tr>\n",
       "      <th>7</th>\n",
       "      <td>23</td>\n",
       "      <td>33413787</td>\n",
       "      <td>Centella asiatica</td>\n",
       "      <td>ENTITY</td>\n",
       "      <td>129</td>\n",
       "      <td>146</td>\n",
       "    </tr>\n",
       "    <tr>\n",
       "      <th>8</th>\n",
       "      <td>23</td>\n",
       "      <td>33413787</td>\n",
       "      <td>applications</td>\n",
       "      <td>ENTITY</td>\n",
       "      <td>156</td>\n",
       "      <td>168</td>\n",
       "    </tr>\n",
       "    <tr>\n",
       "      <th>9</th>\n",
       "      <td>23</td>\n",
       "      <td>33413787</td>\n",
       "      <td>cosmetics</td>\n",
       "      <td>ENTITY</td>\n",
       "      <td>172</td>\n",
       "      <td>181</td>\n",
       "    </tr>\n",
       "  </tbody>\n",
       "</table>\n",
       "</div>"
      ],
      "text/plain": [
       "   id      pmid          test_ent_text test_ent_label  test_ent_start  \\\n",
       "0  23  33413787               Efficacy         ENTITY               0   \n",
       "1  23  33413787                 Safety         ENTITY              13   \n",
       "2  23  33413787      Centella Asiatica         ENTITY              23   \n",
       "3  23  33413787               Wrinkles         ENTITY              54   \n",
       "4  23  33413787      Systematic Review         ENTITY              66   \n",
       "5  23  33413787         Published Data         ENTITY              87   \n",
       "6  23  33413787  Network Meta-Analysis         ENTITY             106   \n",
       "7  23  33413787      Centella asiatica         ENTITY             129   \n",
       "8  23  33413787           applications         ENTITY             156   \n",
       "9  23  33413787              cosmetics         ENTITY             172   \n",
       "\n",
       "   test_ent_end  \n",
       "0             8  \n",
       "1            19  \n",
       "2            40  \n",
       "3            62  \n",
       "4            83  \n",
       "5           101  \n",
       "6           127  \n",
       "7           146  \n",
       "8           168  \n",
       "9           181  "
      ]
     },
     "execution_count": 104,
     "metadata": {},
     "output_type": "execute_result"
    }
   ],
   "source": [
    "# Load the results of this model\n",
    "en_core_sci_md_results_df = pd.read_csv(os.path.join(returned_filepath, \"en_core_sci_md.csv\"))\n",
    "en_core_sci_md_results_df.head(10)"
   ]
  },
  {
   "cell_type": "code",
   "execution_count": null,
   "metadata": {},
   "outputs": [
    {
     "data": {
      "text/plain": [
       "test_ent_label\n",
       "ENTITY    856\n",
       "dtype: int64"
      ]
     },
     "execution_count": 105,
     "metadata": {},
     "output_type": "execute_result"
    }
   ],
   "source": [
    "# Split of entity labels\n",
    "en_core_sci_md_results_df.value_counts(\"test_ent_label\")"
   ]
  },
  {
   "cell_type": "code",
   "execution_count": null,
   "metadata": {},
   "outputs": [
    {
     "data": {
      "text/plain": [
       "856"
      ]
     },
     "execution_count": 106,
     "metadata": {},
     "output_type": "execute_result"
    }
   ],
   "source": [
    "# Total number of entities returned\n",
    "len(en_core_sci_md_results_df)"
   ]
  },
  {
   "cell_type": "code",
   "execution_count": null,
   "metadata": {},
   "outputs": [
    {
     "data": {
      "text/html": [
       "<div>\n",
       "<style scoped>\n",
       "    .dataframe tbody tr th:only-of-type {\n",
       "        vertical-align: middle;\n",
       "    }\n",
       "\n",
       "    .dataframe tbody tr th {\n",
       "        vertical-align: top;\n",
       "    }\n",
       "\n",
       "    .dataframe thead tr th {\n",
       "        text-align: left;\n",
       "    }\n",
       "\n",
       "    .dataframe thead tr:last-of-type th {\n",
       "        text-align: right;\n",
       "    }\n",
       "</style>\n",
       "<table border=\"1\" class=\"dataframe\">\n",
       "  <thead>\n",
       "    <tr>\n",
       "      <th></th>\n",
       "      <th colspan=\"2\" halign=\"left\">test_ent_label</th>\n",
       "    </tr>\n",
       "    <tr>\n",
       "      <th></th>\n",
       "      <th>count</th>\n",
       "      <th>nunique</th>\n",
       "    </tr>\n",
       "    <tr>\n",
       "      <th>id</th>\n",
       "      <th></th>\n",
       "      <th></th>\n",
       "    </tr>\n",
       "  </thead>\n",
       "  <tbody>\n",
       "    <tr>\n",
       "      <th>23</th>\n",
       "      <td>81</td>\n",
       "      <td>1</td>\n",
       "    </tr>\n",
       "    <tr>\n",
       "      <th>24</th>\n",
       "      <td>20</td>\n",
       "      <td>1</td>\n",
       "    </tr>\n",
       "    <tr>\n",
       "      <th>25</th>\n",
       "      <td>88</td>\n",
       "      <td>1</td>\n",
       "    </tr>\n",
       "    <tr>\n",
       "      <th>26</th>\n",
       "      <td>97</td>\n",
       "      <td>1</td>\n",
       "    </tr>\n",
       "    <tr>\n",
       "      <th>27</th>\n",
       "      <td>101</td>\n",
       "      <td>1</td>\n",
       "    </tr>\n",
       "    <tr>\n",
       "      <th>28</th>\n",
       "      <td>19</td>\n",
       "      <td>1</td>\n",
       "    </tr>\n",
       "    <tr>\n",
       "      <th>29</th>\n",
       "      <td>14</td>\n",
       "      <td>1</td>\n",
       "    </tr>\n",
       "    <tr>\n",
       "      <th>30</th>\n",
       "      <td>21</td>\n",
       "      <td>1</td>\n",
       "    </tr>\n",
       "    <tr>\n",
       "      <th>31</th>\n",
       "      <td>60</td>\n",
       "      <td>1</td>\n",
       "    </tr>\n",
       "    <tr>\n",
       "      <th>32</th>\n",
       "      <td>44</td>\n",
       "      <td>1</td>\n",
       "    </tr>\n",
       "    <tr>\n",
       "      <th>33</th>\n",
       "      <td>51</td>\n",
       "      <td>1</td>\n",
       "    </tr>\n",
       "    <tr>\n",
       "      <th>34</th>\n",
       "      <td>18</td>\n",
       "      <td>1</td>\n",
       "    </tr>\n",
       "    <tr>\n",
       "      <th>35</th>\n",
       "      <td>33</td>\n",
       "      <td>1</td>\n",
       "    </tr>\n",
       "    <tr>\n",
       "      <th>36</th>\n",
       "      <td>72</td>\n",
       "      <td>1</td>\n",
       "    </tr>\n",
       "    <tr>\n",
       "      <th>37</th>\n",
       "      <td>137</td>\n",
       "      <td>1</td>\n",
       "    </tr>\n",
       "  </tbody>\n",
       "</table>\n",
       "</div>"
      ],
      "text/plain": [
       "   test_ent_label        \n",
       "            count nunique\n",
       "id                       \n",
       "23             81       1\n",
       "24             20       1\n",
       "25             88       1\n",
       "26             97       1\n",
       "27            101       1\n",
       "28             19       1\n",
       "29             14       1\n",
       "30             21       1\n",
       "31             60       1\n",
       "32             44       1\n",
       "33             51       1\n",
       "34             18       1\n",
       "35             33       1\n",
       "36             72       1\n",
       "37            137       1"
      ]
     },
     "execution_count": 107,
     "metadata": {},
     "output_type": "execute_result"
    }
   ],
   "source": [
    "# Number of entities and unique entities for each abstract\n",
    "en_core_sci_md_results_df[[\"id\", \"test_ent_label\"]].groupby(\"id\").agg([\"count\", \"nunique\"])"
   ]
  },
  {
   "cell_type": "code",
   "execution_count": null,
   "metadata": {},
   "outputs": [],
   "source": [
    "# Rename columns\n",
    "list(en_core_sci_md_results_df.columns)\n",
    "columns = [\n",
    "    \"id\",\n",
    "    \"test_ent_text\",\n",
    "    \"test_ent_label\",\n",
    "    \"test_ent_start\",\n",
    "    \"test_ent_end\"\n",
    "]\n",
    "\n",
    "en_core_sci_md_results_df = en_core_sci_md_results_df[columns]\n",
    "\n",
    "columns = {\n",
    "    \"id\": \"id\",\n",
    "    \"test_ent_text\": \"ent_text\",\n",
    "    \"test_ent_label\": \"ent_label\",\n",
    "    \"test_ent_start\": \"ent_start\",\n",
    "    \"test_ent_end\": \"ent_end\",\n",
    "}\n",
    "\n",
    "en_core_sci_md_results_df = en_core_sci_md_results_df.rename(columns=columns)"
   ]
  },
  {
   "cell_type": "markdown",
   "metadata": {},
   "source": [
    "### 3.2: Load `en_core_sci_lg`"
   ]
  },
  {
   "cell_type": "code",
   "execution_count": null,
   "metadata": {},
   "outputs": [
    {
     "data": {
      "text/html": [
       "<div>\n",
       "<style scoped>\n",
       "    .dataframe tbody tr th:only-of-type {\n",
       "        vertical-align: middle;\n",
       "    }\n",
       "\n",
       "    .dataframe tbody tr th {\n",
       "        vertical-align: top;\n",
       "    }\n",
       "\n",
       "    .dataframe thead th {\n",
       "        text-align: right;\n",
       "    }\n",
       "</style>\n",
       "<table border=\"1\" class=\"dataframe\">\n",
       "  <thead>\n",
       "    <tr style=\"text-align: right;\">\n",
       "      <th></th>\n",
       "      <th>id</th>\n",
       "      <th>pmid</th>\n",
       "      <th>test_ent_text</th>\n",
       "      <th>test_ent_label</th>\n",
       "      <th>test_ent_start</th>\n",
       "      <th>test_ent_end</th>\n",
       "    </tr>\n",
       "  </thead>\n",
       "  <tbody>\n",
       "    <tr>\n",
       "      <th>0</th>\n",
       "      <td>23</td>\n",
       "      <td>33413787</td>\n",
       "      <td>Efficacy</td>\n",
       "      <td>ENTITY</td>\n",
       "      <td>0</td>\n",
       "      <td>8</td>\n",
       "    </tr>\n",
       "    <tr>\n",
       "      <th>1</th>\n",
       "      <td>23</td>\n",
       "      <td>33413787</td>\n",
       "      <td>Safety</td>\n",
       "      <td>ENTITY</td>\n",
       "      <td>13</td>\n",
       "      <td>19</td>\n",
       "    </tr>\n",
       "    <tr>\n",
       "      <th>2</th>\n",
       "      <td>23</td>\n",
       "      <td>33413787</td>\n",
       "      <td>Centella Asiatica</td>\n",
       "      <td>ENTITY</td>\n",
       "      <td>23</td>\n",
       "      <td>40</td>\n",
       "    </tr>\n",
       "    <tr>\n",
       "      <th>3</th>\n",
       "      <td>23</td>\n",
       "      <td>33413787</td>\n",
       "      <td>Wrinkles</td>\n",
       "      <td>ENTITY</td>\n",
       "      <td>54</td>\n",
       "      <td>62</td>\n",
       "    </tr>\n",
       "    <tr>\n",
       "      <th>4</th>\n",
       "      <td>23</td>\n",
       "      <td>33413787</td>\n",
       "      <td>Systematic Review</td>\n",
       "      <td>ENTITY</td>\n",
       "      <td>66</td>\n",
       "      <td>83</td>\n",
       "    </tr>\n",
       "    <tr>\n",
       "      <th>5</th>\n",
       "      <td>23</td>\n",
       "      <td>33413787</td>\n",
       "      <td>Published Data</td>\n",
       "      <td>ENTITY</td>\n",
       "      <td>87</td>\n",
       "      <td>101</td>\n",
       "    </tr>\n",
       "    <tr>\n",
       "      <th>6</th>\n",
       "      <td>23</td>\n",
       "      <td>33413787</td>\n",
       "      <td>Network Meta-Analysis</td>\n",
       "      <td>ENTITY</td>\n",
       "      <td>106</td>\n",
       "      <td>127</td>\n",
       "    </tr>\n",
       "    <tr>\n",
       "      <th>7</th>\n",
       "      <td>23</td>\n",
       "      <td>33413787</td>\n",
       "      <td>Centella asiatica</td>\n",
       "      <td>ENTITY</td>\n",
       "      <td>129</td>\n",
       "      <td>146</td>\n",
       "    </tr>\n",
       "    <tr>\n",
       "      <th>8</th>\n",
       "      <td>23</td>\n",
       "      <td>33413787</td>\n",
       "      <td>cosmetics</td>\n",
       "      <td>ENTITY</td>\n",
       "      <td>172</td>\n",
       "      <td>181</td>\n",
       "    </tr>\n",
       "    <tr>\n",
       "      <th>9</th>\n",
       "      <td>23</td>\n",
       "      <td>33413787</td>\n",
       "      <td>wrinkle</td>\n",
       "      <td>ENTITY</td>\n",
       "      <td>193</td>\n",
       "      <td>200</td>\n",
       "    </tr>\n",
       "  </tbody>\n",
       "</table>\n",
       "</div>"
      ],
      "text/plain": [
       "   id      pmid          test_ent_text test_ent_label  test_ent_start  \\\n",
       "0  23  33413787               Efficacy         ENTITY               0   \n",
       "1  23  33413787                 Safety         ENTITY              13   \n",
       "2  23  33413787      Centella Asiatica         ENTITY              23   \n",
       "3  23  33413787               Wrinkles         ENTITY              54   \n",
       "4  23  33413787      Systematic Review         ENTITY              66   \n",
       "5  23  33413787         Published Data         ENTITY              87   \n",
       "6  23  33413787  Network Meta-Analysis         ENTITY             106   \n",
       "7  23  33413787      Centella asiatica         ENTITY             129   \n",
       "8  23  33413787              cosmetics         ENTITY             172   \n",
       "9  23  33413787                wrinkle         ENTITY             193   \n",
       "\n",
       "   test_ent_end  \n",
       "0             8  \n",
       "1            19  \n",
       "2            40  \n",
       "3            62  \n",
       "4            83  \n",
       "5           101  \n",
       "6           127  \n",
       "7           146  \n",
       "8           181  \n",
       "9           200  "
      ]
     },
     "execution_count": 62,
     "metadata": {},
     "output_type": "execute_result"
    }
   ],
   "source": [
    "# Load the results of this model\n",
    "en_core_sci_lg_results_df = pd.read_csv(os.path.join(returned_filepath, \"en_core_sci_lg.csv\"))\n",
    "en_core_sci_lg_results_df.head(10)"
   ]
  },
  {
   "cell_type": "code",
   "execution_count": null,
   "metadata": {},
   "outputs": [
    {
     "data": {
      "text/plain": [
       "test_ent_label\n",
       "ENTITY    843\n",
       "dtype: int64"
      ]
     },
     "execution_count": 26,
     "metadata": {},
     "output_type": "execute_result"
    }
   ],
   "source": [
    "# Split of entity labels\n",
    "en_core_sci_lg_results_df.value_counts(\"test_ent_label\")"
   ]
  },
  {
   "cell_type": "code",
   "execution_count": null,
   "metadata": {},
   "outputs": [
    {
     "data": {
      "text/plain": [
       "843"
      ]
     },
     "execution_count": 27,
     "metadata": {},
     "output_type": "execute_result"
    }
   ],
   "source": [
    "# Total number of entities returned\n",
    "len(en_core_sci_lg_results_df)"
   ]
  },
  {
   "cell_type": "code",
   "execution_count": null,
   "metadata": {},
   "outputs": [
    {
     "data": {
      "text/html": [
       "<div>\n",
       "<style scoped>\n",
       "    .dataframe tbody tr th:only-of-type {\n",
       "        vertical-align: middle;\n",
       "    }\n",
       "\n",
       "    .dataframe tbody tr th {\n",
       "        vertical-align: top;\n",
       "    }\n",
       "\n",
       "    .dataframe thead tr th {\n",
       "        text-align: left;\n",
       "    }\n",
       "\n",
       "    .dataframe thead tr:last-of-type th {\n",
       "        text-align: right;\n",
       "    }\n",
       "</style>\n",
       "<table border=\"1\" class=\"dataframe\">\n",
       "  <thead>\n",
       "    <tr>\n",
       "      <th></th>\n",
       "      <th colspan=\"2\" halign=\"left\">test_ent_label</th>\n",
       "    </tr>\n",
       "    <tr>\n",
       "      <th></th>\n",
       "      <th>count</th>\n",
       "      <th>nunique</th>\n",
       "    </tr>\n",
       "    <tr>\n",
       "      <th>id</th>\n",
       "      <th></th>\n",
       "      <th></th>\n",
       "    </tr>\n",
       "  </thead>\n",
       "  <tbody>\n",
       "    <tr>\n",
       "      <th>23</th>\n",
       "      <td>85</td>\n",
       "      <td>1</td>\n",
       "    </tr>\n",
       "    <tr>\n",
       "      <th>24</th>\n",
       "      <td>18</td>\n",
       "      <td>1</td>\n",
       "    </tr>\n",
       "    <tr>\n",
       "      <th>25</th>\n",
       "      <td>87</td>\n",
       "      <td>1</td>\n",
       "    </tr>\n",
       "    <tr>\n",
       "      <th>26</th>\n",
       "      <td>99</td>\n",
       "      <td>1</td>\n",
       "    </tr>\n",
       "    <tr>\n",
       "      <th>27</th>\n",
       "      <td>97</td>\n",
       "      <td>1</td>\n",
       "    </tr>\n",
       "    <tr>\n",
       "      <th>28</th>\n",
       "      <td>20</td>\n",
       "      <td>1</td>\n",
       "    </tr>\n",
       "    <tr>\n",
       "      <th>29</th>\n",
       "      <td>15</td>\n",
       "      <td>1</td>\n",
       "    </tr>\n",
       "    <tr>\n",
       "      <th>30</th>\n",
       "      <td>20</td>\n",
       "      <td>1</td>\n",
       "    </tr>\n",
       "    <tr>\n",
       "      <th>31</th>\n",
       "      <td>62</td>\n",
       "      <td>1</td>\n",
       "    </tr>\n",
       "    <tr>\n",
       "      <th>32</th>\n",
       "      <td>45</td>\n",
       "      <td>1</td>\n",
       "    </tr>\n",
       "    <tr>\n",
       "      <th>33</th>\n",
       "      <td>46</td>\n",
       "      <td>1</td>\n",
       "    </tr>\n",
       "    <tr>\n",
       "      <th>34</th>\n",
       "      <td>18</td>\n",
       "      <td>1</td>\n",
       "    </tr>\n",
       "    <tr>\n",
       "      <th>35</th>\n",
       "      <td>33</td>\n",
       "      <td>1</td>\n",
       "    </tr>\n",
       "    <tr>\n",
       "      <th>36</th>\n",
       "      <td>68</td>\n",
       "      <td>1</td>\n",
       "    </tr>\n",
       "    <tr>\n",
       "      <th>37</th>\n",
       "      <td>130</td>\n",
       "      <td>1</td>\n",
       "    </tr>\n",
       "  </tbody>\n",
       "</table>\n",
       "</div>"
      ],
      "text/plain": [
       "   test_ent_label        \n",
       "            count nunique\n",
       "id                       \n",
       "23             85       1\n",
       "24             18       1\n",
       "25             87       1\n",
       "26             99       1\n",
       "27             97       1\n",
       "28             20       1\n",
       "29             15       1\n",
       "30             20       1\n",
       "31             62       1\n",
       "32             45       1\n",
       "33             46       1\n",
       "34             18       1\n",
       "35             33       1\n",
       "36             68       1\n",
       "37            130       1"
      ]
     },
     "execution_count": 28,
     "metadata": {},
     "output_type": "execute_result"
    }
   ],
   "source": [
    "# Number of entities and unique entities for each abstract\n",
    "en_core_sci_lg_results_df[[\"id\", \"test_ent_label\"]].groupby(\"id\").agg([\"count\", \"nunique\"])"
   ]
  },
  {
   "cell_type": "code",
   "execution_count": null,
   "metadata": {},
   "outputs": [],
   "source": [
    "# Rename columns\n",
    "list(en_core_sci_lg_results_df.columns)\n",
    "columns = [\n",
    "    \"id\",\n",
    "    \"test_ent_text\",\n",
    "    \"test_ent_label\",\n",
    "    \"test_ent_start\",\n",
    "    \"test_ent_end\"\n",
    "]\n",
    "\n",
    "en_core_sci_lg_results_df = en_core_sci_lg_results_df[columns]\n",
    "columns = {\n",
    "    \"id\": \"id\",\n",
    "    \"test_ent_text\": \"ent_text\",\n",
    "    \"test_ent_label\": \"ent_label\",\n",
    "    \"test_ent_start\": \"ent_start\",\n",
    "    \"test_ent_end\": \"ent_end\",\n",
    "}\n",
    "\n",
    "en_core_sci_lg_results_df = en_core_sci_lg_results_df.rename(columns=columns)"
   ]
  },
  {
   "cell_type": "markdown",
   "metadata": {},
   "source": [
    "### 3.3 Load expected file and join to test results"
   ]
  },
  {
   "cell_type": "code",
   "execution_count": null,
   "metadata": {},
   "outputs": [
    {
     "data": {
      "text/html": [
       "<div>\n",
       "<style scoped>\n",
       "    .dataframe tbody tr th:only-of-type {\n",
       "        vertical-align: middle;\n",
       "    }\n",
       "\n",
       "    .dataframe tbody tr th {\n",
       "        vertical-align: top;\n",
       "    }\n",
       "\n",
       "    .dataframe thead th {\n",
       "        text-align: right;\n",
       "    }\n",
       "</style>\n",
       "<table border=\"1\" class=\"dataframe\">\n",
       "  <thead>\n",
       "    <tr style=\"text-align: right;\">\n",
       "      <th></th>\n",
       "      <th>id</th>\n",
       "      <th>ent_text</th>\n",
       "      <th>ent_label</th>\n",
       "      <th>ent_start</th>\n",
       "      <th>ent_end</th>\n",
       "    </tr>\n",
       "  </thead>\n",
       "  <tbody>\n",
       "    <tr>\n",
       "      <th>0</th>\n",
       "      <td>23</td>\n",
       "      <td>Centella Asiatica (L.) Urb.</td>\n",
       "      <td>scientific</td>\n",
       "      <td>23</td>\n",
       "      <td>50</td>\n",
       "    </tr>\n",
       "    <tr>\n",
       "      <th>1</th>\n",
       "      <td>23</td>\n",
       "      <td>Centella asiatica</td>\n",
       "      <td>common</td>\n",
       "      <td>129</td>\n",
       "      <td>146</td>\n",
       "    </tr>\n",
       "    <tr>\n",
       "      <th>2</th>\n",
       "      <td>24</td>\n",
       "      <td>Centella asiatica (L.) Urban</td>\n",
       "      <td>scientific</td>\n",
       "      <td>168</td>\n",
       "      <td>196</td>\n",
       "    </tr>\n",
       "    <tr>\n",
       "      <th>3</th>\n",
       "      <td>25</td>\n",
       "      <td>Centella asiatica</td>\n",
       "      <td>common</td>\n",
       "      <td>40</td>\n",
       "      <td>57</td>\n",
       "    </tr>\n",
       "    <tr>\n",
       "      <th>4</th>\n",
       "      <td>25</td>\n",
       "      <td>Centella asiatica (L.) Urb.</td>\n",
       "      <td>scientific</td>\n",
       "      <td>110</td>\n",
       "      <td>137</td>\n",
       "    </tr>\n",
       "  </tbody>\n",
       "</table>\n",
       "</div>"
      ],
      "text/plain": [
       "   id                      ent_text   ent_label  ent_start  ent_end\n",
       "0  23   Centella Asiatica (L.) Urb.  scientific         23       50\n",
       "1  23             Centella asiatica      common        129      146\n",
       "2  24  Centella asiatica (L.) Urban  scientific        168      196\n",
       "3  25             Centella asiatica      common         40       57\n",
       "4  25   Centella asiatica (L.) Urb.  scientific        110      137"
      ]
     },
     "execution_count": 110,
     "metadata": {},
     "output_type": "execute_result"
    }
   ],
   "source": [
    "expected_df = pd.read_csv(expected_filename)\n",
    "# Rename columns\n",
    "list(expected_df.columns)\n",
    "columns = [\n",
    "    \"id\",\n",
    "    \"hand_ent_text\",\n",
    "    \"hand_ent_label\",\n",
    "    \"hand_ent_start\",\n",
    "    \"hand_ent_end\"\n",
    "]\n",
    "\n",
    "expected_df = expected_df[columns]\n",
    "columns = {\n",
    "    \"id\": \"id\",\n",
    "    \"hand_ent_text\": \"ent_text\",\n",
    "    \"hand_ent_label\": \"ent_label\",\n",
    "    \"hand_ent_start\": \"ent_start\",\n",
    "    \"hand_ent_end\": \"ent_end\",\n",
    "}\n",
    "\n",
    "expected_df = expected_df.rename(columns=columns)\n",
    "\n",
    "expected_df.head(5)"
   ]
  },
  {
   "cell_type": "code",
   "execution_count": null,
   "metadata": {},
   "outputs": [
    {
     "data": {
      "text/html": [
       "<div>\n",
       "<style scoped>\n",
       "    .dataframe tbody tr th:only-of-type {\n",
       "        vertical-align: middle;\n",
       "    }\n",
       "\n",
       "    .dataframe tbody tr th {\n",
       "        vertical-align: top;\n",
       "    }\n",
       "\n",
       "    .dataframe thead th {\n",
       "        text-align: right;\n",
       "    }\n",
       "</style>\n",
       "<table border=\"1\" class=\"dataframe\">\n",
       "  <thead>\n",
       "    <tr style=\"text-align: right;\">\n",
       "      <th></th>\n",
       "      <th>id</th>\n",
       "      <th>ent_text</th>\n",
       "      <th>ent_label_sci_md</th>\n",
       "      <th>ent_label_sci_lg</th>\n",
       "      <th>ent_label_hand</th>\n",
       "      <th>ent_start</th>\n",
       "      <th>ent_end</th>\n",
       "    </tr>\n",
       "  </thead>\n",
       "  <tbody>\n",
       "    <tr>\n",
       "      <th>0</th>\n",
       "      <td>23</td>\n",
       "      <td>Efficacy</td>\n",
       "      <td>ENTITY</td>\n",
       "      <td>ENTITY</td>\n",
       "      <td>NaN</td>\n",
       "      <td>0</td>\n",
       "      <td>8</td>\n",
       "    </tr>\n",
       "    <tr>\n",
       "      <th>1</th>\n",
       "      <td>23</td>\n",
       "      <td>Safety</td>\n",
       "      <td>ENTITY</td>\n",
       "      <td>ENTITY</td>\n",
       "      <td>NaN</td>\n",
       "      <td>13</td>\n",
       "      <td>19</td>\n",
       "    </tr>\n",
       "    <tr>\n",
       "      <th>2</th>\n",
       "      <td>23</td>\n",
       "      <td>Centella Asiatica</td>\n",
       "      <td>ENTITY</td>\n",
       "      <td>ENTITY</td>\n",
       "      <td>NaN</td>\n",
       "      <td>23</td>\n",
       "      <td>40</td>\n",
       "    </tr>\n",
       "    <tr>\n",
       "      <th>3</th>\n",
       "      <td>23</td>\n",
       "      <td>Wrinkles</td>\n",
       "      <td>ENTITY</td>\n",
       "      <td>ENTITY</td>\n",
       "      <td>NaN</td>\n",
       "      <td>54</td>\n",
       "      <td>62</td>\n",
       "    </tr>\n",
       "    <tr>\n",
       "      <th>4</th>\n",
       "      <td>23</td>\n",
       "      <td>Systematic Review</td>\n",
       "      <td>ENTITY</td>\n",
       "      <td>ENTITY</td>\n",
       "      <td>NaN</td>\n",
       "      <td>66</td>\n",
       "      <td>83</td>\n",
       "    </tr>\n",
       "    <tr>\n",
       "      <th>5</th>\n",
       "      <td>23</td>\n",
       "      <td>Published Data</td>\n",
       "      <td>ENTITY</td>\n",
       "      <td>ENTITY</td>\n",
       "      <td>NaN</td>\n",
       "      <td>87</td>\n",
       "      <td>101</td>\n",
       "    </tr>\n",
       "    <tr>\n",
       "      <th>6</th>\n",
       "      <td>23</td>\n",
       "      <td>Network Meta-Analysis</td>\n",
       "      <td>ENTITY</td>\n",
       "      <td>ENTITY</td>\n",
       "      <td>NaN</td>\n",
       "      <td>106</td>\n",
       "      <td>127</td>\n",
       "    </tr>\n",
       "    <tr>\n",
       "      <th>7</th>\n",
       "      <td>23</td>\n",
       "      <td>Centella asiatica</td>\n",
       "      <td>ENTITY</td>\n",
       "      <td>ENTITY</td>\n",
       "      <td>common</td>\n",
       "      <td>129</td>\n",
       "      <td>146</td>\n",
       "    </tr>\n",
       "    <tr>\n",
       "      <th>8</th>\n",
       "      <td>23</td>\n",
       "      <td>cosmetics</td>\n",
       "      <td>ENTITY</td>\n",
       "      <td>ENTITY</td>\n",
       "      <td>NaN</td>\n",
       "      <td>172</td>\n",
       "      <td>181</td>\n",
       "    </tr>\n",
       "    <tr>\n",
       "      <th>9</th>\n",
       "      <td>23</td>\n",
       "      <td>wrinkle</td>\n",
       "      <td>NaN</td>\n",
       "      <td>ENTITY</td>\n",
       "      <td>NaN</td>\n",
       "      <td>193</td>\n",
       "      <td>200</td>\n",
       "    </tr>\n",
       "  </tbody>\n",
       "</table>\n",
       "</div>"
      ],
      "text/plain": [
       "   id               ent_text ent_label_sci_md ent_label_sci_lg ent_label_hand  \\\n",
       "0  23               Efficacy           ENTITY           ENTITY            NaN   \n",
       "1  23                 Safety           ENTITY           ENTITY            NaN   \n",
       "2  23      Centella Asiatica           ENTITY           ENTITY            NaN   \n",
       "3  23               Wrinkles           ENTITY           ENTITY            NaN   \n",
       "4  23      Systematic Review           ENTITY           ENTITY            NaN   \n",
       "5  23         Published Data           ENTITY           ENTITY            NaN   \n",
       "6  23  Network Meta-Analysis           ENTITY           ENTITY            NaN   \n",
       "7  23      Centella asiatica           ENTITY           ENTITY         common   \n",
       "8  23              cosmetics           ENTITY           ENTITY            NaN   \n",
       "9  23                wrinkle              NaN           ENTITY            NaN   \n",
       "\n",
       "   ent_start  ent_end  \n",
       "0          0        8  \n",
       "1         13       19  \n",
       "2         23       40  \n",
       "3         54       62  \n",
       "4         66       83  \n",
       "5         87      101  \n",
       "6        106      127  \n",
       "7        129      146  \n",
       "8        172      181  \n",
       "9        193      200  "
      ]
     },
     "execution_count": 111,
     "metadata": {},
     "output_type": "execute_result"
    }
   ],
   "source": [
    "all_results_df = en_core_sci_md_results_df.merge(expected_df, on=[\"id\", \"ent_text\", \"ent_start\", \"ent_end\"], how=\"outer\", suffixes=(\"_sci_md\", \"_hand\"))\n",
    "all_results_df = en_core_sci_lg_results_df.merge(all_results_df, on=[\"id\", \"ent_text\", \"ent_start\", \"ent_end\"], how=\"outer\", suffixes=(\"_sci_lg\", None))\n",
    "\n",
    "# Tidy column headings and rearrange the columns for reading\n",
    "all_results_df = all_results_df.rename(columns={\"ent_label\": \"ent_label_sci_lg\"})\n",
    "# list(results_df.columns)\n",
    "\n",
    "columns = [\n",
    "    \"id\",\n",
    "    \"ent_text\",\n",
    "    \"ent_label_sci_md\",\n",
    "    \"ent_label_sci_lg\",\n",
    "    \"ent_label_hand\",\n",
    "    \"ent_start\",\n",
    "    \"ent_end\"\n",
    "]\n",
    "all_results_df = all_results_df[columns]\n",
    "all_results_df.head(10)"
   ]
  },
  {
   "cell_type": "code",
   "execution_count": 217,
   "metadata": {},
   "outputs": [
    {
     "data": {
      "text/html": [
       "<div>\n",
       "<style scoped>\n",
       "    .dataframe tbody tr th:only-of-type {\n",
       "        vertical-align: middle;\n",
       "    }\n",
       "\n",
       "    .dataframe tbody tr th {\n",
       "        vertical-align: top;\n",
       "    }\n",
       "\n",
       "    .dataframe thead th {\n",
       "        text-align: right;\n",
       "    }\n",
       "</style>\n",
       "<table border=\"1\" class=\"dataframe\">\n",
       "  <thead>\n",
       "    <tr style=\"text-align: right;\">\n",
       "      <th></th>\n",
       "      <th>id</th>\n",
       "      <th>ent_text</th>\n",
       "      <th>ent_label_sci_md</th>\n",
       "      <th>ent_label_hand</th>\n",
       "      <th>ent_start</th>\n",
       "      <th>ent_end</th>\n",
       "    </tr>\n",
       "  </thead>\n",
       "  <tbody>\n",
       "    <tr>\n",
       "      <th>0</th>\n",
       "      <td>23</td>\n",
       "      <td>Efficacy</td>\n",
       "      <td>ENTITY</td>\n",
       "      <td>NaN</td>\n",
       "      <td>0</td>\n",
       "      <td>8</td>\n",
       "    </tr>\n",
       "    <tr>\n",
       "      <th>1</th>\n",
       "      <td>23</td>\n",
       "      <td>Safety</td>\n",
       "      <td>ENTITY</td>\n",
       "      <td>NaN</td>\n",
       "      <td>13</td>\n",
       "      <td>19</td>\n",
       "    </tr>\n",
       "    <tr>\n",
       "      <th>2</th>\n",
       "      <td>23</td>\n",
       "      <td>Centella Asiatica</td>\n",
       "      <td>ENTITY</td>\n",
       "      <td>NaN</td>\n",
       "      <td>23</td>\n",
       "      <td>40</td>\n",
       "    </tr>\n",
       "    <tr>\n",
       "      <th>3</th>\n",
       "      <td>23</td>\n",
       "      <td>Wrinkles</td>\n",
       "      <td>ENTITY</td>\n",
       "      <td>NaN</td>\n",
       "      <td>54</td>\n",
       "      <td>62</td>\n",
       "    </tr>\n",
       "    <tr>\n",
       "      <th>4</th>\n",
       "      <td>23</td>\n",
       "      <td>Systematic Review</td>\n",
       "      <td>ENTITY</td>\n",
       "      <td>NaN</td>\n",
       "      <td>66</td>\n",
       "      <td>83</td>\n",
       "    </tr>\n",
       "    <tr>\n",
       "      <th>5</th>\n",
       "      <td>23</td>\n",
       "      <td>Published Data</td>\n",
       "      <td>ENTITY</td>\n",
       "      <td>NaN</td>\n",
       "      <td>87</td>\n",
       "      <td>101</td>\n",
       "    </tr>\n",
       "    <tr>\n",
       "      <th>6</th>\n",
       "      <td>23</td>\n",
       "      <td>Network Meta-Analysis</td>\n",
       "      <td>ENTITY</td>\n",
       "      <td>NaN</td>\n",
       "      <td>106</td>\n",
       "      <td>127</td>\n",
       "    </tr>\n",
       "    <tr>\n",
       "      <th>7</th>\n",
       "      <td>23</td>\n",
       "      <td>Centella asiatica</td>\n",
       "      <td>ENTITY</td>\n",
       "      <td>common</td>\n",
       "      <td>129</td>\n",
       "      <td>146</td>\n",
       "    </tr>\n",
       "    <tr>\n",
       "      <th>8</th>\n",
       "      <td>23</td>\n",
       "      <td>applications</td>\n",
       "      <td>ENTITY</td>\n",
       "      <td>NaN</td>\n",
       "      <td>156</td>\n",
       "      <td>168</td>\n",
       "    </tr>\n",
       "    <tr>\n",
       "      <th>9</th>\n",
       "      <td>23</td>\n",
       "      <td>cosmetics</td>\n",
       "      <td>ENTITY</td>\n",
       "      <td>NaN</td>\n",
       "      <td>172</td>\n",
       "      <td>181</td>\n",
       "    </tr>\n",
       "  </tbody>\n",
       "</table>\n",
       "</div>"
      ],
      "text/plain": [
       "   id               ent_text ent_label_sci_md ent_label_hand  ent_start  \\\n",
       "0  23               Efficacy           ENTITY            NaN          0   \n",
       "1  23                 Safety           ENTITY            NaN         13   \n",
       "2  23      Centella Asiatica           ENTITY            NaN         23   \n",
       "3  23               Wrinkles           ENTITY            NaN         54   \n",
       "4  23      Systematic Review           ENTITY            NaN         66   \n",
       "5  23         Published Data           ENTITY            NaN         87   \n",
       "6  23  Network Meta-Analysis           ENTITY            NaN        106   \n",
       "7  23      Centella asiatica           ENTITY         common        129   \n",
       "8  23           applications           ENTITY            NaN        156   \n",
       "9  23              cosmetics           ENTITY            NaN        172   \n",
       "\n",
       "   ent_end  \n",
       "0        8  \n",
       "1       19  \n",
       "2       40  \n",
       "3       62  \n",
       "4       83  \n",
       "5      101  \n",
       "6      127  \n",
       "7      146  \n",
       "8      168  \n",
       "9      181  "
      ]
     },
     "execution_count": 217,
     "metadata": {},
     "output_type": "execute_result"
    }
   ],
   "source": [
    "en_core_sci_md_results_and_expected_df = en_core_sci_md_results_df.merge(expected_df, on=[\"id\", \"ent_text\", \"ent_start\", \"ent_end\"], how=\"outer\", suffixes=(\"_sci_md\", \"_hand\"))\n",
    "\n",
    "# Tidy column headings and rearrange the columns for reading\n",
    "en_core_sci_md_results_and_expected_df = en_core_sci_md_results_and_expected_df.rename(columns={\"ent_label\": \"ent_label_sci_md\"})\n",
    "# list(results_df.columns)\n",
    "\n",
    "columns = [\n",
    "    \"id\",\n",
    "    \"ent_text\",\n",
    "    \"ent_label_sci_md\",\n",
    "    \"ent_label_hand\",\n",
    "    \"ent_start\",\n",
    "    \"ent_end\"\n",
    "]\n",
    "en_core_sci_md_results_and_expected_df = en_core_sci_md_results_and_expected_df[columns]\n",
    "en_core_sci_md_results_and_expected_df.head(10)"
   ]
  },
  {
   "cell_type": "code",
   "execution_count": null,
   "metadata": {},
   "outputs": [
    {
     "data": {
      "text/html": [
       "<div>\n",
       "<style scoped>\n",
       "    .dataframe tbody tr th:only-of-type {\n",
       "        vertical-align: middle;\n",
       "    }\n",
       "\n",
       "    .dataframe tbody tr th {\n",
       "        vertical-align: top;\n",
       "    }\n",
       "\n",
       "    .dataframe thead th {\n",
       "        text-align: right;\n",
       "    }\n",
       "</style>\n",
       "<table border=\"1\" class=\"dataframe\">\n",
       "  <thead>\n",
       "    <tr style=\"text-align: right;\">\n",
       "      <th></th>\n",
       "      <th>id</th>\n",
       "      <th>ent_text</th>\n",
       "      <th>ent_label_sci_lg</th>\n",
       "      <th>ent_label_hand</th>\n",
       "      <th>ent_start</th>\n",
       "      <th>ent_end</th>\n",
       "    </tr>\n",
       "  </thead>\n",
       "  <tbody>\n",
       "    <tr>\n",
       "      <th>0</th>\n",
       "      <td>23</td>\n",
       "      <td>Efficacy</td>\n",
       "      <td>ENTITY</td>\n",
       "      <td>NaN</td>\n",
       "      <td>0</td>\n",
       "      <td>8</td>\n",
       "    </tr>\n",
       "    <tr>\n",
       "      <th>1</th>\n",
       "      <td>23</td>\n",
       "      <td>Safety</td>\n",
       "      <td>ENTITY</td>\n",
       "      <td>NaN</td>\n",
       "      <td>13</td>\n",
       "      <td>19</td>\n",
       "    </tr>\n",
       "    <tr>\n",
       "      <th>2</th>\n",
       "      <td>23</td>\n",
       "      <td>Centella Asiatica</td>\n",
       "      <td>ENTITY</td>\n",
       "      <td>NaN</td>\n",
       "      <td>23</td>\n",
       "      <td>40</td>\n",
       "    </tr>\n",
       "    <tr>\n",
       "      <th>3</th>\n",
       "      <td>23</td>\n",
       "      <td>Wrinkles</td>\n",
       "      <td>ENTITY</td>\n",
       "      <td>NaN</td>\n",
       "      <td>54</td>\n",
       "      <td>62</td>\n",
       "    </tr>\n",
       "    <tr>\n",
       "      <th>4</th>\n",
       "      <td>23</td>\n",
       "      <td>Systematic Review</td>\n",
       "      <td>ENTITY</td>\n",
       "      <td>NaN</td>\n",
       "      <td>66</td>\n",
       "      <td>83</td>\n",
       "    </tr>\n",
       "    <tr>\n",
       "      <th>5</th>\n",
       "      <td>23</td>\n",
       "      <td>Published Data</td>\n",
       "      <td>ENTITY</td>\n",
       "      <td>NaN</td>\n",
       "      <td>87</td>\n",
       "      <td>101</td>\n",
       "    </tr>\n",
       "    <tr>\n",
       "      <th>6</th>\n",
       "      <td>23</td>\n",
       "      <td>Network Meta-Analysis</td>\n",
       "      <td>ENTITY</td>\n",
       "      <td>NaN</td>\n",
       "      <td>106</td>\n",
       "      <td>127</td>\n",
       "    </tr>\n",
       "    <tr>\n",
       "      <th>7</th>\n",
       "      <td>23</td>\n",
       "      <td>Centella asiatica</td>\n",
       "      <td>ENTITY</td>\n",
       "      <td>common</td>\n",
       "      <td>129</td>\n",
       "      <td>146</td>\n",
       "    </tr>\n",
       "    <tr>\n",
       "      <th>8</th>\n",
       "      <td>23</td>\n",
       "      <td>cosmetics</td>\n",
       "      <td>ENTITY</td>\n",
       "      <td>NaN</td>\n",
       "      <td>172</td>\n",
       "      <td>181</td>\n",
       "    </tr>\n",
       "    <tr>\n",
       "      <th>9</th>\n",
       "      <td>23</td>\n",
       "      <td>wrinkle</td>\n",
       "      <td>ENTITY</td>\n",
       "      <td>NaN</td>\n",
       "      <td>193</td>\n",
       "      <td>200</td>\n",
       "    </tr>\n",
       "    <tr>\n",
       "      <th>10</th>\n",
       "      <td>23</td>\n",
       "      <td>treatments</td>\n",
       "      <td>ENTITY</td>\n",
       "      <td>NaN</td>\n",
       "      <td>201</td>\n",
       "      <td>211</td>\n",
       "    </tr>\n",
       "    <tr>\n",
       "      <th>11</th>\n",
       "      <td>23</td>\n",
       "      <td>effectiveness</td>\n",
       "      <td>ENTITY</td>\n",
       "      <td>NaN</td>\n",
       "      <td>221</td>\n",
       "      <td>234</td>\n",
       "    </tr>\n",
       "    <tr>\n",
       "      <th>12</th>\n",
       "      <td>23</td>\n",
       "      <td>systematic review study</td>\n",
       "      <td>ENTITY</td>\n",
       "      <td>NaN</td>\n",
       "      <td>265</td>\n",
       "      <td>288</td>\n",
       "    </tr>\n",
       "    <tr>\n",
       "      <th>13</th>\n",
       "      <td>23</td>\n",
       "      <td>efficacy</td>\n",
       "      <td>ENTITY</td>\n",
       "      <td>NaN</td>\n",
       "      <td>314</td>\n",
       "      <td>322</td>\n",
       "    </tr>\n",
       "    <tr>\n",
       "      <th>14</th>\n",
       "      <td>23</td>\n",
       "      <td>safety</td>\n",
       "      <td>ENTITY</td>\n",
       "      <td>NaN</td>\n",
       "      <td>327</td>\n",
       "      <td>333</td>\n",
       "    </tr>\n",
       "    <tr>\n",
       "      <th>15</th>\n",
       "      <td>23</td>\n",
       "      <td>C. asiatica</td>\n",
       "      <td>ENTITY</td>\n",
       "      <td>NaN</td>\n",
       "      <td>337</td>\n",
       "      <td>348</td>\n",
       "    </tr>\n",
       "    <tr>\n",
       "      <th>16</th>\n",
       "      <td>23</td>\n",
       "      <td>reducing</td>\n",
       "      <td>ENTITY</td>\n",
       "      <td>NaN</td>\n",
       "      <td>353</td>\n",
       "      <td>361</td>\n",
       "    </tr>\n",
       "    <tr>\n",
       "      <th>17</th>\n",
       "      <td>23</td>\n",
       "      <td>facial wrinkles</td>\n",
       "      <td>ENTITY</td>\n",
       "      <td>NaN</td>\n",
       "      <td>362</td>\n",
       "      <td>377</td>\n",
       "    </tr>\n",
       "    <tr>\n",
       "      <th>18</th>\n",
       "      <td>23</td>\n",
       "      <td>PubMed</td>\n",
       "      <td>ENTITY</td>\n",
       "      <td>NaN</td>\n",
       "      <td>379</td>\n",
       "      <td>385</td>\n",
       "    </tr>\n",
       "    <tr>\n",
       "      <th>19</th>\n",
       "      <td>23</td>\n",
       "      <td>Excerpta Medica dataBASE</td>\n",
       "      <td>ENTITY</td>\n",
       "      <td>NaN</td>\n",
       "      <td>387</td>\n",
       "      <td>411</td>\n",
       "    </tr>\n",
       "  </tbody>\n",
       "</table>\n",
       "</div>"
      ],
      "text/plain": [
       "    id                  ent_text ent_label_sci_lg ent_label_hand  ent_start  \\\n",
       "0   23                  Efficacy           ENTITY            NaN          0   \n",
       "1   23                    Safety           ENTITY            NaN         13   \n",
       "2   23         Centella Asiatica           ENTITY            NaN         23   \n",
       "3   23                  Wrinkles           ENTITY            NaN         54   \n",
       "4   23         Systematic Review           ENTITY            NaN         66   \n",
       "5   23            Published Data           ENTITY            NaN         87   \n",
       "6   23     Network Meta-Analysis           ENTITY            NaN        106   \n",
       "7   23         Centella asiatica           ENTITY         common        129   \n",
       "8   23                 cosmetics           ENTITY            NaN        172   \n",
       "9   23                   wrinkle           ENTITY            NaN        193   \n",
       "10  23                treatments           ENTITY            NaN        201   \n",
       "11  23             effectiveness           ENTITY            NaN        221   \n",
       "12  23   systematic review study           ENTITY            NaN        265   \n",
       "13  23                  efficacy           ENTITY            NaN        314   \n",
       "14  23                    safety           ENTITY            NaN        327   \n",
       "15  23               C. asiatica           ENTITY            NaN        337   \n",
       "16  23                  reducing           ENTITY            NaN        353   \n",
       "17  23           facial wrinkles           ENTITY            NaN        362   \n",
       "18  23                    PubMed           ENTITY            NaN        379   \n",
       "19  23  Excerpta Medica dataBASE           ENTITY            NaN        387   \n",
       "\n",
       "    ent_end  \n",
       "0         8  \n",
       "1        19  \n",
       "2        40  \n",
       "3        62  \n",
       "4        83  \n",
       "5       101  \n",
       "6       127  \n",
       "7       146  \n",
       "8       181  \n",
       "9       200  \n",
       "10      211  \n",
       "11      234  \n",
       "12      288  \n",
       "13      322  \n",
       "14      333  \n",
       "15      348  \n",
       "16      361  \n",
       "17      377  \n",
       "18      385  \n",
       "19      411  "
      ]
     },
     "execution_count": 115,
     "metadata": {},
     "output_type": "execute_result"
    }
   ],
   "source": [
    "en_core_sci_lg_results_and_expected_df = en_core_sci_lg_results_df.merge(expected_df, on=[\"id\", \"ent_text\", \"ent_start\", \"ent_end\"], how=\"outer\", suffixes=(\"_sci_lg\", \"_hand\"))\n",
    "\n",
    "# Tidy column headings and rearrange the columns for reading\n",
    "en_core_sci_lg_results_and_expected_df = en_core_sci_lg_results_and_expected_df.rename(columns={\"ent_label\": \"ent_label_sci_lg\"})\n",
    "# list(results_df.columns)\n",
    "\n",
    "columns = [\n",
    "    \"id\",\n",
    "    \"ent_text\",\n",
    "    \"ent_label_sci_lg\",\n",
    "    \"ent_label_hand\",\n",
    "    \"ent_start\",\n",
    "    \"ent_end\"\n",
    "]\n",
    "en_core_sci_lg_results_and_expected_df = en_core_sci_lg_results_and_expected_df[columns]\n",
    "en_core_sci_lg_results_and_expected_df.head(20)"
   ]
  },
  {
   "cell_type": "markdown",
   "metadata": {},
   "source": [
    "### 3.4 Analysis of all results"
   ]
  },
  {
   "cell_type": "code",
   "execution_count": null,
   "metadata": {},
   "outputs": [],
   "source": [
    "# Common calculations\n",
    "def calculate_precision(tp: int, fp: int) -> float:\n",
    "    return tp / (tp + fp)\n",
    "\n",
    "def calculate_recall(tp: int, fn: int) -> float:\n",
    "    return tp / (tp + fn)\n",
    "\n",
    "def calculate_f1(precision: float, recall: float) -> float:\n",
    "    return (2 * precision * recall) / (precision + recall)"
   ]
  },
  {
   "cell_type": "markdown",
   "metadata": {},
   "source": [
    "#### 3.4.1 Get metrics `for en_core_sci_md`\n",
    "Get TP, FP, FN, and precision, recall and F1-score for `en_core_sci_md`"
   ]
  },
  {
   "cell_type": "code",
   "execution_count": null,
   "metadata": {},
   "outputs": [],
   "source": [
    "# Get TP, FP, FN for en_core_sci_md_results_and_expected_df\n",
    "true_postive = (en_core_sci_md_results_and_expected_df[\"ent_label_sci_md\"].notnull() & en_core_sci_md_results_and_expected_df[\"ent_label_hand\"].notnull())\n",
    "false_postive = (en_core_sci_md_results_and_expected_df[\"ent_label_sci_md\"].notnull() & en_core_sci_md_results_and_expected_df[\"ent_label_hand\"].isnull())\n",
    "false_negative = (en_core_sci_md_results_and_expected_df[\"ent_label_sci_md\"].isnull() & en_core_sci_md_results_and_expected_df[\"ent_label_hand\"].notnull())"
   ]
  },
  {
   "cell_type": "code",
   "execution_count": null,
   "metadata": {},
   "outputs": [],
   "source": [
    "en_core_sci_md_results_and_expected_df[true_postive]\n",
    "en_core_sci_md_results_tp = len(en_core_sci_md_results_and_expected_df[true_postive])"
   ]
  },
  {
   "cell_type": "code",
   "execution_count": null,
   "metadata": {},
   "outputs": [],
   "source": [
    "en_core_sci_md_results_and_expected_df[false_postive]\n",
    "en_core_sci_md_results_fp = len(en_core_sci_md_results_and_expected_df[false_postive])"
   ]
  },
  {
   "cell_type": "code",
   "execution_count": null,
   "metadata": {},
   "outputs": [],
   "source": [
    "en_core_sci_md_results_and_expected_df[false_negative]\n",
    "en_core_sci_md_results_fn = len(en_core_sci_md_results_and_expected_df[false_negative])"
   ]
  },
  {
   "cell_type": "code",
   "execution_count": null,
   "metadata": {},
   "outputs": [
    {
     "data": {
      "text/plain": [
       "0.026869158878504672"
      ]
     },
     "execution_count": 160,
     "metadata": {},
     "output_type": "execute_result"
    }
   ],
   "source": [
    "calculate_precision(tp=en_core_sci_md_results_tp, fp=en_core_sci_md_results_fp)"
   ]
  },
  {
   "cell_type": "code",
   "execution_count": null,
   "metadata": {},
   "outputs": [
    {
     "data": {
      "text/plain": [
       "0.42592592592592593"
      ]
     },
     "execution_count": 161,
     "metadata": {},
     "output_type": "execute_result"
    }
   ],
   "source": [
    "calculate_recall(tp=en_core_sci_md_results_tp, fn=en_core_sci_md_results_fn)"
   ]
  },
  {
   "cell_type": "code",
   "execution_count": null,
   "metadata": {},
   "outputs": [
    {
     "data": {
      "text/plain": [
       "0.05054945054945055"
      ]
     },
     "execution_count": 162,
     "metadata": {},
     "output_type": "execute_result"
    }
   ],
   "source": [
    "calculate_f1(precision=calculate_precision(tp=en_core_sci_md_results_tp, fp=en_core_sci_md_results_fp), recall=calculate_recall(tp=en_core_sci_md_results_tp, fn=en_core_sci_md_results_fn))"
   ]
  },
  {
   "cell_type": "markdown",
   "metadata": {},
   "source": [
    "#### 3.4.2 Get metrics `for en_core_sci_lg`\n",
    "Get TP, FP, FN, and precision, recall and F1-score for `en_core_sci_lg`"
   ]
  },
  {
   "cell_type": "code",
   "execution_count": 187,
   "metadata": {},
   "outputs": [],
   "source": [
    "# Get TP, FP, FN for en_core_sci_lg_results_and_expected_df\n",
    "true_postive = (en_core_sci_lg_results_and_expected_df[\"ent_label_sci_lg\"].notnull() & en_core_sci_lg_results_and_expected_df[\"ent_label_hand\"].notnull())\n",
    "false_postive = (en_core_sci_lg_results_and_expected_df[\"ent_label_sci_lg\"].notnull() & en_core_sci_lg_results_and_expected_df[\"ent_label_hand\"].isnull())\n",
    "false_negative = (en_core_sci_lg_results_and_expected_df[\"ent_label_sci_lg\"].isnull() & en_core_sci_lg_results_and_expected_df[\"ent_label_hand\"].notnull())"
   ]
  },
  {
   "cell_type": "code",
   "execution_count": 188,
   "metadata": {},
   "outputs": [],
   "source": [
    "en_core_sci_lg_results_and_expected_df[true_postive]\n",
    "en_core_sci_lg_results_tp = len(en_core_sci_lg_results_and_expected_df[true_postive])"
   ]
  },
  {
   "cell_type": "code",
   "execution_count": 189,
   "metadata": {},
   "outputs": [],
   "source": [
    "en_core_sci_lg_results_and_expected_df[false_postive]\n",
    "en_core_sci_lg_results_fp = len(en_core_sci_lg_results_and_expected_df[false_postive])"
   ]
  },
  {
   "cell_type": "code",
   "execution_count": 222,
   "metadata": {},
   "outputs": [],
   "source": [
    "en_core_sci_lg_results_and_expected_df[false_negative]\n",
    "en_core_sci_lg_results_fn = len(en_core_sci_lg_results_and_expected_df[false_negative])"
   ]
  },
  {
   "cell_type": "code",
   "execution_count": null,
   "metadata": {},
   "outputs": [
    {
     "data": {
      "text/plain": [
       "0.033214709371293"
      ]
     },
     "execution_count": 149,
     "metadata": {},
     "output_type": "execute_result"
    }
   ],
   "source": [
    "calculate_precision(tp=en_core_sci_lg_results_tp, fp=en_core_sci_lg_results_fp)"
   ]
  },
  {
   "cell_type": "code",
   "execution_count": null,
   "metadata": {},
   "outputs": [
    {
     "data": {
      "text/plain": [
       "0.5185185185185185"
      ]
     },
     "execution_count": 150,
     "metadata": {},
     "output_type": "execute_result"
    }
   ],
   "source": [
    "calculate_recall(tp=en_core_sci_lg_results_tp, fn=en_core_sci_lg_results_fn)"
   ]
  },
  {
   "cell_type": "code",
   "execution_count": null,
   "metadata": {},
   "outputs": [
    {
     "data": {
      "text/plain": [
       "0.06243032329988851"
      ]
     },
     "execution_count": 151,
     "metadata": {},
     "output_type": "execute_result"
    }
   ],
   "source": [
    "calculate_f1(precision=calculate_precision(tp=en_core_sci_lg_results_tp, fp=en_core_sci_lg_results_fp), recall=calculate_recall(tp=en_core_sci_lg_results_tp, fn=en_core_sci_lg_results_fn))"
   ]
  },
  {
   "cell_type": "markdown",
   "metadata": {},
   "source": [
    "## 4 Further analysis"
   ]
  },
  {
   "cell_type": "markdown",
   "metadata": {},
   "source": [
    "### 4.1 `en_core_sci_md`"
   ]
  },
  {
   "cell_type": "code",
   "execution_count": 192,
   "metadata": {},
   "outputs": [],
   "source": [
    "# Get hits and misses with types of entities\n",
    "en_core_sci_md_tp_common = (en_core_sci_md_results_and_expected_df[\"ent_label_sci_md\"].notnull() & (en_core_sci_md_results_and_expected_df[\"ent_label_hand\"]==\"common\"))\n",
    "en_core_sci_md_tp_scientific = (en_core_sci_md_results_and_expected_df[\"ent_label_sci_md\"].notnull() & (en_core_sci_md_results_and_expected_df[\"ent_label_hand\"]==\"scientific\"))\n",
    "\n",
    "en_core_sci_md_fn_common = (en_core_sci_md_results_and_expected_df[\"ent_label_sci_md\"].isnull() & (en_core_sci_md_results_and_expected_df[\"ent_label_hand\"]==\"common\"))\n",
    "en_core_sci_md_fn_scientific = (en_core_sci_md_results_and_expected_df[\"ent_label_sci_md\"].isnull() & (en_core_sci_md_results_and_expected_df[\"ent_label_hand\"]==\"scientific\"))\n"
   ]
  },
  {
   "cell_type": "code",
   "execution_count": 196,
   "metadata": {},
   "outputs": [
    {
     "data": {
      "text/plain": [
       "14"
      ]
     },
     "execution_count": 196,
     "metadata": {},
     "output_type": "execute_result"
    }
   ],
   "source": [
    "en_core_sci_md_results_and_expected_df[en_core_sci_md_tp_common]\n",
    "len(en_core_sci_md_results_and_expected_df[en_core_sci_md_tp_common])"
   ]
  },
  {
   "cell_type": "code",
   "execution_count": 197,
   "metadata": {},
   "outputs": [
    {
     "data": {
      "text/plain": [
       "9"
      ]
     },
     "execution_count": 197,
     "metadata": {},
     "output_type": "execute_result"
    }
   ],
   "source": [
    "en_core_sci_md_results_and_expected_df[en_core_sci_md_tp_scientific]\n",
    "len(en_core_sci_md_results_and_expected_df[en_core_sci_md_tp_scientific])"
   ]
  },
  {
   "cell_type": "code",
   "execution_count": 203,
   "metadata": {},
   "outputs": [
    {
     "data": {
      "text/plain": [
       "16"
      ]
     },
     "execution_count": 203,
     "metadata": {},
     "output_type": "execute_result"
    }
   ],
   "source": [
    "en_core_sci_md_results_and_expected_df[en_core_sci_md_fn_common]\n",
    "len(en_core_sci_md_results_and_expected_df[en_core_sci_md_fn_common])"
   ]
  },
  {
   "cell_type": "code",
   "execution_count": 199,
   "metadata": {},
   "outputs": [
    {
     "data": {
      "text/plain": [
       "15"
      ]
     },
     "execution_count": 199,
     "metadata": {},
     "output_type": "execute_result"
    }
   ],
   "source": [
    "en_core_sci_md_results_and_expected_df[en_core_sci_md_fn_scientific]\n",
    "len(en_core_sci_md_results_and_expected_df[en_core_sci_md_fn_scientific])"
   ]
  },
  {
   "cell_type": "markdown",
   "metadata": {},
   "source": [
    "### 4.2 `en_core_sci_lg`"
   ]
  },
  {
   "cell_type": "code",
   "execution_count": 209,
   "metadata": {},
   "outputs": [],
   "source": [
    "# Get hits and misses with types of entities\n",
    "en_core_sci_lg_tp_common = (en_core_sci_lg_results_and_expected_df[\"ent_label_sci_lg\"].notnull() & (en_core_sci_lg_results_and_expected_df[\"ent_label_hand\"]==\"common\"))\n",
    "en_core_sci_lg_tp_scientific = (en_core_sci_lg_results_and_expected_df[\"ent_label_sci_lg\"].notnull() & (en_core_sci_lg_results_and_expected_df[\"ent_label_hand\"]==\"scientific\"))\n",
    "\n",
    "en_core_sci_lg_fn_common = (en_core_sci_lg_results_and_expected_df[\"ent_label_sci_lg\"].isnull() & (en_core_sci_lg_results_and_expected_df[\"ent_label_hand\"]==\"common\"))\n",
    "en_core_sci_lg_fn_scientific = (en_core_sci_lg_results_and_expected_df[\"ent_label_sci_lg\"].isnull() & (en_core_sci_lg_results_and_expected_df[\"ent_label_hand\"]==\"scientific\"))\n"
   ]
  },
  {
   "cell_type": "code",
   "execution_count": 210,
   "metadata": {},
   "outputs": [
    {
     "data": {
      "text/plain": [
       "18"
      ]
     },
     "execution_count": 210,
     "metadata": {},
     "output_type": "execute_result"
    }
   ],
   "source": [
    "en_core_sci_lg_results_and_expected_df[en_core_sci_lg_tp_common]\n",
    "len(en_core_sci_lg_results_and_expected_df[en_core_sci_lg_tp_common])"
   ]
  },
  {
   "cell_type": "code",
   "execution_count": 211,
   "metadata": {},
   "outputs": [
    {
     "data": {
      "text/plain": [
       "10"
      ]
     },
     "execution_count": 211,
     "metadata": {},
     "output_type": "execute_result"
    }
   ],
   "source": [
    "en_core_sci_lg_results_and_expected_df[en_core_sci_lg_tp_scientific]\n",
    "len(en_core_sci_lg_results_and_expected_df[en_core_sci_lg_tp_scientific])"
   ]
  },
  {
   "cell_type": "code",
   "execution_count": 212,
   "metadata": {},
   "outputs": [
    {
     "data": {
      "text/plain": [
       "12"
      ]
     },
     "execution_count": 212,
     "metadata": {},
     "output_type": "execute_result"
    }
   ],
   "source": [
    "en_core_sci_lg_results_and_expected_df[en_core_sci_lg_fn_common]\n",
    "len(en_core_sci_lg_results_and_expected_df[en_core_sci_lg_fn_common])"
   ]
  },
  {
   "cell_type": "code",
   "execution_count": 213,
   "metadata": {},
   "outputs": [
    {
     "data": {
      "text/plain": [
       "14"
      ]
     },
     "execution_count": 213,
     "metadata": {},
     "output_type": "execute_result"
    }
   ],
   "source": [
    "en_core_sci_lg_results_and_expected_df[en_core_sci_lg_fn_scientific]\n",
    "len(en_core_sci_lg_results_and_expected_df[en_core_sci_lg_fn_scientific])"
   ]
  },
  {
   "cell_type": "code",
   "execution_count": null,
   "metadata": {},
   "outputs": [],
   "source": []
  }
 ],
 "metadata": {
  "interpreter": {
   "hash": "67f4780eb96faf297d175188e69e69fac805a6f2ebb65e35e4468d9195d66e2d"
  },
  "kernelspec": {
   "display_name": "Python 3.8.5 64-bit ('venv-scispacy': venv)",
   "language": "python",
   "name": "python3"
  },
  "language_info": {
   "codemirror_mode": {
    "name": "ipython",
    "version": 3
   },
   "file_extension": ".py",
   "mimetype": "text/x-python",
   "name": "python",
   "nbconvert_exporter": "python",
   "pygments_lexer": "ipython3",
   "version": "3.9.8"
  },
  "orig_nbformat": 4
 },
 "nbformat": 4,
 "nbformat_minor": 2
}
