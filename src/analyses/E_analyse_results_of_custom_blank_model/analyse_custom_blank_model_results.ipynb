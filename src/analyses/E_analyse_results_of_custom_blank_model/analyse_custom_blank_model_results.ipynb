{
 "cells": [
  {
   "cell_type": "markdown",
   "metadata": {},
   "source": [
    "# Analyse results of custom blank model"
   ]
  },
  {
   "cell_type": "markdown",
   "metadata": {},
   "source": [
    "## 1: Setup "
   ]
  },
  {
   "cell_type": "markdown",
   "metadata": {},
   "source": [
    "### 1.1: Load models and packages"
   ]
  },
  {
   "cell_type": "code",
   "execution_count": 19,
   "metadata": {},
   "outputs": [],
   "source": [
    "import os\n",
    "import pandas as pd\n",
    "from pathlib import Path"
   ]
  },
  {
   "cell_type": "code",
   "execution_count": 24,
   "metadata": {},
   "outputs": [
    {
     "data": {
      "text/html": [
       "<div>\n",
       "<style scoped>\n",
       "    .dataframe tbody tr th:only-of-type {\n",
       "        vertical-align: middle;\n",
       "    }\n",
       "\n",
       "    .dataframe tbody tr th {\n",
       "        vertical-align: top;\n",
       "    }\n",
       "\n",
       "    .dataframe thead th {\n",
       "        text-align: right;\n",
       "    }\n",
       "</style>\n",
       "<table border=\"1\" class=\"dataframe\">\n",
       "  <thead>\n",
       "    <tr style=\"text-align: right;\">\n",
       "      <th></th>\n",
       "      <th>corpus</th>\n",
       "      <th>test_ent_text</th>\n",
       "      <th>test_ent_label</th>\n",
       "      <th>test_ent_start</th>\n",
       "      <th>test_ent_end</th>\n",
       "      <th>id</th>\n",
       "      <th>pmid</th>\n",
       "    </tr>\n",
       "  </thead>\n",
       "  <tbody>\n",
       "    <tr>\n",
       "      <th>0</th>\n",
       "      <td>Trace Element Uptake and Accumulation in the M...</td>\n",
       "      <td>Hypericum perforatum L. Across Different Geoli...</td>\n",
       "      <td>scientific</td>\n",
       "      <td>60</td>\n",
       "      <td>125</td>\n",
       "      <td>36</td>\n",
       "      <td>30043286</td>\n",
       "    </tr>\n",
       "    <tr>\n",
       "      <th>1</th>\n",
       "      <td>Trace Element Uptake and Accumulation in the M...</td>\n",
       "      <td>St. John's wort</td>\n",
       "      <td>common</td>\n",
       "      <td>781</td>\n",
       "      <td>796</td>\n",
       "      <td>36</td>\n",
       "      <td>30043286</td>\n",
       "    </tr>\n",
       "    <tr>\n",
       "      <th>2</th>\n",
       "      <td>Improvements in estrogen deficiency-induced hy...</td>\n",
       "      <td>gut microbiota</td>\n",
       "      <td>common</td>\n",
       "      <td>120</td>\n",
       "      <td>134</td>\n",
       "      <td>37</td>\n",
       "      <td>33383372</td>\n",
       "    </tr>\n",
       "    <tr>\n",
       "      <th>3</th>\n",
       "      <td>Improvements in estrogen deficiency-induced hy...</td>\n",
       "      <td>HP extract</td>\n",
       "      <td>common</td>\n",
       "      <td>332</td>\n",
       "      <td>342</td>\n",
       "      <td>37</td>\n",
       "      <td>33383372</td>\n",
       "    </tr>\n",
       "    <tr>\n",
       "      <th>4</th>\n",
       "      <td>Improvements in estrogen deficiency-induced hy...</td>\n",
       "      <td>LDL-C</td>\n",
       "      <td>common</td>\n",
       "      <td>1844</td>\n",
       "      <td>1839</td>\n",
       "      <td>37</td>\n",
       "      <td>33383372</td>\n",
       "    </tr>\n",
       "  </tbody>\n",
       "</table>\n",
       "</div>"
      ],
      "text/plain": [
       "                                              corpus  \\\n",
       "0  Trace Element Uptake and Accumulation in the M...   \n",
       "1  Trace Element Uptake and Accumulation in the M...   \n",
       "2  Improvements in estrogen deficiency-induced hy...   \n",
       "3  Improvements in estrogen deficiency-induced hy...   \n",
       "4  Improvements in estrogen deficiency-induced hy...   \n",
       "\n",
       "                                       test_ent_text test_ent_label  \\\n",
       "0  Hypericum perforatum L. Across Different Geoli...     scientific   \n",
       "1                                    St. John's wort         common   \n",
       "2                                     gut microbiota         common   \n",
       "3                                         HP extract         common   \n",
       "4                                              LDL-C         common   \n",
       "\n",
       "   test_ent_start  test_ent_end  id      pmid  \n",
       "0              60           125  36  30043286  \n",
       "1             781           796  36  30043286  \n",
       "2             120           134  37  33383372  \n",
       "3             332           342  37  33383372  \n",
       "4            1844          1839  37  33383372  "
      ]
     },
     "execution_count": 24,
     "metadata": {},
     "output_type": "execute_result"
    }
   ],
   "source": [
    "# Load the results of this model\n",
    "returned_filepath = \"../../../data/hand_annotated_abstracts/results/\"\n",
    "custom_en_blank_results_df = pd.read_csv(os.path.join(returned_filepath, \"custom_en_blank.csv\"))\n",
    "custom_en_blank_results_df = pd.read_csv(os.path.join(returned_filepath, \"custom_en_blank.csv\"))\n",
    "\n",
    "expected_filepath = \"../../../data/hand_annotated_abstracts/answers/\"\n",
    "custom_en_blank_results_df = pd.read_csv(os.path.join(expected_filepath, \"blank.csv\"))"
   ]
  },
  {
   "cell_type": "code",
   "execution_count": 21,
   "metadata": {},
   "outputs": [
    {
     "data": {
      "text/plain": [
       "test_ent_label\n",
       "scientific    27\n",
       "common        18\n",
       "dtype: int64"
      ]
     },
     "execution_count": 21,
     "metadata": {},
     "output_type": "execute_result"
    }
   ],
   "source": [
    "# Split of entity labels\n",
    "custom_en_blank_results_df.value_counts(\"test_ent_label\")"
   ]
  },
  {
   "cell_type": "code",
   "execution_count": 22,
   "metadata": {},
   "outputs": [
    {
     "data": {
      "text/plain": [
       "45"
      ]
     },
     "execution_count": 22,
     "metadata": {},
     "output_type": "execute_result"
    }
   ],
   "source": [
    "# Total number of entities returned\n",
    "len(custom_en_blank_results_df)"
   ]
  },
  {
   "cell_type": "code",
   "execution_count": 23,
   "metadata": {},
   "outputs": [
    {
     "data": {
      "text/html": [
       "<div>\n",
       "<style scoped>\n",
       "    .dataframe tbody tr th:only-of-type {\n",
       "        vertical-align: middle;\n",
       "    }\n",
       "\n",
       "    .dataframe tbody tr th {\n",
       "        vertical-align: top;\n",
       "    }\n",
       "\n",
       "    .dataframe thead tr th {\n",
       "        text-align: left;\n",
       "    }\n",
       "\n",
       "    .dataframe thead tr:last-of-type th {\n",
       "        text-align: right;\n",
       "    }\n",
       "</style>\n",
       "<table border=\"1\" class=\"dataframe\">\n",
       "  <thead>\n",
       "    <tr>\n",
       "      <th></th>\n",
       "      <th colspan=\"2\" halign=\"left\">test_ent_label</th>\n",
       "    </tr>\n",
       "    <tr>\n",
       "      <th></th>\n",
       "      <th>count</th>\n",
       "      <th>nunique</th>\n",
       "    </tr>\n",
       "    <tr>\n",
       "      <th>id</th>\n",
       "      <th></th>\n",
       "      <th></th>\n",
       "    </tr>\n",
       "  </thead>\n",
       "  <tbody>\n",
       "    <tr>\n",
       "      <th>23</th>\n",
       "      <td>4</td>\n",
       "      <td>1</td>\n",
       "    </tr>\n",
       "    <tr>\n",
       "      <th>24</th>\n",
       "      <td>2</td>\n",
       "      <td>2</td>\n",
       "    </tr>\n",
       "    <tr>\n",
       "      <th>25</th>\n",
       "      <td>7</td>\n",
       "      <td>2</td>\n",
       "    </tr>\n",
       "    <tr>\n",
       "      <th>26</th>\n",
       "      <td>4</td>\n",
       "      <td>2</td>\n",
       "    </tr>\n",
       "    <tr>\n",
       "      <th>27</th>\n",
       "      <td>2</td>\n",
       "      <td>2</td>\n",
       "    </tr>\n",
       "    <tr>\n",
       "      <th>28</th>\n",
       "      <td>2</td>\n",
       "      <td>2</td>\n",
       "    </tr>\n",
       "    <tr>\n",
       "      <th>29</th>\n",
       "      <td>2</td>\n",
       "      <td>2</td>\n",
       "    </tr>\n",
       "    <tr>\n",
       "      <th>31</th>\n",
       "      <td>2</td>\n",
       "      <td>2</td>\n",
       "    </tr>\n",
       "    <tr>\n",
       "      <th>32</th>\n",
       "      <td>4</td>\n",
       "      <td>2</td>\n",
       "    </tr>\n",
       "    <tr>\n",
       "      <th>33</th>\n",
       "      <td>5</td>\n",
       "      <td>1</td>\n",
       "    </tr>\n",
       "    <tr>\n",
       "      <th>34</th>\n",
       "      <td>3</td>\n",
       "      <td>2</td>\n",
       "    </tr>\n",
       "    <tr>\n",
       "      <th>35</th>\n",
       "      <td>3</td>\n",
       "      <td>1</td>\n",
       "    </tr>\n",
       "    <tr>\n",
       "      <th>36</th>\n",
       "      <td>2</td>\n",
       "      <td>2</td>\n",
       "    </tr>\n",
       "    <tr>\n",
       "      <th>37</th>\n",
       "      <td>3</td>\n",
       "      <td>1</td>\n",
       "    </tr>\n",
       "  </tbody>\n",
       "</table>\n",
       "</div>"
      ],
      "text/plain": [
       "   test_ent_label        \n",
       "            count nunique\n",
       "id                       \n",
       "23              4       1\n",
       "24              2       2\n",
       "25              7       2\n",
       "26              4       2\n",
       "27              2       2\n",
       "28              2       2\n",
       "29              2       2\n",
       "31              2       2\n",
       "32              4       2\n",
       "33              5       1\n",
       "34              3       2\n",
       "35              3       1\n",
       "36              2       2\n",
       "37              3       1"
      ]
     },
     "execution_count": 23,
     "metadata": {},
     "output_type": "execute_result"
    }
   ],
   "source": [
    "# Number of entities and unique entities for each abstract\n",
    "custom_en_blank_results_df[[\"id\", \"test_ent_label\"]].groupby(\"id\").agg([\"count\", \"nunique\"])"
   ]
  },
  {
   "cell_type": "code",
   "execution_count": null,
   "metadata": {},
   "outputs": [],
   "source": []
  }
 ],
 "metadata": {
  "interpreter": {
   "hash": "bc308d1304c7fd2a3ab6b42691552a5dde46d375aed6d0f0ee91ca2e837af1b6"
  },
  "kernelspec": {
   "display_name": "Python 3.9.8 64-bit ('venv-scispacy': venv)",
   "language": "python",
   "name": "python3"
  },
  "language_info": {
   "codemirror_mode": {
    "name": "ipython",
    "version": 3
   },
   "file_extension": ".py",
   "mimetype": "text/x-python",
   "name": "python",
   "nbconvert_exporter": "python",
   "pygments_lexer": "ipython3",
   "version": "3.9.8"
  },
  "orig_nbformat": 4
 },
 "nbformat": 4,
 "nbformat_minor": 2
}
