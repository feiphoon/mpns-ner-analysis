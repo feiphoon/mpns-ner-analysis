{
 "cells": [
  {
   "cell_type": "markdown",
   "metadata": {},
   "source": [
    "# Analyse results of custom blank model"
   ]
  },
  {
   "cell_type": "markdown",
   "metadata": {},
   "source": [
    "## 1: Setup "
   ]
  },
  {
   "cell_type": "markdown",
   "metadata": {},
   "source": [
    "### 1.1: Load models and packages"
   ]
  },
  {
   "cell_type": "code",
   "execution_count": 19,
   "metadata": {},
   "outputs": [],
   "source": [
    "import os\n",
    "import pandas as pd\n",
    "from pathlib import Path"
   ]
  },
  {
   "cell_type": "markdown",
   "metadata": {},
   "source": [
    "### 1.2: Set up test and results filepaths"
   ]
  },
  {
   "cell_type": "code",
   "execution_count": 39,
   "metadata": {},
   "outputs": [],
   "source": [
    "# Load the results of this model\n",
    "returned_filepath = \"../../../data/hand_annotated_abstracts/results/\"\n",
    "expected_filename = \"../../../data/hand_annotated_abstracts/answers/hand_annotated_answers.csv\"\n"
   ]
  },
  {
   "cell_type": "markdown",
   "metadata": {},
   "source": [
    "## 2: Analysis of best custom model"
   ]
  },
  {
   "cell_type": "markdown",
   "metadata": {},
   "source": [
    "### 2.1: Load best custom model results"
   ]
  },
  {
   "cell_type": "code",
   "execution_count": 31,
   "metadata": {},
   "outputs": [
    {
     "data": {
      "text/html": [
       "<div>\n",
       "<style scoped>\n",
       "    .dataframe tbody tr th:only-of-type {\n",
       "        vertical-align: middle;\n",
       "    }\n",
       "\n",
       "    .dataframe tbody tr th {\n",
       "        vertical-align: top;\n",
       "    }\n",
       "\n",
       "    .dataframe thead th {\n",
       "        text-align: right;\n",
       "    }\n",
       "</style>\n",
       "<table border=\"1\" class=\"dataframe\">\n",
       "  <thead>\n",
       "    <tr style=\"text-align: right;\">\n",
       "      <th></th>\n",
       "      <th>corpus</th>\n",
       "      <th>test_ent_text</th>\n",
       "      <th>test_ent_label</th>\n",
       "      <th>test_ent_start</th>\n",
       "      <th>test_ent_end</th>\n",
       "      <th>id</th>\n",
       "      <th>pmid</th>\n",
       "    </tr>\n",
       "  </thead>\n",
       "  <tbody>\n",
       "    <tr>\n",
       "      <th>0</th>\n",
       "      <td>Trace Element Uptake and Accumulation in the M...</td>\n",
       "      <td>Hypericum perforatum L. Across Different Geoli...</td>\n",
       "      <td>scientific</td>\n",
       "      <td>60</td>\n",
       "      <td>125</td>\n",
       "      <td>36</td>\n",
       "      <td>30043286</td>\n",
       "    </tr>\n",
       "    <tr>\n",
       "      <th>1</th>\n",
       "      <td>Trace Element Uptake and Accumulation in the M...</td>\n",
       "      <td>St. John's wort</td>\n",
       "      <td>common</td>\n",
       "      <td>781</td>\n",
       "      <td>796</td>\n",
       "      <td>36</td>\n",
       "      <td>30043286</td>\n",
       "    </tr>\n",
       "    <tr>\n",
       "      <th>2</th>\n",
       "      <td>Improvements in estrogen deficiency-induced hy...</td>\n",
       "      <td>gut microbiota</td>\n",
       "      <td>common</td>\n",
       "      <td>120</td>\n",
       "      <td>134</td>\n",
       "      <td>37</td>\n",
       "      <td>33383372</td>\n",
       "    </tr>\n",
       "    <tr>\n",
       "      <th>3</th>\n",
       "      <td>Improvements in estrogen deficiency-induced hy...</td>\n",
       "      <td>HP extract</td>\n",
       "      <td>common</td>\n",
       "      <td>332</td>\n",
       "      <td>342</td>\n",
       "      <td>37</td>\n",
       "      <td>33383372</td>\n",
       "    </tr>\n",
       "    <tr>\n",
       "      <th>4</th>\n",
       "      <td>Improvements in estrogen deficiency-induced hy...</td>\n",
       "      <td>LDL-C</td>\n",
       "      <td>common</td>\n",
       "      <td>1844</td>\n",
       "      <td>1839</td>\n",
       "      <td>37</td>\n",
       "      <td>33383372</td>\n",
       "    </tr>\n",
       "  </tbody>\n",
       "</table>\n",
       "</div>"
      ],
      "text/plain": [
       "                                              corpus  \\\n",
       "0  Trace Element Uptake and Accumulation in the M...   \n",
       "1  Trace Element Uptake and Accumulation in the M...   \n",
       "2  Improvements in estrogen deficiency-induced hy...   \n",
       "3  Improvements in estrogen deficiency-induced hy...   \n",
       "4  Improvements in estrogen deficiency-induced hy...   \n",
       "\n",
       "                                       test_ent_text test_ent_label  \\\n",
       "0  Hypericum perforatum L. Across Different Geoli...     scientific   \n",
       "1                                    St. John's wort         common   \n",
       "2                                     gut microbiota         common   \n",
       "3                                         HP extract         common   \n",
       "4                                              LDL-C         common   \n",
       "\n",
       "   test_ent_start  test_ent_end  id      pmid  \n",
       "0              60           125  36  30043286  \n",
       "1             781           796  36  30043286  \n",
       "2             120           134  37  33383372  \n",
       "3             332           342  37  33383372  \n",
       "4            1844          1839  37  33383372  "
      ]
     },
     "execution_count": 31,
     "metadata": {},
     "output_type": "execute_result"
    }
   ],
   "source": [
    "custom_en_blank_results_df = pd.read_csv(os.path.join(returned_filepath, \"custom_en_blank.csv\"))\n",
    "custom_en_blank_results_df.head(5)"
   ]
  },
  {
   "cell_type": "code",
   "execution_count": 32,
   "metadata": {},
   "outputs": [
    {
     "data": {
      "text/plain": [
       "test_ent_label\n",
       "scientific    27\n",
       "common        18\n",
       "dtype: int64"
      ]
     },
     "execution_count": 32,
     "metadata": {},
     "output_type": "execute_result"
    }
   ],
   "source": [
    "# Split of entity labels\n",
    "custom_en_blank_results_df.value_counts(\"test_ent_label\")"
   ]
  },
  {
   "cell_type": "code",
   "execution_count": 33,
   "metadata": {},
   "outputs": [
    {
     "data": {
      "text/plain": [
       "45"
      ]
     },
     "execution_count": 33,
     "metadata": {},
     "output_type": "execute_result"
    }
   ],
   "source": [
    "# Total number of entities returned\n",
    "len(custom_en_blank_results_df)"
   ]
  },
  {
   "cell_type": "code",
   "execution_count": 34,
   "metadata": {},
   "outputs": [
    {
     "data": {
      "text/html": [
       "<div>\n",
       "<style scoped>\n",
       "    .dataframe tbody tr th:only-of-type {\n",
       "        vertical-align: middle;\n",
       "    }\n",
       "\n",
       "    .dataframe tbody tr th {\n",
       "        vertical-align: top;\n",
       "    }\n",
       "\n",
       "    .dataframe thead tr th {\n",
       "        text-align: left;\n",
       "    }\n",
       "\n",
       "    .dataframe thead tr:last-of-type th {\n",
       "        text-align: right;\n",
       "    }\n",
       "</style>\n",
       "<table border=\"1\" class=\"dataframe\">\n",
       "  <thead>\n",
       "    <tr>\n",
       "      <th></th>\n",
       "      <th colspan=\"2\" halign=\"left\">test_ent_label</th>\n",
       "    </tr>\n",
       "    <tr>\n",
       "      <th></th>\n",
       "      <th>count</th>\n",
       "      <th>nunique</th>\n",
       "    </tr>\n",
       "    <tr>\n",
       "      <th>id</th>\n",
       "      <th></th>\n",
       "      <th></th>\n",
       "    </tr>\n",
       "  </thead>\n",
       "  <tbody>\n",
       "    <tr>\n",
       "      <th>23</th>\n",
       "      <td>4</td>\n",
       "      <td>1</td>\n",
       "    </tr>\n",
       "    <tr>\n",
       "      <th>24</th>\n",
       "      <td>2</td>\n",
       "      <td>2</td>\n",
       "    </tr>\n",
       "    <tr>\n",
       "      <th>25</th>\n",
       "      <td>7</td>\n",
       "      <td>2</td>\n",
       "    </tr>\n",
       "    <tr>\n",
       "      <th>26</th>\n",
       "      <td>4</td>\n",
       "      <td>2</td>\n",
       "    </tr>\n",
       "    <tr>\n",
       "      <th>27</th>\n",
       "      <td>2</td>\n",
       "      <td>2</td>\n",
       "    </tr>\n",
       "    <tr>\n",
       "      <th>28</th>\n",
       "      <td>2</td>\n",
       "      <td>2</td>\n",
       "    </tr>\n",
       "    <tr>\n",
       "      <th>29</th>\n",
       "      <td>2</td>\n",
       "      <td>2</td>\n",
       "    </tr>\n",
       "    <tr>\n",
       "      <th>31</th>\n",
       "      <td>2</td>\n",
       "      <td>2</td>\n",
       "    </tr>\n",
       "    <tr>\n",
       "      <th>32</th>\n",
       "      <td>4</td>\n",
       "      <td>2</td>\n",
       "    </tr>\n",
       "    <tr>\n",
       "      <th>33</th>\n",
       "      <td>5</td>\n",
       "      <td>1</td>\n",
       "    </tr>\n",
       "    <tr>\n",
       "      <th>34</th>\n",
       "      <td>3</td>\n",
       "      <td>2</td>\n",
       "    </tr>\n",
       "    <tr>\n",
       "      <th>35</th>\n",
       "      <td>3</td>\n",
       "      <td>1</td>\n",
       "    </tr>\n",
       "    <tr>\n",
       "      <th>36</th>\n",
       "      <td>2</td>\n",
       "      <td>2</td>\n",
       "    </tr>\n",
       "    <tr>\n",
       "      <th>37</th>\n",
       "      <td>3</td>\n",
       "      <td>1</td>\n",
       "    </tr>\n",
       "  </tbody>\n",
       "</table>\n",
       "</div>"
      ],
      "text/plain": [
       "   test_ent_label        \n",
       "            count nunique\n",
       "id                       \n",
       "23              4       1\n",
       "24              2       2\n",
       "25              7       2\n",
       "26              4       2\n",
       "27              2       2\n",
       "28              2       2\n",
       "29              2       2\n",
       "31              2       2\n",
       "32              4       2\n",
       "33              5       1\n",
       "34              3       2\n",
       "35              3       1\n",
       "36              2       2\n",
       "37              3       1"
      ]
     },
     "execution_count": 34,
     "metadata": {},
     "output_type": "execute_result"
    }
   ],
   "source": [
    "# Number of entities and unique entities for each abstract\n",
    "custom_en_blank_results_df[[\"id\", \"test_ent_label\"]].groupby(\"id\").agg([\"count\", \"nunique\"])"
   ]
  },
  {
   "cell_type": "code",
   "execution_count": 37,
   "metadata": {},
   "outputs": [],
   "source": [
    "# Rename columns\n",
    "list(custom_en_blank_results_df.columns)\n",
    "columns = [\n",
    "    \"id\",\n",
    "    \"test_ent_text\",\n",
    "    \"test_ent_label\",\n",
    "    \"test_ent_start\",\n",
    "    \"test_ent_end\"\n",
    "]\n",
    "\n",
    "custom_en_blank_results_df = custom_en_blank_results_df[columns]\n",
    "\n",
    "columns = {\n",
    "    \"id\": \"id\",\n",
    "    \"test_ent_text\": \"ent_text\",\n",
    "    \"test_ent_label\": \"ent_label\",\n",
    "    \"test_ent_start\": \"ent_start\",\n",
    "    \"test_ent_end\": \"ent_end\",\n",
    "}\n",
    "\n",
    "custom_en_blank_results_df = custom_en_blank_results_df.rename(columns=columns)"
   ]
  },
  {
   "cell_type": "markdown",
   "metadata": {},
   "source": [
    "### 2.2 Load expected file and join to test results"
   ]
  },
  {
   "cell_type": "code",
   "execution_count": 62,
   "metadata": {},
   "outputs": [
    {
     "data": {
      "text/html": [
       "<div>\n",
       "<style scoped>\n",
       "    .dataframe tbody tr th:only-of-type {\n",
       "        vertical-align: middle;\n",
       "    }\n",
       "\n",
       "    .dataframe tbody tr th {\n",
       "        vertical-align: top;\n",
       "    }\n",
       "\n",
       "    .dataframe thead th {\n",
       "        text-align: right;\n",
       "    }\n",
       "</style>\n",
       "<table border=\"1\" class=\"dataframe\">\n",
       "  <thead>\n",
       "    <tr style=\"text-align: right;\">\n",
       "      <th></th>\n",
       "      <th>id</th>\n",
       "      <th>ent_text</th>\n",
       "      <th>ent_label</th>\n",
       "      <th>ent_start</th>\n",
       "      <th>ent_end</th>\n",
       "    </tr>\n",
       "  </thead>\n",
       "  <tbody>\n",
       "    <tr>\n",
       "      <th>0</th>\n",
       "      <td>23</td>\n",
       "      <td>Centella Asiatica (L.) Urb.</td>\n",
       "      <td>scientific</td>\n",
       "      <td>23</td>\n",
       "      <td>50</td>\n",
       "    </tr>\n",
       "    <tr>\n",
       "      <th>1</th>\n",
       "      <td>23</td>\n",
       "      <td>Centella asiatica</td>\n",
       "      <td>common</td>\n",
       "      <td>129</td>\n",
       "      <td>146</td>\n",
       "    </tr>\n",
       "    <tr>\n",
       "      <th>2</th>\n",
       "      <td>24</td>\n",
       "      <td>Centella asiatica (L.) Urban</td>\n",
       "      <td>scientific</td>\n",
       "      <td>168</td>\n",
       "      <td>196</td>\n",
       "    </tr>\n",
       "    <tr>\n",
       "      <th>3</th>\n",
       "      <td>25</td>\n",
       "      <td>Centella asiatica</td>\n",
       "      <td>common</td>\n",
       "      <td>40</td>\n",
       "      <td>57</td>\n",
       "    </tr>\n",
       "    <tr>\n",
       "      <th>4</th>\n",
       "      <td>25</td>\n",
       "      <td>Centella asiatica (L.) Urb.</td>\n",
       "      <td>scientific</td>\n",
       "      <td>110</td>\n",
       "      <td>137</td>\n",
       "    </tr>\n",
       "  </tbody>\n",
       "</table>\n",
       "</div>"
      ],
      "text/plain": [
       "   id                      ent_text   ent_label  ent_start  ent_end\n",
       "0  23   Centella Asiatica (L.) Urb.  scientific         23       50\n",
       "1  23             Centella asiatica      common        129      146\n",
       "2  24  Centella asiatica (L.) Urban  scientific        168      196\n",
       "3  25             Centella asiatica      common         40       57\n",
       "4  25   Centella asiatica (L.) Urb.  scientific        110      137"
      ]
     },
     "execution_count": 62,
     "metadata": {},
     "output_type": "execute_result"
    }
   ],
   "source": [
    "expected_df = pd.read_csv(expected_filename)\n",
    "# Rename columns\n",
    "list(expected_df.columns)\n",
    "columns = [\n",
    "    \"id\",\n",
    "    \"hand_ent_text\",\n",
    "    \"hand_ent_label\",\n",
    "    \"hand_ent_start\",\n",
    "    \"hand_ent_end\"\n",
    "]\n",
    "\n",
    "expected_df = expected_df[columns]\n",
    "columns = {\n",
    "    \"id\": \"id\",\n",
    "    \"hand_ent_text\": \"ent_text\",\n",
    "    \"hand_ent_label\": \"ent_label\",\n",
    "    \"hand_ent_start\": \"ent_start\",\n",
    "    \"hand_ent_end\": \"ent_end\",\n",
    "}\n",
    "\n",
    "expected_df = expected_df.rename(columns=columns)\n",
    "\n",
    "expected_df.head(5)"
   ]
  },
  {
   "cell_type": "code",
   "execution_count": 63,
   "metadata": {},
   "outputs": [
    {
     "data": {
      "text/html": [
       "<div>\n",
       "<style scoped>\n",
       "    .dataframe tbody tr th:only-of-type {\n",
       "        vertical-align: middle;\n",
       "    }\n",
       "\n",
       "    .dataframe tbody tr th {\n",
       "        vertical-align: top;\n",
       "    }\n",
       "\n",
       "    .dataframe thead th {\n",
       "        text-align: right;\n",
       "    }\n",
       "</style>\n",
       "<table border=\"1\" class=\"dataframe\">\n",
       "  <thead>\n",
       "    <tr style=\"text-align: right;\">\n",
       "      <th></th>\n",
       "      <th>id</th>\n",
       "      <th>ent_text</th>\n",
       "      <th>ent_label_custom_en</th>\n",
       "      <th>ent_label_hand</th>\n",
       "      <th>ent_start</th>\n",
       "      <th>ent_end</th>\n",
       "    </tr>\n",
       "  </thead>\n",
       "  <tbody>\n",
       "    <tr>\n",
       "      <th>0</th>\n",
       "      <td>36</td>\n",
       "      <td>Hypericum perforatum L. Across Different Geoli...</td>\n",
       "      <td>scientific</td>\n",
       "      <td>NaN</td>\n",
       "      <td>60</td>\n",
       "      <td>125</td>\n",
       "    </tr>\n",
       "    <tr>\n",
       "      <th>1</th>\n",
       "      <td>36</td>\n",
       "      <td>St. John's wort</td>\n",
       "      <td>common</td>\n",
       "      <td>common</td>\n",
       "      <td>781</td>\n",
       "      <td>796</td>\n",
       "    </tr>\n",
       "    <tr>\n",
       "      <th>2</th>\n",
       "      <td>37</td>\n",
       "      <td>gut microbiota</td>\n",
       "      <td>common</td>\n",
       "      <td>NaN</td>\n",
       "      <td>120</td>\n",
       "      <td>134</td>\n",
       "    </tr>\n",
       "    <tr>\n",
       "      <th>3</th>\n",
       "      <td>37</td>\n",
       "      <td>HP extract</td>\n",
       "      <td>common</td>\n",
       "      <td>NaN</td>\n",
       "      <td>332</td>\n",
       "      <td>342</td>\n",
       "    </tr>\n",
       "    <tr>\n",
       "      <th>4</th>\n",
       "      <td>37</td>\n",
       "      <td>LDL-C</td>\n",
       "      <td>common</td>\n",
       "      <td>NaN</td>\n",
       "      <td>1844</td>\n",
       "      <td>1839</td>\n",
       "    </tr>\n",
       "    <tr>\n",
       "      <th>5</th>\n",
       "      <td>27</td>\n",
       "      <td>Protective effects</td>\n",
       "      <td>scientific</td>\n",
       "      <td>NaN</td>\n",
       "      <td>0</td>\n",
       "      <td>18</td>\n",
       "    </tr>\n",
       "    <tr>\n",
       "      <th>6</th>\n",
       "      <td>27</td>\n",
       "      <td>silymarin</td>\n",
       "      <td>common</td>\n",
       "      <td>NaN</td>\n",
       "      <td>802</td>\n",
       "      <td>811</td>\n",
       "    </tr>\n",
       "    <tr>\n",
       "      <th>7</th>\n",
       "      <td>29</td>\n",
       "      <td>Hypericum perforatum L.</td>\n",
       "      <td>scientific</td>\n",
       "      <td>scientific</td>\n",
       "      <td>0</td>\n",
       "      <td>23</td>\n",
       "    </tr>\n",
       "    <tr>\n",
       "      <th>8</th>\n",
       "      <td>29</td>\n",
       "      <td>St. John's</td>\n",
       "      <td>common</td>\n",
       "      <td>NaN</td>\n",
       "      <td>180</td>\n",
       "      <td>190</td>\n",
       "    </tr>\n",
       "    <tr>\n",
       "      <th>9</th>\n",
       "      <td>23</td>\n",
       "      <td>Centella Asiatica (L.) Urb.</td>\n",
       "      <td>scientific</td>\n",
       "      <td>scientific</td>\n",
       "      <td>23</td>\n",
       "      <td>50</td>\n",
       "    </tr>\n",
       "    <tr>\n",
       "      <th>10</th>\n",
       "      <td>23</td>\n",
       "      <td>Published Data and Network</td>\n",
       "      <td>scientific</td>\n",
       "      <td>NaN</td>\n",
       "      <td>87</td>\n",
       "      <td>113</td>\n",
       "    </tr>\n",
       "    <tr>\n",
       "      <th>11</th>\n",
       "      <td>23</td>\n",
       "      <td>Medica dataBASE</td>\n",
       "      <td>scientific</td>\n",
       "      <td>NaN</td>\n",
       "      <td>396</td>\n",
       "      <td>411</td>\n",
       "    </tr>\n",
       "    <tr>\n",
       "      <th>12</th>\n",
       "      <td>23</td>\n",
       "      <td>Pueraria mirifica contralaterally and</td>\n",
       "      <td>scientific</td>\n",
       "      <td>NaN</td>\n",
       "      <td>1022</td>\n",
       "      <td>1059</td>\n",
       "    </tr>\n",
       "    <tr>\n",
       "      <th>13</th>\n",
       "      <td>33</td>\n",
       "      <td>Vibrio cholerae isolates.</td>\n",
       "      <td>scientific</td>\n",
       "      <td>NaN</td>\n",
       "      <td>124</td>\n",
       "      <td>149</td>\n",
       "    </tr>\n",
       "    <tr>\n",
       "      <th>14</th>\n",
       "      <td>33</td>\n",
       "      <td>Centella asiatica (L.) Urb</td>\n",
       "      <td>scientific</td>\n",
       "      <td>scientific</td>\n",
       "      <td>150</td>\n",
       "      <td>176</td>\n",
       "    </tr>\n",
       "    <tr>\n",
       "      <th>15</th>\n",
       "      <td>33</td>\n",
       "      <td>Centella asiatica(L.) Urb.</td>\n",
       "      <td>scientific</td>\n",
       "      <td>scientific</td>\n",
       "      <td>697</td>\n",
       "      <td>723</td>\n",
       "    </tr>\n",
       "    <tr>\n",
       "      <th>16</th>\n",
       "      <td>33</td>\n",
       "      <td>Vibrio cholerae; IDH03097</td>\n",
       "      <td>scientific</td>\n",
       "      <td>NaN</td>\n",
       "      <td>813</td>\n",
       "      <td>838</td>\n",
       "    </tr>\n",
       "    <tr>\n",
       "      <th>17</th>\n",
       "      <td>33</td>\n",
       "      <td>Haitian variant).</td>\n",
       "      <td>scientific</td>\n",
       "      <td>NaN</td>\n",
       "      <td>925</td>\n",
       "      <td>924</td>\n",
       "    </tr>\n",
       "    <tr>\n",
       "      <th>18</th>\n",
       "      <td>35</td>\n",
       "      <td>Centella asiatica (L.) Urban</td>\n",
       "      <td>scientific</td>\n",
       "      <td>scientific</td>\n",
       "      <td>15</td>\n",
       "      <td>43</td>\n",
       "    </tr>\n",
       "    <tr>\n",
       "      <th>19</th>\n",
       "      <td>35</td>\n",
       "      <td>Centella asiatica (L.) Urban</td>\n",
       "      <td>scientific</td>\n",
       "      <td>scientific</td>\n",
       "      <td>112</td>\n",
       "      <td>140</td>\n",
       "    </tr>\n",
       "    <tr>\n",
       "      <th>20</th>\n",
       "      <td>35</td>\n",
       "      <td>Apiaceae family</td>\n",
       "      <td>scientific</td>\n",
       "      <td>NaN</td>\n",
       "      <td>204</td>\n",
       "      <td>219</td>\n",
       "    </tr>\n",
       "    <tr>\n",
       "      <th>21</th>\n",
       "      <td>34</td>\n",
       "      <td>Escherichia coli Heat-Labile Enterotoxin B Sub...</td>\n",
       "      <td>scientific</td>\n",
       "      <td>NaN</td>\n",
       "      <td>14</td>\n",
       "      <td>64</td>\n",
       "    </tr>\n",
       "    <tr>\n",
       "      <th>22</th>\n",
       "      <td>34</td>\n",
       "      <td>Centella asiatica (L.) Urban</td>\n",
       "      <td>scientific</td>\n",
       "      <td>scientific</td>\n",
       "      <td>78</td>\n",
       "      <td>106</td>\n",
       "    </tr>\n",
       "    <tr>\n",
       "      <th>23</th>\n",
       "      <td>34</td>\n",
       "      <td>subunit</td>\n",
       "      <td>common</td>\n",
       "      <td>NaN</td>\n",
       "      <td>164</td>\n",
       "      <td>171</td>\n",
       "    </tr>\n",
       "    <tr>\n",
       "      <th>24</th>\n",
       "      <td>28</td>\n",
       "      <td>Compounds in</td>\n",
       "      <td>scientific</td>\n",
       "      <td>NaN</td>\n",
       "      <td>47</td>\n",
       "      <td>59</td>\n",
       "    </tr>\n",
       "    <tr>\n",
       "      <th>25</th>\n",
       "      <td>28</td>\n",
       "      <td>asiatica</td>\n",
       "      <td>common</td>\n",
       "      <td>NaN</td>\n",
       "      <td>80</td>\n",
       "      <td>88</td>\n",
       "    </tr>\n",
       "    <tr>\n",
       "      <th>26</th>\n",
       "      <td>26</td>\n",
       "      <td>Hyperforin and</td>\n",
       "      <td>common</td>\n",
       "      <td>NaN</td>\n",
       "      <td>96</td>\n",
       "      <td>110</td>\n",
       "    </tr>\n",
       "    <tr>\n",
       "      <th>27</th>\n",
       "      <td>26</td>\n",
       "      <td>John's</td>\n",
       "      <td>common</td>\n",
       "      <td>NaN</td>\n",
       "      <td>124</td>\n",
       "      <td>130</td>\n",
       "    </tr>\n",
       "    <tr>\n",
       "      <th>28</th>\n",
       "      <td>26</td>\n",
       "      <td>Hypericum perforatum L.</td>\n",
       "      <td>scientific</td>\n",
       "      <td>scientific</td>\n",
       "      <td>154</td>\n",
       "      <td>177</td>\n",
       "    </tr>\n",
       "    <tr>\n",
       "      <th>29</th>\n",
       "      <td>26</td>\n",
       "      <td>St. John's wort</td>\n",
       "      <td>common</td>\n",
       "      <td>common</td>\n",
       "      <td>1904</td>\n",
       "      <td>1919</td>\n",
       "    </tr>\n",
       "  </tbody>\n",
       "</table>\n",
       "</div>"
      ],
      "text/plain": [
       "    id                                           ent_text ent_label_custom_en  \\\n",
       "0   36  Hypericum perforatum L. Across Different Geoli...          scientific   \n",
       "1   36                                    St. John's wort              common   \n",
       "2   37                                     gut microbiota              common   \n",
       "3   37                                         HP extract              common   \n",
       "4   37                                              LDL-C              common   \n",
       "5   27                                 Protective effects          scientific   \n",
       "6   27                                          silymarin              common   \n",
       "7   29                            Hypericum perforatum L.          scientific   \n",
       "8   29                                         St. John's              common   \n",
       "9   23                        Centella Asiatica (L.) Urb.          scientific   \n",
       "10  23                         Published Data and Network          scientific   \n",
       "11  23                                    Medica dataBASE          scientific   \n",
       "12  23              Pueraria mirifica contralaterally and          scientific   \n",
       "13  33                          Vibrio cholerae isolates.          scientific   \n",
       "14  33                         Centella asiatica (L.) Urb          scientific   \n",
       "15  33                         Centella asiatica(L.) Urb.          scientific   \n",
       "16  33                          Vibrio cholerae; IDH03097          scientific   \n",
       "17  33                                  Haitian variant).          scientific   \n",
       "18  35                       Centella asiatica (L.) Urban          scientific   \n",
       "19  35                       Centella asiatica (L.) Urban          scientific   \n",
       "20  35                                    Apiaceae family          scientific   \n",
       "21  34  Escherichia coli Heat-Labile Enterotoxin B Sub...          scientific   \n",
       "22  34                       Centella asiatica (L.) Urban          scientific   \n",
       "23  34                                            subunit              common   \n",
       "24  28                                       Compounds in          scientific   \n",
       "25  28                                           asiatica              common   \n",
       "26  26                                     Hyperforin and              common   \n",
       "27  26                                             John's              common   \n",
       "28  26                            Hypericum perforatum L.          scientific   \n",
       "29  26                                    St. John's wort              common   \n",
       "\n",
       "   ent_label_hand  ent_start  ent_end  \n",
       "0             NaN         60      125  \n",
       "1          common        781      796  \n",
       "2             NaN        120      134  \n",
       "3             NaN        332      342  \n",
       "4             NaN       1844     1839  \n",
       "5             NaN          0       18  \n",
       "6             NaN        802      811  \n",
       "7      scientific          0       23  \n",
       "8             NaN        180      190  \n",
       "9      scientific         23       50  \n",
       "10            NaN         87      113  \n",
       "11            NaN        396      411  \n",
       "12            NaN       1022     1059  \n",
       "13            NaN        124      149  \n",
       "14     scientific        150      176  \n",
       "15     scientific        697      723  \n",
       "16            NaN        813      838  \n",
       "17            NaN        925      924  \n",
       "18     scientific         15       43  \n",
       "19     scientific        112      140  \n",
       "20            NaN        204      219  \n",
       "21            NaN         14       64  \n",
       "22     scientific         78      106  \n",
       "23            NaN        164      171  \n",
       "24            NaN         47       59  \n",
       "25            NaN         80       88  \n",
       "26            NaN         96      110  \n",
       "27            NaN        124      130  \n",
       "28     scientific        154      177  \n",
       "29         common       1904     1919  "
      ]
     },
     "execution_count": 63,
     "metadata": {},
     "output_type": "execute_result"
    }
   ],
   "source": [
    "custom_en_blank_and_expected_df = custom_en_blank_results_df.merge(expected_df, on=[\"id\", \"ent_text\", \"ent_start\", \"ent_end\"], how=\"outer\", suffixes=(\"_custom_en\", \"_hand\"))\n",
    "\n",
    "# Tidy column headings and rearrange the columns for reading\n",
    "custom_en_blank_and_expected_df = custom_en_blank_and_expected_df.rename(columns={\"ent_label\": \"ent_label_custom_en\"})\n",
    "# list(results_df.columns)\n",
    "\n",
    "columns = [\n",
    "    \"id\",\n",
    "    \"ent_text\",\n",
    "    \"ent_label_custom_en\",\n",
    "    \"ent_label_hand\",\n",
    "    \"ent_start\",\n",
    "    \"ent_end\"\n",
    "]\n",
    "custom_en_blank_and_expected_df = custom_en_blank_and_expected_df[columns]\n",
    "custom_en_blank_and_expected_df.head(30)"
   ]
  },
  {
   "cell_type": "markdown",
   "metadata": {},
   "source": [
    "### 2.3 Analysis of all results"
   ]
  },
  {
   "cell_type": "code",
   "execution_count": 69,
   "metadata": {},
   "outputs": [],
   "source": [
    "# Common calculations\n",
    "def calculate_precision(tp: int, fp: int) -> float:\n",
    "    return tp / (tp + fp + 1e-100)\n",
    "\n",
    "def calculate_recall(tp: int, fn: int) -> float:\n",
    "    return tp / (tp + fn + 1e-100)\n",
    "\n",
    "def calculate_f1(precision: float, recall: float) -> float:\n",
    "    return (2 * precision * recall) / (precision + recall + 1e-100)"
   ]
  },
  {
   "cell_type": "markdown",
   "metadata": {},
   "source": [
    "Get TP, FP, and FN for custom model"
   ]
  },
  {
   "cell_type": "code",
   "execution_count": 44,
   "metadata": {},
   "outputs": [],
   "source": [
    "# Get TP, FP, FN for en_core_sci_md_results_and_expected_df\n",
    "true_postive = (custom_en_blank_and_expected_df[\"ent_label_custom_en\"].notnull() & custom_en_blank_and_expected_df[\"ent_label_hand\"].notnull())\n",
    "false_postive = (custom_en_blank_and_expected_df[\"ent_label_custom_en\"].notnull() & custom_en_blank_and_expected_df[\"ent_label_hand\"].isnull())\n",
    "false_negative = (custom_en_blank_and_expected_df[\"ent_label_custom_en\"].isnull() & custom_en_blank_and_expected_df[\"ent_label_hand\"].notnull())"
   ]
  },
  {
   "cell_type": "code",
   "execution_count": 48,
   "metadata": {},
   "outputs": [
    {
     "data": {
      "text/plain": [
       "12"
      ]
     },
     "execution_count": 48,
     "metadata": {},
     "output_type": "execute_result"
    }
   ],
   "source": [
    "custom_en_blank_and_expected_df[true_postive]\n",
    "custom_en_blank_results_tp = len(custom_en_blank_and_expected_df[true_postive])\n",
    "custom_en_blank_results_tp"
   ]
  },
  {
   "cell_type": "code",
   "execution_count": 49,
   "metadata": {},
   "outputs": [
    {
     "data": {
      "text/plain": [
       "33"
      ]
     },
     "execution_count": 49,
     "metadata": {},
     "output_type": "execute_result"
    }
   ],
   "source": [
    "custom_en_blank_and_expected_df[false_postive]\n",
    "custom_en_blank_results_fp = len(custom_en_blank_and_expected_df[false_postive])\n",
    "custom_en_blank_results_fp"
   ]
  },
  {
   "cell_type": "code",
   "execution_count": 50,
   "metadata": {},
   "outputs": [
    {
     "data": {
      "text/plain": [
       "42"
      ]
     },
     "execution_count": 50,
     "metadata": {},
     "output_type": "execute_result"
    }
   ],
   "source": [
    "custom_en_blank_and_expected_df[false_negative]\n",
    "custom_en_blank_results_fn = len(custom_en_blank_and_expected_df[false_negative])\n",
    "custom_en_blank_results_fn"
   ]
  },
  {
   "cell_type": "code",
   "execution_count": 70,
   "metadata": {},
   "outputs": [
    {
     "name": "stdout",
     "output_type": "stream",
     "text": [
      "45 12 33 42\n"
     ]
    }
   ],
   "source": [
    "print(len(custom_en_blank_results_df), custom_en_blank_results_tp, custom_en_blank_results_fp, custom_en_blank_results_fn)"
   ]
  },
  {
   "cell_type": "code",
   "execution_count": 71,
   "metadata": {},
   "outputs": [
    {
     "data": {
      "text/plain": [
       "0.26666666666666666"
      ]
     },
     "execution_count": 71,
     "metadata": {},
     "output_type": "execute_result"
    }
   ],
   "source": [
    "calculate_precision(tp=custom_en_blank_results_tp, fp=custom_en_blank_results_fp)"
   ]
  },
  {
   "cell_type": "code",
   "execution_count": 72,
   "metadata": {},
   "outputs": [
    {
     "data": {
      "text/plain": [
       "0.2222222222222222"
      ]
     },
     "execution_count": 72,
     "metadata": {},
     "output_type": "execute_result"
    }
   ],
   "source": [
    "calculate_recall(tp=custom_en_blank_results_tp, fn=custom_en_blank_results_fn)"
   ]
  },
  {
   "cell_type": "code",
   "execution_count": 73,
   "metadata": {},
   "outputs": [
    {
     "data": {
      "text/plain": [
       "0.2424242424242424"
      ]
     },
     "execution_count": 73,
     "metadata": {},
     "output_type": "execute_result"
    }
   ],
   "source": [
    "calculate_f1(precision=calculate_precision(tp=custom_en_blank_results_tp, fp=custom_en_blank_results_fp), recall=calculate_recall(tp=custom_en_blank_results_tp, fn=custom_en_blank_results_fn))"
   ]
  },
  {
   "cell_type": "markdown",
   "metadata": {},
   "source": [
    "### 2.4 Further analysis"
   ]
  },
  {
   "cell_type": "code",
   "execution_count": 56,
   "metadata": {},
   "outputs": [],
   "source": [
    "# Get hits and misses with types of entities\n",
    "custom_en_blank_results_tp_common = (custom_en_blank_and_expected_df[\"ent_label_custom_en\"].notnull() & (custom_en_blank_and_expected_df[\"ent_label_hand\"]==\"common\"))\n",
    "custom_en_blank_results_tp_scientific = (custom_en_blank_and_expected_df[\"ent_label_custom_en\"].notnull() & (custom_en_blank_and_expected_df[\"ent_label_hand\"]==\"scientific\"))\n",
    "\n",
    "custom_en_blank_results_fn_common = (custom_en_blank_and_expected_df[\"ent_label_custom_en\"].isnull() & (custom_en_blank_and_expected_df[\"ent_label_hand\"]==\"common\"))\n",
    "custom_en_blank_results_fn_scientific = (custom_en_blank_and_expected_df[\"ent_label_custom_en\"].isnull() & (custom_en_blank_and_expected_df[\"ent_label_hand\"]==\"scientific\"))\n"
   ]
  },
  {
   "cell_type": "code",
   "execution_count": 57,
   "metadata": {},
   "outputs": [
    {
     "data": {
      "text/plain": [
       "2"
      ]
     },
     "execution_count": 57,
     "metadata": {},
     "output_type": "execute_result"
    }
   ],
   "source": [
    "custom_en_blank_and_expected_df[custom_en_blank_results_tp_common]\n",
    "len(custom_en_blank_and_expected_df[custom_en_blank_results_tp_common])"
   ]
  },
  {
   "cell_type": "code",
   "execution_count": 58,
   "metadata": {},
   "outputs": [
    {
     "data": {
      "text/plain": [
       "10"
      ]
     },
     "execution_count": 58,
     "metadata": {},
     "output_type": "execute_result"
    }
   ],
   "source": [
    "custom_en_blank_and_expected_df[custom_en_blank_results_tp_scientific]\n",
    "len(custom_en_blank_and_expected_df[custom_en_blank_results_tp_scientific])"
   ]
  },
  {
   "cell_type": "code",
   "execution_count": 59,
   "metadata": {},
   "outputs": [
    {
     "data": {
      "text/plain": [
       "28"
      ]
     },
     "execution_count": 59,
     "metadata": {},
     "output_type": "execute_result"
    }
   ],
   "source": [
    "custom_en_blank_and_expected_df[custom_en_blank_results_fn_common]\n",
    "len(custom_en_blank_and_expected_df[custom_en_blank_results_fn_common])"
   ]
  },
  {
   "cell_type": "code",
   "execution_count": 60,
   "metadata": {},
   "outputs": [
    {
     "data": {
      "text/plain": [
       "14"
      ]
     },
     "execution_count": 60,
     "metadata": {},
     "output_type": "execute_result"
    }
   ],
   "source": [
    "custom_en_blank_and_expected_df[custom_en_blank_results_fn_scientific]\n",
    "len(custom_en_blank_and_expected_df[custom_en_blank_results_fn_scientific])"
   ]
  }
 ],
 "metadata": {
  "interpreter": {
   "hash": "bc308d1304c7fd2a3ab6b42691552a5dde46d375aed6d0f0ee91ca2e837af1b6"
  },
  "kernelspec": {
   "display_name": "Python 3.9.8 64-bit ('venv-scispacy': venv)",
   "language": "python",
   "name": "python3"
  },
  "language_info": {
   "codemirror_mode": {
    "name": "ipython",
    "version": 3
   },
   "file_extension": ".py",
   "mimetype": "text/x-python",
   "name": "python",
   "nbconvert_exporter": "python",
   "pygments_lexer": "ipython3",
   "version": "3.9.8"
  },
  "orig_nbformat": 4
 },
 "nbformat": 4,
 "nbformat_minor": 2
}
