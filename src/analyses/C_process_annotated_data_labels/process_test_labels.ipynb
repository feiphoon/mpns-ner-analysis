{
 "cells": [
  {
   "cell_type": "markdown",
   "metadata": {},
   "source": [
    "# Process hand-annotated abstracts for analysis"
   ]
  },
  {
   "cell_type": "markdown",
   "metadata": {},
   "source": [
    "## 1: Setup "
   ]
  },
  {
   "cell_type": "markdown",
   "metadata": {},
   "source": [
    "### 1.1: Load models and packages"
   ]
  },
  {
   "cell_type": "code",
   "execution_count": 4,
   "metadata": {},
   "outputs": [],
   "source": [
    "import os\n",
    "import json\n",
    "from pathlib import Path\n",
    "import pandas as pd\n"
   ]
  },
  {
   "cell_type": "code",
   "execution_count": 5,
   "metadata": {},
   "outputs": [],
   "source": [
    "\n",
    "# Add some functions I've already written for the NER pipeline\n",
    "from helpers.entity_replacement.functions import return_phrase_at_location, PhraseLocation"
   ]
  },
  {
   "cell_type": "markdown",
   "metadata": {},
   "source": [
    "### 1.2: Load hand-annotated abstracts file"
   ]
  },
  {
   "cell_type": "code",
   "execution_count": 6,
   "metadata": {},
   "outputs": [],
   "source": [
    "hand_annotated_pubmed_data_filename = \"../../../data/hand_annotated_abstracts/test/part-00000-c89cb926-5be3-4c52-a27a-cf9d031475b9-c000.json\"\n",
    "output_filepath = \"../../../data/hand_annotated_abstracts/answers\""
   ]
  },
  {
   "cell_type": "markdown",
   "metadata": {},
   "source": [
    "### 1.3: Define some loading and reformatting functions"
   ]
  },
  {
   "cell_type": "code",
   "execution_count": 7,
   "metadata": {},
   "outputs": [],
   "source": [
    "def get_labels_from_json_abstracts(\n",
    "    input_filename: str, output_filepath: str) -> None:\n",
    "\n",
    "    with open(input_filename, \"r\") as f:\n",
    "        contents = [json.loads(json_line) for json_line in list(f)]\n",
    "\n",
    "        result_rows = []\n",
    "        for corpus in contents:\n",
    "            # Create labels tuple for every entity in each abstract.\n",
    "            # Here's the boilerplate of every result in this abstract or corpus.\n",
    "            result = (corpus[\"id\"], corpus[\"pmid\"], corpus[\"data\"])\n",
    "\n",
    "            # This produces the entity, label and position\n",
    "            for lb in corpus[\"label\"]:\n",
    "                _phrase_location = PhraseLocation(start=int(lb[0]), end=int(lb[1]))\n",
    "                _entities = (\n",
    "                    return_phrase_at_location(loc=_phrase_location, corpus=corpus[\"data\"]),\n",
    "                    lb[2],\n",
    "                    int(_phrase_location.start),\n",
    "                    int(_phrase_location.end),\n",
    "                )\n",
    "\n",
    "                result_rows.append(result + _entities)\n",
    "\n",
    "    result_cols = [\n",
    "        \"id\",\n",
    "        \"pmid\",\n",
    "        \"corpus\",\n",
    "        \"hand_ent_text\",\n",
    "        \"hand_ent_label\",\n",
    "        \"hand_ent_start\",\n",
    "        \"hand_ent_end\",\n",
    "    ]\n",
    "    results_df = pd.DataFrame.from_records(result_rows, columns=result_cols)\n",
    "    results_df = results_df.sort_values([\"id\", \"hand_ent_start\"], ascending=(True, True))\n",
    "\n",
    "    output_filepath = Path(output_filepath)\n",
    "    output_filepath.mkdir(parents=True, exist_ok=True)\n",
    "    results_df.to_csv(Path(f\"{output_filepath}/hand_annotated_answers.csv\") , index=False)"
   ]
  },
  {
   "cell_type": "markdown",
   "metadata": {},
   "source": [
    "## 2: Create reformatted data for analysis"
   ]
  },
  {
   "cell_type": "code",
   "execution_count": 8,
   "metadata": {},
   "outputs": [],
   "source": [
    "get_labels_from_json_abstracts(input_filename=hand_annotated_pubmed_data_filename, output_filepath=output_filepath)"
   ]
  },
  {
   "cell_type": "markdown",
   "metadata": {},
   "source": [
    "## 3: Analysis of annotation answers in the test data"
   ]
  },
  {
   "cell_type": "code",
   "execution_count": 9,
   "metadata": {},
   "outputs": [
    {
     "data": {
      "text/html": [
       "<div>\n",
       "<style scoped>\n",
       "    .dataframe tbody tr th:only-of-type {\n",
       "        vertical-align: middle;\n",
       "    }\n",
       "\n",
       "    .dataframe tbody tr th {\n",
       "        vertical-align: top;\n",
       "    }\n",
       "\n",
       "    .dataframe thead th {\n",
       "        text-align: right;\n",
       "    }\n",
       "</style>\n",
       "<table border=\"1\" class=\"dataframe\">\n",
       "  <thead>\n",
       "    <tr style=\"text-align: right;\">\n",
       "      <th></th>\n",
       "      <th>id</th>\n",
       "      <th>pmid</th>\n",
       "      <th>corpus</th>\n",
       "      <th>hand_ent_text</th>\n",
       "      <th>hand_ent_label</th>\n",
       "      <th>hand_ent_start</th>\n",
       "      <th>hand_ent_end</th>\n",
       "    </tr>\n",
       "  </thead>\n",
       "  <tbody>\n",
       "    <tr>\n",
       "      <th>0</th>\n",
       "      <td>23</td>\n",
       "      <td>33413787</td>\n",
       "      <td>Efficacy and Safety of Centella Asiatica (L.) ...</td>\n",
       "      <td>Centella Asiatica (L.) Urb.</td>\n",
       "      <td>scientific</td>\n",
       "      <td>23</td>\n",
       "      <td>50</td>\n",
       "    </tr>\n",
       "    <tr>\n",
       "      <th>1</th>\n",
       "      <td>23</td>\n",
       "      <td>33413787</td>\n",
       "      <td>Efficacy and Safety of Centella Asiatica (L.) ...</td>\n",
       "      <td>Centella asiatica</td>\n",
       "      <td>common</td>\n",
       "      <td>129</td>\n",
       "      <td>146</td>\n",
       "    </tr>\n",
       "    <tr>\n",
       "      <th>2</th>\n",
       "      <td>24</td>\n",
       "      <td>32281154</td>\n",
       "      <td>Integration of mass spectral fingerprinting an...</td>\n",
       "      <td>Centella asiatica (L.) Urban</td>\n",
       "      <td>scientific</td>\n",
       "      <td>168</td>\n",
       "      <td>196</td>\n",
       "    </tr>\n",
       "    <tr>\n",
       "      <th>3</th>\n",
       "      <td>25</td>\n",
       "      <td>32668965</td>\n",
       "      <td>Inhibition of Inflammatory Responses by Centel...</td>\n",
       "      <td>Centella asiatica</td>\n",
       "      <td>common</td>\n",
       "      <td>40</td>\n",
       "      <td>57</td>\n",
       "    </tr>\n",
       "    <tr>\n",
       "      <th>4</th>\n",
       "      <td>25</td>\n",
       "      <td>32668965</td>\n",
       "      <td>Inhibition of Inflammatory Responses by Centel...</td>\n",
       "      <td>Centella asiatica (L.) Urb.</td>\n",
       "      <td>scientific</td>\n",
       "      <td>110</td>\n",
       "      <td>137</td>\n",
       "    </tr>\n",
       "    <tr>\n",
       "      <th>5</th>\n",
       "      <td>26</td>\n",
       "      <td>32948004</td>\n",
       "      <td>Optimization of Light Intensity, Temperature, ...</td>\n",
       "      <td>St. John's Wort</td>\n",
       "      <td>common</td>\n",
       "      <td>120</td>\n",
       "      <td>135</td>\n",
       "    </tr>\n",
       "    <tr>\n",
       "      <th>6</th>\n",
       "      <td>26</td>\n",
       "      <td>32948004</td>\n",
       "      <td>Optimization of Light Intensity, Temperature, ...</td>\n",
       "      <td>St. John's wort</td>\n",
       "      <td>common</td>\n",
       "      <td>137</td>\n",
       "      <td>152</td>\n",
       "    </tr>\n",
       "    <tr>\n",
       "      <th>7</th>\n",
       "      <td>26</td>\n",
       "      <td>32948004</td>\n",
       "      <td>Optimization of Light Intensity, Temperature, ...</td>\n",
       "      <td>Hypericum perforatum L.</td>\n",
       "      <td>scientific</td>\n",
       "      <td>154</td>\n",
       "      <td>177</td>\n",
       "    </tr>\n",
       "    <tr>\n",
       "      <th>8</th>\n",
       "      <td>26</td>\n",
       "      <td>32948004</td>\n",
       "      <td>Optimization of Light Intensity, Temperature, ...</td>\n",
       "      <td>St. John's wort</td>\n",
       "      <td>common</td>\n",
       "      <td>375</td>\n",
       "      <td>390</td>\n",
       "    </tr>\n",
       "    <tr>\n",
       "      <th>9</th>\n",
       "      <td>26</td>\n",
       "      <td>32948004</td>\n",
       "      <td>Optimization of Light Intensity, Temperature, ...</td>\n",
       "      <td>St John's wort</td>\n",
       "      <td>common</td>\n",
       "      <td>611</td>\n",
       "      <td>625</td>\n",
       "    </tr>\n",
       "  </tbody>\n",
       "</table>\n",
       "</div>"
      ],
      "text/plain": [
       "   id      pmid                                             corpus  \\\n",
       "0  23  33413787  Efficacy and Safety of Centella Asiatica (L.) ...   \n",
       "1  23  33413787  Efficacy and Safety of Centella Asiatica (L.) ...   \n",
       "2  24  32281154  Integration of mass spectral fingerprinting an...   \n",
       "3  25  32668965  Inhibition of Inflammatory Responses by Centel...   \n",
       "4  25  32668965  Inhibition of Inflammatory Responses by Centel...   \n",
       "5  26  32948004  Optimization of Light Intensity, Temperature, ...   \n",
       "6  26  32948004  Optimization of Light Intensity, Temperature, ...   \n",
       "7  26  32948004  Optimization of Light Intensity, Temperature, ...   \n",
       "8  26  32948004  Optimization of Light Intensity, Temperature, ...   \n",
       "9  26  32948004  Optimization of Light Intensity, Temperature, ...   \n",
       "\n",
       "                  hand_ent_text hand_ent_label  hand_ent_start  hand_ent_end  \n",
       "0   Centella Asiatica (L.) Urb.     scientific              23            50  \n",
       "1             Centella asiatica         common             129           146  \n",
       "2  Centella asiatica (L.) Urban     scientific             168           196  \n",
       "3             Centella asiatica         common              40            57  \n",
       "4   Centella asiatica (L.) Urb.     scientific             110           137  \n",
       "5               St. John's Wort         common             120           135  \n",
       "6               St. John's wort         common             137           152  \n",
       "7       Hypericum perforatum L.     scientific             154           177  \n",
       "8               St. John's wort         common             375           390  \n",
       "9                St John's wort         common             611           625  "
      ]
     },
     "execution_count": 9,
     "metadata": {},
     "output_type": "execute_result"
    }
   ],
   "source": [
    "# Load the reformatted answers\n",
    "hand_annotated_answers_df = pd.read_csv(os.path.join(output_filepath, \"hand_annotated_answers.csv\"))\n",
    "hand_annotated_answers_df.head(10)"
   ]
  },
  {
   "cell_type": "code",
   "execution_count": 10,
   "metadata": {},
   "outputs": [
    {
     "data": {
      "text/plain": [
       "hand_ent_label\n",
       "common        30\n",
       "scientific    24\n",
       "dtype: int64"
      ]
     },
     "execution_count": 10,
     "metadata": {},
     "output_type": "execute_result"
    }
   ],
   "source": [
    "# Split of entity labels\n",
    "hand_annotated_answers_df.value_counts(\"hand_ent_label\")"
   ]
  },
  {
   "cell_type": "code",
   "execution_count": 11,
   "metadata": {},
   "outputs": [
    {
     "data": {
      "text/plain": [
       "54"
      ]
     },
     "execution_count": 11,
     "metadata": {},
     "output_type": "execute_result"
    }
   ],
   "source": [
    "# Total number of entities annotated\n",
    "len(hand_annotated_answers_df)"
   ]
  },
  {
   "cell_type": "code",
   "execution_count": 12,
   "metadata": {},
   "outputs": [
    {
     "data": {
      "text/plain": [
       "15"
      ]
     },
     "execution_count": 12,
     "metadata": {},
     "output_type": "execute_result"
    }
   ],
   "source": [
    "# Number of annotated test data/abstracts\n",
    "hand_annotated_answers_df[\"id\"].nunique()"
   ]
  },
  {
   "cell_type": "code",
   "execution_count": 13,
   "metadata": {},
   "outputs": [
    {
     "data": {
      "text/html": [
       "<div>\n",
       "<style scoped>\n",
       "    .dataframe tbody tr th:only-of-type {\n",
       "        vertical-align: middle;\n",
       "    }\n",
       "\n",
       "    .dataframe tbody tr th {\n",
       "        vertical-align: top;\n",
       "    }\n",
       "\n",
       "    .dataframe thead tr th {\n",
       "        text-align: left;\n",
       "    }\n",
       "\n",
       "    .dataframe thead tr:last-of-type th {\n",
       "        text-align: right;\n",
       "    }\n",
       "</style>\n",
       "<table border=\"1\" class=\"dataframe\">\n",
       "  <thead>\n",
       "    <tr>\n",
       "      <th></th>\n",
       "      <th colspan=\"2\" halign=\"left\">hand_ent_label</th>\n",
       "    </tr>\n",
       "    <tr>\n",
       "      <th></th>\n",
       "      <th>count</th>\n",
       "      <th>nunique</th>\n",
       "    </tr>\n",
       "    <tr>\n",
       "      <th>id</th>\n",
       "      <th></th>\n",
       "      <th></th>\n",
       "    </tr>\n",
       "  </thead>\n",
       "  <tbody>\n",
       "    <tr>\n",
       "      <th>23</th>\n",
       "      <td>2</td>\n",
       "      <td>2</td>\n",
       "    </tr>\n",
       "    <tr>\n",
       "      <th>24</th>\n",
       "      <td>1</td>\n",
       "      <td>1</td>\n",
       "    </tr>\n",
       "    <tr>\n",
       "      <th>25</th>\n",
       "      <td>2</td>\n",
       "      <td>2</td>\n",
       "    </tr>\n",
       "    <tr>\n",
       "      <th>26</th>\n",
       "      <td>6</td>\n",
       "      <td>2</td>\n",
       "    </tr>\n",
       "    <tr>\n",
       "      <th>27</th>\n",
       "      <td>13</td>\n",
       "      <td>2</td>\n",
       "    </tr>\n",
       "    <tr>\n",
       "      <th>28</th>\n",
       "      <td>2</td>\n",
       "      <td>2</td>\n",
       "    </tr>\n",
       "    <tr>\n",
       "      <th>29</th>\n",
       "      <td>3</td>\n",
       "      <td>2</td>\n",
       "    </tr>\n",
       "    <tr>\n",
       "      <th>30</th>\n",
       "      <td>4</td>\n",
       "      <td>2</td>\n",
       "    </tr>\n",
       "    <tr>\n",
       "      <th>31</th>\n",
       "      <td>3</td>\n",
       "      <td>2</td>\n",
       "    </tr>\n",
       "    <tr>\n",
       "      <th>32</th>\n",
       "      <td>3</td>\n",
       "      <td>2</td>\n",
       "    </tr>\n",
       "    <tr>\n",
       "      <th>33</th>\n",
       "      <td>5</td>\n",
       "      <td>2</td>\n",
       "    </tr>\n",
       "    <tr>\n",
       "      <th>34</th>\n",
       "      <td>2</td>\n",
       "      <td>2</td>\n",
       "    </tr>\n",
       "    <tr>\n",
       "      <th>35</th>\n",
       "      <td>3</td>\n",
       "      <td>2</td>\n",
       "    </tr>\n",
       "    <tr>\n",
       "      <th>36</th>\n",
       "      <td>3</td>\n",
       "      <td>2</td>\n",
       "    </tr>\n",
       "    <tr>\n",
       "      <th>37</th>\n",
       "      <td>2</td>\n",
       "      <td>1</td>\n",
       "    </tr>\n",
       "  </tbody>\n",
       "</table>\n",
       "</div>"
      ],
      "text/plain": [
       "   hand_ent_label        \n",
       "            count nunique\n",
       "id                       \n",
       "23              2       2\n",
       "24              1       1\n",
       "25              2       2\n",
       "26              6       2\n",
       "27             13       2\n",
       "28              2       2\n",
       "29              3       2\n",
       "30              4       2\n",
       "31              3       2\n",
       "32              3       2\n",
       "33              5       2\n",
       "34              2       2\n",
       "35              3       2\n",
       "36              3       2\n",
       "37              2       1"
      ]
     },
     "execution_count": 13,
     "metadata": {},
     "output_type": "execute_result"
    }
   ],
   "source": [
    "# Number of entities and unique entities for each abstract\n",
    "hand_annotated_answers_df[[\"id\", \"hand_ent_label\"]].groupby(\"id\").agg([\"count\", \"nunique\"])"
   ]
  }
 ],
 "metadata": {
  "interpreter": {
   "hash": "67f4780eb96faf297d175188e69e69fac805a6f2ebb65e35e4468d9195d66e2d"
  },
  "kernelspec": {
   "display_name": "Python 3.8.5 64-bit ('venv-scispacy': venv)",
   "language": "python",
   "name": "python3"
  },
  "language_info": {
   "codemirror_mode": {
    "name": "ipython",
    "version": 3
   },
   "file_extension": ".py",
   "mimetype": "text/x-python",
   "name": "python",
   "nbconvert_exporter": "python",
   "pygments_lexer": "ipython3",
   "version": "3.9.8"
  },
  "orig_nbformat": 4
 },
 "nbformat": 4,
 "nbformat_minor": 2
}
