{
 "cells": [
  {
   "cell_type": "markdown",
   "metadata": {},
   "source": [
    "# Process hand-annotated abstracts for analysis"
   ]
  },
  {
   "cell_type": "markdown",
   "metadata": {},
   "source": [
    "## 1: Setup "
   ]
  },
  {
   "cell_type": "markdown",
   "metadata": {},
   "source": [
    "### 1.1: Load models and packages"
   ]
  },
  {
   "cell_type": "code",
   "execution_count": 1,
   "metadata": {},
   "outputs": [],
   "source": [
    "import os\n",
    "import json\n",
    "from pathlib import Path\n",
    "import pandas as pd\n"
   ]
  },
  {
   "cell_type": "code",
   "execution_count": 40,
   "metadata": {},
   "outputs": [],
   "source": [
    "\n",
    "# Add some functions I've already written for the NER pipeline\n",
    "from helpers.entity_replacement.functions import return_phrase_at_location, PhraseLocation"
   ]
  },
  {
   "cell_type": "markdown",
   "metadata": {},
   "source": [
    "### 1.2: Load hand-annotated abstracts file"
   ]
  },
  {
   "cell_type": "code",
   "execution_count": 41,
   "metadata": {},
   "outputs": [],
   "source": [
    "hand_annotated_pubmed_data_filename = \"../../../data/hand_annotated_abstracts/test/part-00000-3f29966d-3707-4973-a811-6c53c50a0735-c000.json\"\n",
    "output_filepath = \"../../../data/hand_annotated_abstracts/answers\""
   ]
  },
  {
   "cell_type": "markdown",
   "metadata": {},
   "source": [
    "### 1.3: Define some loading and reformatting functions"
   ]
  },
  {
   "cell_type": "code",
   "execution_count": 54,
   "metadata": {},
   "outputs": [],
   "source": [
    "def get_labels_from_json_abstracts(\n",
    "    input_filename: str, output_filepath: str) -> None:\n",
    "\n",
    "    with open(input_filename, \"r\") as f:\n",
    "        contents = [json.loads(json_line) for json_line in list(f)]\n",
    "\n",
    "        result_rows = []\n",
    "        for corpus in contents:\n",
    "            # Create labels tuple for every entity in each abstract.\n",
    "            # Here's the boilerplate of every result in this abstract or corpus.\n",
    "            result = (corpus[\"id\"], corpus[\"pmid\"], corpus[\"data\"])\n",
    "\n",
    "            # This produces the entity, label and position\n",
    "            for lb in corpus[\"label\"]:\n",
    "                _phrase_location = PhraseLocation(start=int(lb[0]), end=int(lb[1]))\n",
    "                _entities = (\n",
    "                    return_phrase_at_location(loc=_phrase_location, corpus=corpus[\"data\"]),\n",
    "                    lb[2],\n",
    "                    int(_phrase_location.start),\n",
    "                    int(_phrase_location.end),\n",
    "                )\n",
    "\n",
    "                result_rows.append(result + _entities)\n",
    "\n",
    "    result_cols = [\n",
    "        \"id\",\n",
    "        \"pmid\",\n",
    "        \"corpus\",\n",
    "        \"hand_ent_text\",\n",
    "        \"hand_ent_label\",\n",
    "        \"hand_ent_start\",\n",
    "        \"hand_ent_end\",\n",
    "    ]\n",
    "    results_df = pd.DataFrame.from_records(result_rows, columns=result_cols)\n",
    "    results_df = results_df.sort_values([\"id\", \"hand_ent_start\"], ascending=(True, True))\n",
    "\n",
    "    output_filepath = Path(output_filepath)\n",
    "    output_filepath.mkdir(parents=True, exist_ok=True)\n",
    "    results_df.to_csv(Path(f\"{output_filepath}/hand_annotated_answers.csv\") , index=False)"
   ]
  },
  {
   "cell_type": "markdown",
   "metadata": {},
   "source": [
    "## 2: Create reformatted data for analysis"
   ]
  },
  {
   "cell_type": "code",
   "execution_count": 55,
   "metadata": {},
   "outputs": [],
   "source": [
    "get_labels_from_json_abstracts(input_filename=hand_annotated_pubmed_data_filename, output_filepath=output_filepath)"
   ]
  },
  {
   "cell_type": "markdown",
   "metadata": {},
   "source": [
    "## 3: Analysis of annotation answers in the test data"
   ]
  },
  {
   "cell_type": "code",
   "execution_count": 56,
   "metadata": {},
   "outputs": [
    {
     "data": {
      "text/html": [
       "<div>\n",
       "<style scoped>\n",
       "    .dataframe tbody tr th:only-of-type {\n",
       "        vertical-align: middle;\n",
       "    }\n",
       "\n",
       "    .dataframe tbody tr th {\n",
       "        vertical-align: top;\n",
       "    }\n",
       "\n",
       "    .dataframe thead th {\n",
       "        text-align: right;\n",
       "    }\n",
       "</style>\n",
       "<table border=\"1\" class=\"dataframe\">\n",
       "  <thead>\n",
       "    <tr style=\"text-align: right;\">\n",
       "      <th></th>\n",
       "      <th>id</th>\n",
       "      <th>pmid</th>\n",
       "      <th>corpus</th>\n",
       "      <th>hand_ent_text</th>\n",
       "      <th>hand_ent_label</th>\n",
       "      <th>hand_ent_start</th>\n",
       "      <th>hand_ent_end</th>\n",
       "    </tr>\n",
       "  </thead>\n",
       "  <tbody>\n",
       "    <tr>\n",
       "      <th>0</th>\n",
       "      <td>24</td>\n",
       "      <td>33081197</td>\n",
       "      <td>The Biochemical and Genetic Basis for the Bios...</td>\n",
       "      <td>&lt;i&gt;Hypericum Perforatum&lt;/i&gt; L.</td>\n",
       "      <td>scientific</td>\n",
       "      <td>81</td>\n",
       "      <td>111</td>\n",
       "    </tr>\n",
       "    <tr>\n",
       "      <th>1</th>\n",
       "      <td>24</td>\n",
       "      <td>33081197</td>\n",
       "      <td>The Biochemical and Genetic Basis for the Bios...</td>\n",
       "      <td>&lt;i&gt;Hypericum perforatum&lt;/i&gt; L.</td>\n",
       "      <td>scientific</td>\n",
       "      <td>159</td>\n",
       "      <td>189</td>\n",
       "    </tr>\n",
       "    <tr>\n",
       "      <th>2</th>\n",
       "      <td>24</td>\n",
       "      <td>33081197</td>\n",
       "      <td>The Biochemical and Genetic Basis for the Bios...</td>\n",
       "      <td>Saint John's Wort</td>\n",
       "      <td>common</td>\n",
       "      <td>208</td>\n",
       "      <td>225</td>\n",
       "    </tr>\n",
       "    <tr>\n",
       "      <th>3</th>\n",
       "      <td>25</td>\n",
       "      <td>33383372</td>\n",
       "      <td>Improvements in estrogen deficiency-induced hy...</td>\n",
       "      <td>Hypericum perforatum L.</td>\n",
       "      <td>scientific</td>\n",
       "      <td>68</td>\n",
       "      <td>91</td>\n",
       "    </tr>\n",
       "    <tr>\n",
       "      <th>4</th>\n",
       "      <td>25</td>\n",
       "      <td>33383372</td>\n",
       "      <td>Improvements in estrogen deficiency-induced hy...</td>\n",
       "      <td>Hypericum perforatum L.</td>\n",
       "      <td>scientific</td>\n",
       "      <td>189</td>\n",
       "      <td>212</td>\n",
       "    </tr>\n",
       "    <tr>\n",
       "      <th>5</th>\n",
       "      <td>26</td>\n",
       "      <td>32101119</td>\n",
       "      <td>Expression of Escherichia coli Heat-Labile Ent...</td>\n",
       "      <td>Centella</td>\n",
       "      <td>common</td>\n",
       "      <td>68</td>\n",
       "      <td>76</td>\n",
       "    </tr>\n",
       "    <tr>\n",
       "      <th>6</th>\n",
       "      <td>26</td>\n",
       "      <td>32101119</td>\n",
       "      <td>Expression of Escherichia coli Heat-Labile Ent...</td>\n",
       "      <td>Centella asiatica (L.) Urban</td>\n",
       "      <td>scientific</td>\n",
       "      <td>78</td>\n",
       "      <td>106</td>\n",
       "    </tr>\n",
       "    <tr>\n",
       "      <th>7</th>\n",
       "      <td>27</td>\n",
       "      <td>32588370</td>\n",
       "      <td>Oral administration of Centella asiatica (L.) ...</td>\n",
       "      <td>Centella asiatica (L.) Urb</td>\n",
       "      <td>scientific</td>\n",
       "      <td>23</td>\n",
       "      <td>49</td>\n",
       "    </tr>\n",
       "    <tr>\n",
       "      <th>8</th>\n",
       "      <td>27</td>\n",
       "      <td>32588370</td>\n",
       "      <td>Oral administration of Centella asiatica (L.) ...</td>\n",
       "      <td>Centella asiatica</td>\n",
       "      <td>common</td>\n",
       "      <td>174</td>\n",
       "      <td>191</td>\n",
       "    </tr>\n",
       "    <tr>\n",
       "      <th>9</th>\n",
       "      <td>28</td>\n",
       "      <td>32668965</td>\n",
       "      <td>Inhibition of Inflammatory Responses by &lt;i&gt;Cen...</td>\n",
       "      <td>Centella asiatica</td>\n",
       "      <td>common</td>\n",
       "      <td>43</td>\n",
       "      <td>60</td>\n",
       "    </tr>\n",
       "  </tbody>\n",
       "</table>\n",
       "</div>"
      ],
      "text/plain": [
       "   id      pmid                                             corpus  \\\n",
       "0  24  33081197  The Biochemical and Genetic Basis for the Bios...   \n",
       "1  24  33081197  The Biochemical and Genetic Basis for the Bios...   \n",
       "2  24  33081197  The Biochemical and Genetic Basis for the Bios...   \n",
       "3  25  33383372  Improvements in estrogen deficiency-induced hy...   \n",
       "4  25  33383372  Improvements in estrogen deficiency-induced hy...   \n",
       "5  26  32101119  Expression of Escherichia coli Heat-Labile Ent...   \n",
       "6  26  32101119  Expression of Escherichia coli Heat-Labile Ent...   \n",
       "7  27  32588370  Oral administration of Centella asiatica (L.) ...   \n",
       "8  27  32588370  Oral administration of Centella asiatica (L.) ...   \n",
       "9  28  32668965  Inhibition of Inflammatory Responses by <i>Cen...   \n",
       "\n",
       "                    hand_ent_text hand_ent_label  hand_ent_start  hand_ent_end  \n",
       "0  <i>Hypericum Perforatum</i> L.     scientific              81           111  \n",
       "1  <i>Hypericum perforatum</i> L.     scientific             159           189  \n",
       "2               Saint John's Wort         common             208           225  \n",
       "3         Hypericum perforatum L.     scientific              68            91  \n",
       "4         Hypericum perforatum L.     scientific             189           212  \n",
       "5                        Centella         common              68            76  \n",
       "6    Centella asiatica (L.) Urban     scientific              78           106  \n",
       "7      Centella asiatica (L.) Urb     scientific              23            49  \n",
       "8               Centella asiatica         common             174           191  \n",
       "9               Centella asiatica         common              43            60  "
      ]
     },
     "execution_count": 56,
     "metadata": {},
     "output_type": "execute_result"
    }
   ],
   "source": [
    "# Load the reformatted answers\n",
    "hand_annotated_answers_df = pd.read_csv(os.path.join(output_filepath, \"hand_annotated_answers.csv\"))\n",
    "hand_annotated_answers_df.head(10)"
   ]
  },
  {
   "cell_type": "code",
   "execution_count": 62,
   "metadata": {},
   "outputs": [
    {
     "data": {
      "text/plain": [
       "hand_ent_label\n",
       "common            26\n",
       "scientific        22\n",
       "pharmaceutical     1\n",
       "dtype: int64"
      ]
     },
     "execution_count": 62,
     "metadata": {},
     "output_type": "execute_result"
    }
   ],
   "source": [
    "# Split of entity labels\n",
    "hand_annotated_answers_df.value_counts(\"hand_ent_label\")"
   ]
  },
  {
   "cell_type": "code",
   "execution_count": 61,
   "metadata": {},
   "outputs": [
    {
     "data": {
      "text/plain": [
       "49"
      ]
     },
     "execution_count": 61,
     "metadata": {},
     "output_type": "execute_result"
    }
   ],
   "source": [
    "# Total number of entities annotated\n",
    "len(hand_annotated_answers_df)"
   ]
  },
  {
   "cell_type": "code",
   "execution_count": 63,
   "metadata": {},
   "outputs": [
    {
     "data": {
      "text/plain": [
       "16"
      ]
     },
     "execution_count": 63,
     "metadata": {},
     "output_type": "execute_result"
    }
   ],
   "source": [
    "# Number of annotated test data/abstracts\n",
    "hand_annotated_answers_df[\"id\"].nunique()"
   ]
  },
  {
   "cell_type": "code",
   "execution_count": 69,
   "metadata": {},
   "outputs": [
    {
     "data": {
      "text/html": [
       "<div>\n",
       "<style scoped>\n",
       "    .dataframe tbody tr th:only-of-type {\n",
       "        vertical-align: middle;\n",
       "    }\n",
       "\n",
       "    .dataframe tbody tr th {\n",
       "        vertical-align: top;\n",
       "    }\n",
       "\n",
       "    .dataframe thead tr th {\n",
       "        text-align: left;\n",
       "    }\n",
       "\n",
       "    .dataframe thead tr:last-of-type th {\n",
       "        text-align: right;\n",
       "    }\n",
       "</style>\n",
       "<table border=\"1\" class=\"dataframe\">\n",
       "  <thead>\n",
       "    <tr>\n",
       "      <th></th>\n",
       "      <th colspan=\"2\" halign=\"left\">hand_ent_label</th>\n",
       "    </tr>\n",
       "    <tr>\n",
       "      <th></th>\n",
       "      <th>count</th>\n",
       "      <th>nunique</th>\n",
       "    </tr>\n",
       "    <tr>\n",
       "      <th>id</th>\n",
       "      <th></th>\n",
       "      <th></th>\n",
       "    </tr>\n",
       "  </thead>\n",
       "  <tbody>\n",
       "    <tr>\n",
       "      <th>24</th>\n",
       "      <td>3</td>\n",
       "      <td>2</td>\n",
       "    </tr>\n",
       "    <tr>\n",
       "      <th>25</th>\n",
       "      <td>2</td>\n",
       "      <td>1</td>\n",
       "    </tr>\n",
       "    <tr>\n",
       "      <th>26</th>\n",
       "      <td>2</td>\n",
       "      <td>2</td>\n",
       "    </tr>\n",
       "    <tr>\n",
       "      <th>27</th>\n",
       "      <td>2</td>\n",
       "      <td>2</td>\n",
       "    </tr>\n",
       "    <tr>\n",
       "      <th>28</th>\n",
       "      <td>2</td>\n",
       "      <td>2</td>\n",
       "    </tr>\n",
       "    <tr>\n",
       "      <th>29</th>\n",
       "      <td>2</td>\n",
       "      <td>2</td>\n",
       "    </tr>\n",
       "    <tr>\n",
       "      <th>30</th>\n",
       "      <td>3</td>\n",
       "      <td>2</td>\n",
       "    </tr>\n",
       "    <tr>\n",
       "      <th>31</th>\n",
       "      <td>3</td>\n",
       "      <td>2</td>\n",
       "    </tr>\n",
       "    <tr>\n",
       "      <th>32</th>\n",
       "      <td>10</td>\n",
       "      <td>2</td>\n",
       "    </tr>\n",
       "    <tr>\n",
       "      <th>33</th>\n",
       "      <td>5</td>\n",
       "      <td>3</td>\n",
       "    </tr>\n",
       "    <tr>\n",
       "      <th>34</th>\n",
       "      <td>4</td>\n",
       "      <td>2</td>\n",
       "    </tr>\n",
       "    <tr>\n",
       "      <th>35</th>\n",
       "      <td>2</td>\n",
       "      <td>2</td>\n",
       "    </tr>\n",
       "    <tr>\n",
       "      <th>36</th>\n",
       "      <td>1</td>\n",
       "      <td>1</td>\n",
       "    </tr>\n",
       "    <tr>\n",
       "      <th>37</th>\n",
       "      <td>2</td>\n",
       "      <td>2</td>\n",
       "    </tr>\n",
       "    <tr>\n",
       "      <th>38</th>\n",
       "      <td>4</td>\n",
       "      <td>2</td>\n",
       "    </tr>\n",
       "    <tr>\n",
       "      <th>39</th>\n",
       "      <td>2</td>\n",
       "      <td>1</td>\n",
       "    </tr>\n",
       "  </tbody>\n",
       "</table>\n",
       "</div>"
      ],
      "text/plain": [
       "   hand_ent_label        \n",
       "            count nunique\n",
       "id                       \n",
       "24              3       2\n",
       "25              2       1\n",
       "26              2       2\n",
       "27              2       2\n",
       "28              2       2\n",
       "29              2       2\n",
       "30              3       2\n",
       "31              3       2\n",
       "32             10       2\n",
       "33              5       3\n",
       "34              4       2\n",
       "35              2       2\n",
       "36              1       1\n",
       "37              2       2\n",
       "38              4       2\n",
       "39              2       1"
      ]
     },
     "execution_count": 69,
     "metadata": {},
     "output_type": "execute_result"
    }
   ],
   "source": [
    "# Number of entities and unique entities for each abstract\n",
    "hand_annotated_answers_df[[\"id\", \"hand_ent_label\"]].groupby(\"id\").agg([\"count\", \"nunique\"])"
   ]
  },
  {
   "cell_type": "code",
   "execution_count": null,
   "metadata": {},
   "outputs": [],
   "source": []
  }
 ],
 "metadata": {
  "interpreter": {
   "hash": "67f4780eb96faf297d175188e69e69fac805a6f2ebb65e35e4468d9195d66e2d"
  },
  "kernelspec": {
   "display_name": "Python 3.8.5 64-bit ('venv-scispacy': venv)",
   "language": "python",
   "name": "python3"
  },
  "language_info": {
   "codemirror_mode": {
    "name": "ipython",
    "version": 3
   },
   "file_extension": ".py",
   "mimetype": "text/x-python",
   "name": "python",
   "nbconvert_exporter": "python",
   "pygments_lexer": "ipython3",
   "version": "3.8.5"
  },
  "orig_nbformat": 4
 },
 "nbformat": 4,
 "nbformat_minor": 2
}
