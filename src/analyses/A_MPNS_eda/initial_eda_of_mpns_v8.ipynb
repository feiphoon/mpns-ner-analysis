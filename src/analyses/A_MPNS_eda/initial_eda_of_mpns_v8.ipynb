{
 "cells": [
  {
   "cell_type": "markdown",
   "metadata": {},
   "source": [
    "# Initial analysis of MPNS v8 datasets\n",
    "\n",
    "And reformatting to comma-separated CSVs."
   ]
  },
  {
   "cell_type": "code",
   "execution_count": 86,
   "metadata": {},
   "outputs": [],
   "source": [
    "import pandas as pd\n",
    "import missingno as msno\n",
    "from typing import List"
   ]
  },
  {
   "cell_type": "code",
   "execution_count": 34,
   "metadata": {},
   "outputs": [],
   "source": [
    "# Notebook setup\n",
    "pd.set_option('display.max_colwidth', None)"
   ]
  },
  {
   "cell_type": "code",
   "execution_count": 68,
   "metadata": {},
   "outputs": [],
   "source": [
    "# Functions\n",
    "def retrieve_col_names(filepath: str, delimiter: str) -> List:\n",
    "    with open(filepath, \"r\") as f:\n",
    "        col_names = f.readline().split(delimiter)\n",
    "        col_names = list(map(str.strip, col_names))\n",
    "    return col_names\n"
   ]
  },
  {
   "cell_type": "markdown",
   "metadata": {},
   "source": [
    "## MPNS Plants (Table 1)"
   ]
  },
  {
   "cell_type": "code",
   "execution_count": 102,
   "metadata": {},
   "outputs": [],
   "source": [
    "# Retrieve field names in pipe-delimited csv\n",
    "mpns_plants_filepath = \"../../../data/mpns-v8/medicinal_mpns_plants.csv\"\n",
    "mpns_plants_col_names = retrieve_col_names(filepath=mpns_plants_filepath, delimiter=\"|\")\n",
    "\n",
    "# mpns_plants_col_names"
   ]
  },
  {
   "cell_type": "markdown",
   "metadata": {},
   "source": [
    "Column names:\n",
    "\n",
    " - name_id\n",
    " - ipni_id\n",
    " - taxon_status\n",
    " - quality_rating\n",
    " - rank\n",
    " - family\n",
    " - genus\n",
    " - genus_hybrid\n",
    " - species\n",
    " - species_hybrid\n",
    " - infra_species\n",
    " - parent_author\n",
    " - primary_author\n",
    " - full_scientific_name"
   ]
  },
  {
   "cell_type": "code",
   "execution_count": 61,
   "metadata": {},
   "outputs": [
    {
     "data": {
      "text/html": [
       "<div>\n",
       "<style scoped>\n",
       "    .dataframe tbody tr th:only-of-type {\n",
       "        vertical-align: middle;\n",
       "    }\n",
       "\n",
       "    .dataframe tbody tr th {\n",
       "        vertical-align: top;\n",
       "    }\n",
       "\n",
       "    .dataframe thead th {\n",
       "        text-align: right;\n",
       "    }\n",
       "</style>\n",
       "<table border=\"1\" class=\"dataframe\">\n",
       "  <thead>\n",
       "    <tr style=\"text-align: right;\">\n",
       "      <th></th>\n",
       "      <th>name_id</th>\n",
       "      <th>ipni_id</th>\n",
       "      <th>taxon_status</th>\n",
       "      <th>quality_rating</th>\n",
       "      <th>rank</th>\n",
       "      <th>family</th>\n",
       "      <th>genus</th>\n",
       "      <th>genus_hybrid</th>\n",
       "      <th>species</th>\n",
       "      <th>species_hybrid</th>\n",
       "      <th>infra_species</th>\n",
       "      <th>parent_author</th>\n",
       "      <th>primary_author</th>\n",
       "      <th>full_scientific_name</th>\n",
       "    </tr>\n",
       "  </thead>\n",
       "  <tbody>\n",
       "    <tr>\n",
       "      <th>0</th>\n",
       "      <td>gccgcc-97400</td>\n",
       "      <td>173608-1</td>\n",
       "      <td>Accepted</td>\n",
       "      <td>M</td>\n",
       "      <td>species</td>\n",
       "      <td>Asteraceae</td>\n",
       "      <td>Aaronsohnia</td>\n",
       "      <td>NaN</td>\n",
       "      <td>factorovskyi</td>\n",
       "      <td>NaN</td>\n",
       "      <td>NaN</td>\n",
       "      <td>NaN</td>\n",
       "      <td>Warb. &amp; Eig</td>\n",
       "      <td>Aaronsohnia factorovskyi Warb. &amp; Eig</td>\n",
       "    </tr>\n",
       "    <tr>\n",
       "      <th>1</th>\n",
       "      <td>wcsCmp609316</td>\n",
       "      <td>1020872-2</td>\n",
       "      <td>Accepted</td>\n",
       "      <td>M</td>\n",
       "      <td>species</td>\n",
       "      <td>Fabaceae</td>\n",
       "      <td>Abarema</td>\n",
       "      <td>NaN</td>\n",
       "      <td>cochliacarpos</td>\n",
       "      <td>NaN</td>\n",
       "      <td>NaN</td>\n",
       "      <td>Gomes</td>\n",
       "      <td>Barneby &amp; J.W.Grimes</td>\n",
       "      <td>Abarema cochliacarpos (Gomes) Barneby &amp; J.W.Grimes</td>\n",
       "    </tr>\n",
       "    <tr>\n",
       "      <th>2</th>\n",
       "      <td>wcsCmp609344</td>\n",
       "      <td>989363-1</td>\n",
       "      <td>Accepted</td>\n",
       "      <td>M</td>\n",
       "      <td>var.</td>\n",
       "      <td>Fabaceae</td>\n",
       "      <td>Abarema</td>\n",
       "      <td>NaN</td>\n",
       "      <td>jupunba</td>\n",
       "      <td>NaN</td>\n",
       "      <td>trapezifolia</td>\n",
       "      <td>Vahl</td>\n",
       "      <td>Barneby &amp; J.W.Grimes</td>\n",
       "      <td>Abarema jupunba var. trapezifolia (Vahl) Barneby &amp; J.W.Grimes</td>\n",
       "    </tr>\n",
       "    <tr>\n",
       "      <th>3</th>\n",
       "      <td>wcsCmp609343</td>\n",
       "      <td>469538-1</td>\n",
       "      <td>Accepted</td>\n",
       "      <td>M</td>\n",
       "      <td>species</td>\n",
       "      <td>Fabaceae</td>\n",
       "      <td>Abarema</td>\n",
       "      <td>NaN</td>\n",
       "      <td>jupunba</td>\n",
       "      <td>NaN</td>\n",
       "      <td>NaN</td>\n",
       "      <td>Willd.</td>\n",
       "      <td>Britton &amp; Killip</td>\n",
       "      <td>Abarema jupunba (Willd.) Britton &amp; Killip</td>\n",
       "    </tr>\n",
       "    <tr>\n",
       "      <th>4</th>\n",
       "      <td>wcsCmp609550</td>\n",
       "      <td>557984-1</td>\n",
       "      <td>Accepted</td>\n",
       "      <td>M</td>\n",
       "      <td>species</td>\n",
       "      <td>Malvaceae</td>\n",
       "      <td>Abelmoschus</td>\n",
       "      <td>NaN</td>\n",
       "      <td>angulosus</td>\n",
       "      <td>NaN</td>\n",
       "      <td>NaN</td>\n",
       "      <td>NaN</td>\n",
       "      <td>Wall. ex Wight &amp; Arn.</td>\n",
       "      <td>Abelmoschus angulosus Wall. ex Wight &amp; Arn.</td>\n",
       "    </tr>\n",
       "    <tr>\n",
       "      <th>5</th>\n",
       "      <td>wcsCmp609559</td>\n",
       "      <td>945720-1</td>\n",
       "      <td>Accepted</td>\n",
       "      <td>M</td>\n",
       "      <td>species</td>\n",
       "      <td>Malvaceae</td>\n",
       "      <td>Abelmoschus</td>\n",
       "      <td>NaN</td>\n",
       "      <td>caillei</td>\n",
       "      <td>×</td>\n",
       "      <td>NaN</td>\n",
       "      <td>A.Chev.</td>\n",
       "      <td>Stevels</td>\n",
       "      <td>Abelmoschus × caillei (A.Chev.) Stevels</td>\n",
       "    </tr>\n",
       "    <tr>\n",
       "      <th>6</th>\n",
       "      <td>wcsCmp609567</td>\n",
       "      <td>557999-1</td>\n",
       "      <td>Accepted</td>\n",
       "      <td>M</td>\n",
       "      <td>species</td>\n",
       "      <td>Malvaceae</td>\n",
       "      <td>Abelmoschus</td>\n",
       "      <td>NaN</td>\n",
       "      <td>crinitus</td>\n",
       "      <td>NaN</td>\n",
       "      <td>NaN</td>\n",
       "      <td>NaN</td>\n",
       "      <td>Wall.</td>\n",
       "      <td>Abelmoschus crinitus Wall.</td>\n",
       "    </tr>\n",
       "    <tr>\n",
       "      <th>7</th>\n",
       "      <td>wcsCmp609574</td>\n",
       "      <td>558006-1</td>\n",
       "      <td>Accepted</td>\n",
       "      <td>H</td>\n",
       "      <td>species</td>\n",
       "      <td>Malvaceae</td>\n",
       "      <td>Abelmoschus</td>\n",
       "      <td>NaN</td>\n",
       "      <td>esculentus</td>\n",
       "      <td>NaN</td>\n",
       "      <td>NaN</td>\n",
       "      <td>L.</td>\n",
       "      <td>Moench</td>\n",
       "      <td>Abelmoschus esculentus (L.) Moench</td>\n",
       "    </tr>\n",
       "    <tr>\n",
       "      <th>8</th>\n",
       "      <td>wcsCmp609577</td>\n",
       "      <td>558009-1</td>\n",
       "      <td>Accepted</td>\n",
       "      <td>M</td>\n",
       "      <td>species</td>\n",
       "      <td>Malvaceae</td>\n",
       "      <td>Abelmoschus</td>\n",
       "      <td>NaN</td>\n",
       "      <td>ficulneus</td>\n",
       "      <td>NaN</td>\n",
       "      <td>NaN</td>\n",
       "      <td>L.</td>\n",
       "      <td>Wight &amp; Arn.</td>\n",
       "      <td>Abelmoschus ficulneus (L.) Wight &amp; Arn.</td>\n",
       "    </tr>\n",
       "    <tr>\n",
       "      <th>9</th>\n",
       "      <td>wcsCmp609593</td>\n",
       "      <td>60463346-2</td>\n",
       "      <td>Accepted</td>\n",
       "      <td>M</td>\n",
       "      <td>var.</td>\n",
       "      <td>Malvaceae</td>\n",
       "      <td>Abelmoschus</td>\n",
       "      <td>NaN</td>\n",
       "      <td>manihot</td>\n",
       "      <td>NaN</td>\n",
       "      <td>pungens</td>\n",
       "      <td>Roxb.</td>\n",
       "      <td>Hochr.</td>\n",
       "      <td>Abelmoschus manihot var. pungens (Roxb.) Hochr.</td>\n",
       "    </tr>\n",
       "  </tbody>\n",
       "</table>\n",
       "</div>"
      ],
      "text/plain": [
       "        name_id     ipni_id taxon_status quality_rating     rank      family  \\\n",
       "0  gccgcc-97400    173608-1     Accepted              M  species  Asteraceae   \n",
       "1  wcsCmp609316   1020872-2     Accepted              M  species    Fabaceae   \n",
       "2  wcsCmp609344    989363-1     Accepted              M     var.    Fabaceae   \n",
       "3  wcsCmp609343    469538-1     Accepted              M  species    Fabaceae   \n",
       "4  wcsCmp609550    557984-1     Accepted              M  species   Malvaceae   \n",
       "5  wcsCmp609559    945720-1     Accepted              M  species   Malvaceae   \n",
       "6  wcsCmp609567    557999-1     Accepted              M  species   Malvaceae   \n",
       "7  wcsCmp609574    558006-1     Accepted              H  species   Malvaceae   \n",
       "8  wcsCmp609577    558009-1     Accepted              M  species   Malvaceae   \n",
       "9  wcsCmp609593  60463346-2     Accepted              M     var.   Malvaceae   \n",
       "\n",
       "         genus  genus_hybrid        species species_hybrid infra_species  \\\n",
       "0  Aaronsohnia           NaN   factorovskyi            NaN           NaN   \n",
       "1      Abarema           NaN  cochliacarpos            NaN           NaN   \n",
       "2      Abarema           NaN        jupunba            NaN  trapezifolia   \n",
       "3      Abarema           NaN        jupunba            NaN           NaN   \n",
       "4  Abelmoschus           NaN      angulosus            NaN           NaN   \n",
       "5  Abelmoschus           NaN        caillei              ×           NaN   \n",
       "6  Abelmoschus           NaN       crinitus            NaN           NaN   \n",
       "7  Abelmoschus           NaN     esculentus            NaN           NaN   \n",
       "8  Abelmoschus           NaN      ficulneus            NaN           NaN   \n",
       "9  Abelmoschus           NaN        manihot            NaN       pungens   \n",
       "\n",
       "  parent_author         primary_author  \\\n",
       "0           NaN            Warb. & Eig   \n",
       "1         Gomes   Barneby & J.W.Grimes   \n",
       "2          Vahl   Barneby & J.W.Grimes   \n",
       "3        Willd.       Britton & Killip   \n",
       "4           NaN  Wall. ex Wight & Arn.   \n",
       "5       A.Chev.                Stevels   \n",
       "6           NaN                  Wall.   \n",
       "7            L.                 Moench   \n",
       "8            L.           Wight & Arn.   \n",
       "9         Roxb.                 Hochr.   \n",
       "\n",
       "                                            full_scientific_name  \n",
       "0                           Aaronsohnia factorovskyi Warb. & Eig  \n",
       "1             Abarema cochliacarpos (Gomes) Barneby & J.W.Grimes  \n",
       "2  Abarema jupunba var. trapezifolia (Vahl) Barneby & J.W.Grimes  \n",
       "3                      Abarema jupunba (Willd.) Britton & Killip  \n",
       "4                    Abelmoschus angulosus Wall. ex Wight & Arn.  \n",
       "5                        Abelmoschus × caillei (A.Chev.) Stevels  \n",
       "6                                     Abelmoschus crinitus Wall.  \n",
       "7                             Abelmoschus esculentus (L.) Moench  \n",
       "8                        Abelmoschus ficulneus (L.) Wight & Arn.  \n",
       "9                Abelmoschus manihot var. pungens (Roxb.) Hochr.  "
      ]
     },
     "execution_count": 61,
     "metadata": {},
     "output_type": "execute_result"
    }
   ],
   "source": [
    "mpns_plants_df = pd.read_csv(mpns_plants_filepath, header=0, sep=\"|\", names=mpns_plants_col_names)\n",
    "mpns_plants_df.head(10)"
   ]
  },
  {
   "cell_type": "code",
   "execution_count": 32,
   "metadata": {},
   "outputs": [
    {
     "data": {
      "text/plain": [
       "(36981, 14)"
      ]
     },
     "execution_count": 32,
     "metadata": {},
     "output_type": "execute_result"
    }
   ],
   "source": [
    "mpns_plants_df.shape"
   ]
  },
  {
   "cell_type": "code",
   "execution_count": 33,
   "metadata": {},
   "outputs": [
    {
     "name": "stdout",
     "output_type": "stream",
     "text": [
      "<class 'pandas.core.frame.DataFrame'>\n",
      "RangeIndex: 36981 entries, 0 to 36980\n",
      "Data columns (total 14 columns):\n",
      " #   Column                Non-Null Count  Dtype \n",
      "---  ------                --------------  ----- \n",
      " 0   name_id               36981 non-null  object\n",
      " 1   ipni_id               33147 non-null  object\n",
      " 2   taxon_status          36981 non-null  object\n",
      " 3   quality_rating        36981 non-null  object\n",
      " 4   rank                  36980 non-null  object\n",
      " 5   family                36979 non-null  object\n",
      " 6   genus                 36981 non-null  object\n",
      " 7   genus_hybrid          1 non-null      object\n",
      " 8   species               36979 non-null  object\n",
      " 9   species_hybrid        94 non-null     object\n",
      " 10  infra_species         11076 non-null  object\n",
      " 11  parent_author         15625 non-null  object\n",
      " 12  primary_author        35329 non-null  object\n",
      " 13  full_scientific_name  36981 non-null  object\n",
      "dtypes: object(14)\n",
      "memory usage: 4.0+ MB\n"
     ]
    }
   ],
   "source": [
    "mpns_plants_df.info()"
   ]
  },
  {
   "cell_type": "code",
   "execution_count": 88,
   "metadata": {},
   "outputs": [
    {
     "data": {
      "image/png": "[encoded data removed]",
      "text/plain": [
       "<Figure size 1800x720 with 2 Axes>"
      ]
     },
     "metadata": {
      "needs_background": "light"
     },
     "output_type": "display_data"
    }
   ],
   "source": [
    "msno.matrix(mpns_plants_df);"
   ]
  },
  {
   "cell_type": "markdown",
   "metadata": {},
   "source": [
    "### Proportions of columns"
   ]
  },
  {
   "cell_type": "code",
   "execution_count": 78,
   "metadata": {},
   "outputs": [
    {
     "data": {
      "text/plain": [
       "species        25905\n",
       "var.            5698\n",
       "subsp.          5144\n",
       "f.               197\n",
       "nothosubsp.       28\n",
       "nothovar.          4\n",
       "subvar.            3\n",
       "Name: rank, dtype: int64"
      ]
     },
     "execution_count": 78,
     "metadata": {},
     "output_type": "execute_result"
    }
   ],
   "source": [
    "# Proportions of rank\n",
    "mpns_plants_df[\"rank\"].value_counts()"
   ]
  },
  {
   "cell_type": "code",
   "execution_count": 77,
   "metadata": {},
   "outputs": [
    {
     "data": {
      "text/plain": [
       "Accepted             36306\n",
       "Incomplete             279\n",
       "Unassessed             254\n",
       "Unplaced               100\n",
       "Unplaced Synonym        32\n",
       "Artificial Hybrid        7\n",
       "Illegitimate             1\n",
       "Invalid                  1\n",
       "Name: taxon_status, dtype: int64"
      ]
     },
     "execution_count": 77,
     "metadata": {},
     "output_type": "execute_result"
    }
   ],
   "source": [
    "# Proportions of taxon_status\n",
    "mpns_plants_df[\"taxon_status\"].value_counts()"
   ]
  },
  {
   "cell_type": "code",
   "execution_count": 84,
   "metadata": {},
   "outputs": [
    {
     "data": {
      "text/plain": [
       "M    20065\n",
       "H    15256\n",
       "L     1659\n",
       "Name: quality_rating, dtype: int64"
      ]
     },
     "execution_count": 84,
     "metadata": {},
     "output_type": "execute_result"
    }
   ],
   "source": [
    "# Proportions of quality_rating\n",
    "mpns_plants_df[\"quality_rating\"].value_counts()"
   ]
  },
  {
   "cell_type": "markdown",
   "metadata": {},
   "source": [
    "## MPNS Synonyms (Table 2)"
   ]
  },
  {
   "cell_type": "code",
   "execution_count": 103,
   "metadata": {},
   "outputs": [],
   "source": [
    "# Retrieve field names in pipe-delimited csv\n",
    "mpns_synonyms_filepath = \"../../../data/mpns-v8/medicinal_mpns_synonyms.csv\"\n",
    "mpns_synonyms_col_names = retrieve_col_names(filepath=mpns_synonyms_filepath, delimiter=\"|\")\n",
    "\n",
    "# mpns_synonyms_col_names"
   ]
  },
  {
   "cell_type": "markdown",
   "metadata": {},
   "source": [
    "Column names:\n",
    "\n",
    " - name_id\n",
    " - ipni_id\n",
    " - taxon_status\n",
    " - quality_rating\n",
    " - rank\n",
    " - genus\n",
    " - genus_hybrid\n",
    " - species\n",
    " - species_hybrid\n",
    " - infra_species\n",
    " - parent_author\n",
    " - primary_author\n",
    " - full_scientific_name\n",
    " - acc_name_id"
   ]
  },
  {
   "cell_type": "code",
   "execution_count": 60,
   "metadata": {},
   "outputs": [
    {
     "data": {
      "text/html": [
       "<div>\n",
       "<style scoped>\n",
       "    .dataframe tbody tr th:only-of-type {\n",
       "        vertical-align: middle;\n",
       "    }\n",
       "\n",
       "    .dataframe tbody tr th {\n",
       "        vertical-align: top;\n",
       "    }\n",
       "\n",
       "    .dataframe thead th {\n",
       "        text-align: right;\n",
       "    }\n",
       "</style>\n",
       "<table border=\"1\" class=\"dataframe\">\n",
       "  <thead>\n",
       "    <tr style=\"text-align: right;\">\n",
       "      <th></th>\n",
       "      <th>name_id</th>\n",
       "      <th>ipni_id</th>\n",
       "      <th>taxon_status</th>\n",
       "      <th>quality_rating</th>\n",
       "      <th>rank</th>\n",
       "      <th>genus</th>\n",
       "      <th>genus_hybrid</th>\n",
       "      <th>species</th>\n",
       "      <th>species_hybrid</th>\n",
       "      <th>infra_species</th>\n",
       "      <th>parent_author</th>\n",
       "      <th>primary_author</th>\n",
       "      <th>full_scientific_name</th>\n",
       "      <th>acc_name_id</th>\n",
       "    </tr>\n",
       "  </thead>\n",
       "  <tbody>\n",
       "    <tr>\n",
       "      <th>0</th>\n",
       "      <td>wcs41</td>\n",
       "      <td>337102-1</td>\n",
       "      <td>Synonym</td>\n",
       "      <td>H</td>\n",
       "      <td>species</td>\n",
       "      <td>Aalius</td>\n",
       "      <td>NaN</td>\n",
       "      <td>androgyna</td>\n",
       "      <td>NaN</td>\n",
       "      <td>NaN</td>\n",
       "      <td>L.</td>\n",
       "      <td>Kuntze</td>\n",
       "      <td>Aalius androgyna (L.) Kuntze</td>\n",
       "      <td>wcs498532</td>\n",
       "    </tr>\n",
       "    <tr>\n",
       "      <th>1</th>\n",
       "      <td>wcs42</td>\n",
       "      <td>337103-1</td>\n",
       "      <td>Synonym</td>\n",
       "      <td>H</td>\n",
       "      <td>species</td>\n",
       "      <td>Aalius</td>\n",
       "      <td>NaN</td>\n",
       "      <td>assimilis</td>\n",
       "      <td>NaN</td>\n",
       "      <td>NaN</td>\n",
       "      <td>Thwaites</td>\n",
       "      <td>Kuntze</td>\n",
       "      <td>Aalius assimilis (Thwaites) Kuntze</td>\n",
       "      <td>wcs498532</td>\n",
       "    </tr>\n",
       "    <tr>\n",
       "      <th>2</th>\n",
       "      <td>wcs43</td>\n",
       "      <td>337104-1</td>\n",
       "      <td>Synonym</td>\n",
       "      <td>H</td>\n",
       "      <td>species</td>\n",
       "      <td>Aalius</td>\n",
       "      <td>NaN</td>\n",
       "      <td>brevipes</td>\n",
       "      <td>NaN</td>\n",
       "      <td>NaN</td>\n",
       "      <td>Müll.Arg.</td>\n",
       "      <td>Kuntze</td>\n",
       "      <td>Aalius brevipes (Müll.Arg.) Kuntze</td>\n",
       "      <td>wcs498526</td>\n",
       "    </tr>\n",
       "    <tr>\n",
       "      <th>3</th>\n",
       "      <td>wcs44</td>\n",
       "      <td>337105-1</td>\n",
       "      <td>Synonym</td>\n",
       "      <td>H</td>\n",
       "      <td>species</td>\n",
       "      <td>Aalius</td>\n",
       "      <td>NaN</td>\n",
       "      <td>ceratogynum</td>\n",
       "      <td>NaN</td>\n",
       "      <td>NaN</td>\n",
       "      <td>NaN</td>\n",
       "      <td>Kuntze</td>\n",
       "      <td>Aalius ceratogynum Kuntze</td>\n",
       "      <td>wcs498528</td>\n",
       "    </tr>\n",
       "    <tr>\n",
       "      <th>4</th>\n",
       "      <td>wcs45</td>\n",
       "      <td>337106-1</td>\n",
       "      <td>Synonym</td>\n",
       "      <td>H</td>\n",
       "      <td>species</td>\n",
       "      <td>Aalius</td>\n",
       "      <td>NaN</td>\n",
       "      <td>compressa</td>\n",
       "      <td>NaN</td>\n",
       "      <td>NaN</td>\n",
       "      <td>Müll.Arg.</td>\n",
       "      <td>Kuntze</td>\n",
       "      <td>Aalius compressa (Müll.Arg.) Kuntze</td>\n",
       "      <td>wcs498528</td>\n",
       "    </tr>\n",
       "    <tr>\n",
       "      <th>5</th>\n",
       "      <td>wcs50</td>\n",
       "      <td>337111-1</td>\n",
       "      <td>Synonym</td>\n",
       "      <td>H</td>\n",
       "      <td>species</td>\n",
       "      <td>Aalius</td>\n",
       "      <td>NaN</td>\n",
       "      <td>oblongifolia</td>\n",
       "      <td>NaN</td>\n",
       "      <td>NaN</td>\n",
       "      <td>Hook.f.</td>\n",
       "      <td>Kuntze</td>\n",
       "      <td>Aalius oblongifolia (Hook.f.) Kuntze</td>\n",
       "      <td>wcs498532</td>\n",
       "    </tr>\n",
       "    <tr>\n",
       "      <th>6</th>\n",
       "      <td>wcs51</td>\n",
       "      <td>337112-1</td>\n",
       "      <td>Synonym</td>\n",
       "      <td>H</td>\n",
       "      <td>species</td>\n",
       "      <td>Aalius</td>\n",
       "      <td>NaN</td>\n",
       "      <td>pubescens</td>\n",
       "      <td>NaN</td>\n",
       "      <td>NaN</td>\n",
       "      <td>Hook.f.</td>\n",
       "      <td>Kuntze</td>\n",
       "      <td>Aalius pubescens (Hook.f.) Kuntze</td>\n",
       "      <td>wcs498528</td>\n",
       "    </tr>\n",
       "    <tr>\n",
       "      <th>7</th>\n",
       "      <td>wcs52</td>\n",
       "      <td>337113-1</td>\n",
       "      <td>Synonym</td>\n",
       "      <td>H</td>\n",
       "      <td>species</td>\n",
       "      <td>Aalius</td>\n",
       "      <td>NaN</td>\n",
       "      <td>quadrangularis</td>\n",
       "      <td>NaN</td>\n",
       "      <td>NaN</td>\n",
       "      <td>Müll.Arg.</td>\n",
       "      <td>Kuntze</td>\n",
       "      <td>Aalius quadrangularis (Müll.Arg.) Kuntze</td>\n",
       "      <td>wcs498528</td>\n",
       "    </tr>\n",
       "    <tr>\n",
       "      <th>8</th>\n",
       "      <td>wcs53</td>\n",
       "      <td>337114-1</td>\n",
       "      <td>Synonym</td>\n",
       "      <td>H</td>\n",
       "      <td>species</td>\n",
       "      <td>Aalius</td>\n",
       "      <td>NaN</td>\n",
       "      <td>retroversa</td>\n",
       "      <td>NaN</td>\n",
       "      <td>NaN</td>\n",
       "      <td>Wight</td>\n",
       "      <td>Kuntze</td>\n",
       "      <td>Aalius retroversa (Wight) Kuntze</td>\n",
       "      <td>wcs498532</td>\n",
       "    </tr>\n",
       "    <tr>\n",
       "      <th>9</th>\n",
       "      <td>wcs55</td>\n",
       "      <td>337116-1</td>\n",
       "      <td>Synonym</td>\n",
       "      <td>H</td>\n",
       "      <td>species</td>\n",
       "      <td>Aalius</td>\n",
       "      <td>NaN</td>\n",
       "      <td>rigida</td>\n",
       "      <td>NaN</td>\n",
       "      <td>NaN</td>\n",
       "      <td>Thwaites</td>\n",
       "      <td>Kuntze</td>\n",
       "      <td>Aalius rigida (Thwaites) Kuntze</td>\n",
       "      <td>wcs498528</td>\n",
       "    </tr>\n",
       "  </tbody>\n",
       "</table>\n",
       "</div>"
      ],
      "text/plain": [
       "  name_id   ipni_id taxon_status quality_rating     rank   genus genus_hybrid  \\\n",
       "0   wcs41  337102-1      Synonym              H  species  Aalius          NaN   \n",
       "1   wcs42  337103-1      Synonym              H  species  Aalius          NaN   \n",
       "2   wcs43  337104-1      Synonym              H  species  Aalius          NaN   \n",
       "3   wcs44  337105-1      Synonym              H  species  Aalius          NaN   \n",
       "4   wcs45  337106-1      Synonym              H  species  Aalius          NaN   \n",
       "5   wcs50  337111-1      Synonym              H  species  Aalius          NaN   \n",
       "6   wcs51  337112-1      Synonym              H  species  Aalius          NaN   \n",
       "7   wcs52  337113-1      Synonym              H  species  Aalius          NaN   \n",
       "8   wcs53  337114-1      Synonym              H  species  Aalius          NaN   \n",
       "9   wcs55  337116-1      Synonym              H  species  Aalius          NaN   \n",
       "\n",
       "          species species_hybrid infra_species parent_author primary_author  \\\n",
       "0       androgyna            NaN           NaN            L.         Kuntze   \n",
       "1       assimilis            NaN           NaN      Thwaites         Kuntze   \n",
       "2        brevipes            NaN           NaN     Müll.Arg.         Kuntze   \n",
       "3     ceratogynum            NaN           NaN           NaN         Kuntze   \n",
       "4       compressa            NaN           NaN     Müll.Arg.         Kuntze   \n",
       "5    oblongifolia            NaN           NaN       Hook.f.         Kuntze   \n",
       "6       pubescens            NaN           NaN       Hook.f.         Kuntze   \n",
       "7  quadrangularis            NaN           NaN     Müll.Arg.         Kuntze   \n",
       "8      retroversa            NaN           NaN         Wight         Kuntze   \n",
       "9          rigida            NaN           NaN      Thwaites         Kuntze   \n",
       "\n",
       "                       full_scientific_name acc_name_id  \n",
       "0              Aalius androgyna (L.) Kuntze   wcs498532  \n",
       "1        Aalius assimilis (Thwaites) Kuntze   wcs498532  \n",
       "2        Aalius brevipes (Müll.Arg.) Kuntze   wcs498526  \n",
       "3                 Aalius ceratogynum Kuntze   wcs498528  \n",
       "4       Aalius compressa (Müll.Arg.) Kuntze   wcs498528  \n",
       "5      Aalius oblongifolia (Hook.f.) Kuntze   wcs498532  \n",
       "6         Aalius pubescens (Hook.f.) Kuntze   wcs498528  \n",
       "7  Aalius quadrangularis (Müll.Arg.) Kuntze   wcs498528  \n",
       "8          Aalius retroversa (Wight) Kuntze   wcs498532  \n",
       "9           Aalius rigida (Thwaites) Kuntze   wcs498528  "
      ]
     },
     "execution_count": 60,
     "metadata": {},
     "output_type": "execute_result"
    }
   ],
   "source": [
    "mpns_synonyms_df = pd.read_csv(mpns_synonyms_filepath, header=0, sep=\"|\", names=mpns_synonyms_col_names)\n",
    "mpns_synonyms_df.head(10)"
   ]
  },
  {
   "cell_type": "code",
   "execution_count": 51,
   "metadata": {},
   "outputs": [
    {
     "data": {
      "text/plain": [
       "(257763, 14)"
      ]
     },
     "execution_count": 51,
     "metadata": {},
     "output_type": "execute_result"
    }
   ],
   "source": [
    "mpns_synonyms_df.shape"
   ]
  },
  {
   "cell_type": "code",
   "execution_count": 52,
   "metadata": {},
   "outputs": [
    {
     "name": "stdout",
     "output_type": "stream",
     "text": [
      "<class 'pandas.core.frame.DataFrame'>\n",
      "RangeIndex: 257763 entries, 0 to 257762\n",
      "Data columns (total 14 columns):\n",
      " #   Column                Non-Null Count   Dtype \n",
      "---  ------                --------------   ----- \n",
      " 0   name_id               257763 non-null  object\n",
      " 1   ipni_id               164943 non-null  object\n",
      " 2   taxon_status          257763 non-null  object\n",
      " 3   quality_rating        257763 non-null  object\n",
      " 4   rank                  256413 non-null  object\n",
      " 5   genus                 257763 non-null  object\n",
      " 6   genus_hybrid          23 non-null      object\n",
      " 7   species               257744 non-null  object\n",
      " 8   species_hybrid        2183 non-null    object\n",
      " 9   infra_species         93060 non-null   object\n",
      " 10  parent_author         76071 non-null   object\n",
      " 11  primary_author        255649 non-null  object\n",
      " 12  full_scientific_name  257763 non-null  object\n",
      " 13  acc_name_id           257763 non-null  object\n",
      "dtypes: object(14)\n",
      "memory usage: 27.5+ MB\n"
     ]
    }
   ],
   "source": [
    "mpns_synonyms_df.info()"
   ]
  },
  {
   "cell_type": "code",
   "execution_count": 89,
   "metadata": {},
   "outputs": [
    {
     "data": {
      "image/png": "[encoded data removed]",
      "text/plain": [
       "<Figure size 1800x720 with 2 Axes>"
      ]
     },
     "metadata": {
      "needs_background": "light"
     },
     "output_type": "display_data"
    }
   ],
   "source": [
    "msno.matrix(mpns_synonyms_df);"
   ]
  },
  {
   "cell_type": "markdown",
   "metadata": {},
   "source": [
    "### Proportions of columns"
   ]
  },
  {
   "cell_type": "code",
   "execution_count": 79,
   "metadata": {},
   "outputs": [
    {
     "data": {
      "text/plain": [
       "species        164704\n",
       "var.            64125\n",
       "f.              15318\n",
       "subsp.           9880\n",
       "subvar.          1232\n",
       "lusus             299\n",
       "subf.             286\n",
       "convar.           161\n",
       "proles            160\n",
       "race               82\n",
       "monstr.            39\n",
       "nothovar.          32\n",
       "nothosubsp.        19\n",
       "microgene          16\n",
       "stirps             15\n",
       "raza                9\n",
       "raçe                7\n",
       "nothof.             7\n",
       "grex                7\n",
       "subproles           4\n",
       "unterrasse          3\n",
       "subspecioid         2\n",
       "rasse               1\n",
       "subsp               1\n",
       "raça                1\n",
       "nid                 1\n",
       "agamosp.            1\n",
       "sublusus            1\n",
       "mut.                1\n",
       "Name: rank, dtype: int64"
      ]
     },
     "execution_count": 79,
     "metadata": {},
     "output_type": "execute_result"
    }
   ],
   "source": [
    "# Proportions of rank\n",
    "mpns_synonyms_df[\"rank\"].value_counts()"
   ]
  },
  {
   "cell_type": "code",
   "execution_count": 80,
   "metadata": {},
   "outputs": [
    {
     "data": {
      "text/plain": [
       "Synonym             226867\n",
       "Illegitimate         12126\n",
       "Invalid              10593\n",
       "Incomplete            6940\n",
       "Orthographic           532\n",
       "Misapplied             356\n",
       "Unassessed             337\n",
       "Unplaced                 8\n",
       "Unplaced Synonym         5\n",
       "Name: taxon_status, dtype: int64"
      ]
     },
     "execution_count": 80,
     "metadata": {},
     "output_type": "execute_result"
    }
   ],
   "source": [
    "# Proportions of taxon_status\n",
    "mpns_synonyms_df[\"taxon_status\"].value_counts()"
   ]
  },
  {
   "cell_type": "code",
   "execution_count": 82,
   "metadata": {},
   "outputs": [
    {
     "data": {
      "text/plain": [
       "M    144679\n",
       "H    104660\n",
       "L      8425\n",
       "Name: quality_rating, dtype: int64"
      ]
     },
     "execution_count": 82,
     "metadata": {},
     "output_type": "execute_result"
    }
   ],
   "source": [
    "# Proportions of quality_rating\n",
    "mpns_synonyms_df[\"quality_rating\"].value_counts()"
   ]
  },
  {
   "cell_type": "markdown",
   "metadata": {},
   "source": [
    "## MPNS Non-Scientific Names (Table 3)"
   ]
  },
  {
   "cell_type": "code",
   "execution_count": 104,
   "metadata": {},
   "outputs": [],
   "source": [
    "# Retrieve field names in pipe-delimited csv\n",
    "mpns_non_scientific_names_filepath = \"../../../data/mpns-v8/medicinal_mpns_non_scientific_names.csv\"\n",
    "mpns_non_scientific_names_col_names = retrieve_col_names(filepath=mpns_non_scientific_names_filepath, delimiter=\";\")\n",
    "\n",
    "# mpns_non_scientific_names_col_names"
   ]
  },
  {
   "cell_type": "markdown",
   "metadata": {},
   "source": [
    "Column names:\n",
    "\n",
    "- name_type\n",
    "- name\n",
    "- plant_id\n",
    "- name_id"
   ]
  },
  {
   "cell_type": "code",
   "execution_count": 57,
   "metadata": {},
   "outputs": [
    {
     "data": {
      "text/html": [
       "<div>\n",
       "<style scoped>\n",
       "    .dataframe tbody tr th:only-of-type {\n",
       "        vertical-align: middle;\n",
       "    }\n",
       "\n",
       "    .dataframe tbody tr th {\n",
       "        vertical-align: top;\n",
       "    }\n",
       "\n",
       "    .dataframe thead th {\n",
       "        text-align: right;\n",
       "    }\n",
       "</style>\n",
       "<table border=\"1\" class=\"dataframe\">\n",
       "  <thead>\n",
       "    <tr style=\"text-align: right;\">\n",
       "      <th></th>\n",
       "      <th>name_type</th>\n",
       "      <th>name</th>\n",
       "      <th>plant_id</th>\n",
       "      <th>name_id</th>\n",
       "    </tr>\n",
       "  </thead>\n",
       "  <tbody>\n",
       "    <tr>\n",
       "      <th>0</th>\n",
       "      <td>common</td>\n",
       "      <td>???</td>\n",
       "      <td>wcsCmp732678</td>\n",
       "      <td>wcsCmp732678</td>\n",
       "    </tr>\n",
       "    <tr>\n",
       "      <th>1</th>\n",
       "      <td>common</td>\n",
       "      <td>'!?</td>\n",
       "      <td>wcsCmp999219</td>\n",
       "      <td>wcsCmp613600</td>\n",
       "    </tr>\n",
       "    <tr>\n",
       "      <th>2</th>\n",
       "      <td>common</td>\n",
       "      <td>마</td>\n",
       "      <td>wcs240732</td>\n",
       "      <td>wcs240732</td>\n",
       "    </tr>\n",
       "    <tr>\n",
       "      <th>3</th>\n",
       "      <td>common</td>\n",
       "      <td>ミ ロバランノキ</td>\n",
       "      <td>wcsCmp431324</td>\n",
       "      <td>wcsCmp431324</td>\n",
       "    </tr>\n",
       "    <tr>\n",
       "      <th>4</th>\n",
       "      <td>common</td>\n",
       "      <td>イ エロ－ターミナリア</td>\n",
       "      <td>wcsCmp431324</td>\n",
       "      <td>wcsCmp431324</td>\n",
       "    </tr>\n",
       "    <tr>\n",
       "      <th>5</th>\n",
       "      <td>common</td>\n",
       "      <td>เก</td>\n",
       "      <td>wcsCmp499019</td>\n",
       "      <td>wcsCmp499019</td>\n",
       "    </tr>\n",
       "    <tr>\n",
       "      <th>6</th>\n",
       "      <td>common</td>\n",
       "      <td>ゴマ</td>\n",
       "      <td>wcsCmp588550</td>\n",
       "      <td>wcsCmp588550</td>\n",
       "    </tr>\n",
       "    <tr>\n",
       "      <th>7</th>\n",
       "      <td>common</td>\n",
       "      <td>チモ</td>\n",
       "      <td>wcs299155</td>\n",
       "      <td>wcs299155</td>\n",
       "    </tr>\n",
       "    <tr>\n",
       "      <th>8</th>\n",
       "      <td>common</td>\n",
       "      <td>ブシ</td>\n",
       "      <td>wcsCmp618501</td>\n",
       "      <td>wcsCmp618501</td>\n",
       "    </tr>\n",
       "    <tr>\n",
       "      <th>9</th>\n",
       "      <td>common</td>\n",
       "      <td>ブシ</td>\n",
       "      <td>wcsCmp618873</td>\n",
       "      <td>wcsCmp618873</td>\n",
       "    </tr>\n",
       "  </tbody>\n",
       "</table>\n",
       "</div>"
      ],
      "text/plain": [
       "  name_type         name      plant_id       name_id\n",
       "0    common          ???  wcsCmp732678  wcsCmp732678\n",
       "1    common          '!?  wcsCmp999219  wcsCmp613600\n",
       "2    common            마     wcs240732     wcs240732\n",
       "3    common     ミ ロバランノキ  wcsCmp431324  wcsCmp431324\n",
       "4    common  イ エロ－ターミナリア  wcsCmp431324  wcsCmp431324\n",
       "5    common           เก  wcsCmp499019  wcsCmp499019\n",
       "6    common           ゴマ  wcsCmp588550  wcsCmp588550\n",
       "7    common           チモ     wcs299155     wcs299155\n",
       "8    common           ブシ  wcsCmp618501  wcsCmp618501\n",
       "9    common           ブシ  wcsCmp618873  wcsCmp618873"
      ]
     },
     "execution_count": 57,
     "metadata": {},
     "output_type": "execute_result"
    }
   ],
   "source": [
    "mpns_non_scientific_names_df = pd.read_csv(mpns_non_scientific_names_filepath, header=0, sep=\";\", names=mpns_non_scientific_names_col_names)\n",
    "mpns_non_scientific_names_df.head(10)"
   ]
  },
  {
   "cell_type": "code",
   "execution_count": 62,
   "metadata": {},
   "outputs": [
    {
     "data": {
      "text/plain": [
       "(120923, 4)"
      ]
     },
     "execution_count": 62,
     "metadata": {},
     "output_type": "execute_result"
    }
   ],
   "source": [
    "mpns_non_scientific_names_df.shape"
   ]
  },
  {
   "cell_type": "code",
   "execution_count": 63,
   "metadata": {},
   "outputs": [
    {
     "name": "stdout",
     "output_type": "stream",
     "text": [
      "<class 'pandas.core.frame.DataFrame'>\n",
      "RangeIndex: 120923 entries, 0 to 120922\n",
      "Data columns (total 4 columns):\n",
      " #   Column     Non-Null Count   Dtype \n",
      "---  ------     --------------   ----- \n",
      " 0   name_type  120923 non-null  object\n",
      " 1   name       120923 non-null  object\n",
      " 2   plant_id   120923 non-null  object\n",
      " 3   name_id    120923 non-null  object\n",
      "dtypes: object(4)\n",
      "memory usage: 3.7+ MB\n"
     ]
    }
   ],
   "source": [
    "mpns_non_scientific_names_df.info()"
   ]
  },
  {
   "cell_type": "code",
   "execution_count": 91,
   "metadata": {},
   "outputs": [],
   "source": [
    "# msno.matrix(mpns_non_scientific_names_df);"
   ]
  },
  {
   "cell_type": "markdown",
   "metadata": {},
   "source": [
    "### Proportions of columns"
   ]
  },
  {
   "cell_type": "code",
   "execution_count": 83,
   "metadata": {},
   "outputs": [
    {
     "data": {
      "text/plain": [
       "common                 77286\n",
       "sci_cited_medicinal    41242\n",
       "pharmaceutical          2395\n",
       "Name: name_type, dtype: int64"
      ]
     },
     "execution_count": 83,
     "metadata": {},
     "output_type": "execute_result"
    }
   ],
   "source": [
    "# Proportions of name_type\n",
    "mpns_non_scientific_names_df[\"name_type\"].value_counts()"
   ]
  },
  {
   "cell_type": "code",
   "execution_count": 94,
   "metadata": {},
   "outputs": [
    {
     "data": {
      "text/html": [
       "<div>\n",
       "<style scoped>\n",
       "    .dataframe tbody tr th:only-of-type {\n",
       "        vertical-align: middle;\n",
       "    }\n",
       "\n",
       "    .dataframe tbody tr th {\n",
       "        vertical-align: top;\n",
       "    }\n",
       "\n",
       "    .dataframe thead th {\n",
       "        text-align: right;\n",
       "    }\n",
       "</style>\n",
       "<table border=\"1\" class=\"dataframe\">\n",
       "  <thead>\n",
       "    <tr style=\"text-align: right;\">\n",
       "      <th></th>\n",
       "      <th>name_type</th>\n",
       "      <th>name</th>\n",
       "      <th>plant_id</th>\n",
       "      <th>name_id</th>\n",
       "    </tr>\n",
       "  </thead>\n",
       "  <tbody>\n",
       "    <tr>\n",
       "      <th>0</th>\n",
       "      <td>common</td>\n",
       "      <td>???</td>\n",
       "      <td>wcsCmp732678</td>\n",
       "      <td>wcsCmp732678</td>\n",
       "    </tr>\n",
       "    <tr>\n",
       "      <th>1</th>\n",
       "      <td>common</td>\n",
       "      <td>'!?</td>\n",
       "      <td>wcsCmp999219</td>\n",
       "      <td>wcsCmp613600</td>\n",
       "    </tr>\n",
       "    <tr>\n",
       "      <th>2</th>\n",
       "      <td>common</td>\n",
       "      <td>마</td>\n",
       "      <td>wcs240732</td>\n",
       "      <td>wcs240732</td>\n",
       "    </tr>\n",
       "    <tr>\n",
       "      <th>3</th>\n",
       "      <td>common</td>\n",
       "      <td>ミ ロバランノキ</td>\n",
       "      <td>wcsCmp431324</td>\n",
       "      <td>wcsCmp431324</td>\n",
       "    </tr>\n",
       "    <tr>\n",
       "      <th>4</th>\n",
       "      <td>common</td>\n",
       "      <td>イ エロ－ターミナリア</td>\n",
       "      <td>wcsCmp431324</td>\n",
       "      <td>wcsCmp431324</td>\n",
       "    </tr>\n",
       "    <tr>\n",
       "      <th>...</th>\n",
       "      <td>...</td>\n",
       "      <td>...</td>\n",
       "      <td>...</td>\n",
       "      <td>...</td>\n",
       "    </tr>\n",
       "    <tr>\n",
       "      <th>120918</th>\n",
       "      <td>common</td>\n",
       "      <td>龙胆</td>\n",
       "      <td>wcsCmp821457</td>\n",
       "      <td>wcsCmp821457</td>\n",
       "    </tr>\n",
       "    <tr>\n",
       "      <th>120919</th>\n",
       "      <td>common</td>\n",
       "      <td>龙胆草</td>\n",
       "      <td>wcsCmp820298</td>\n",
       "      <td>wcsCmp821379</td>\n",
       "    </tr>\n",
       "    <tr>\n",
       "      <th>120920</th>\n",
       "      <td>common</td>\n",
       "      <td>龙芽草</td>\n",
       "      <td>wcsCmp901782</td>\n",
       "      <td>wcsCmp901782</td>\n",
       "    </tr>\n",
       "    <tr>\n",
       "      <th>120921</th>\n",
       "      <td>common</td>\n",
       "      <td>龙葵子</td>\n",
       "      <td>wcsCmp915955</td>\n",
       "      <td>wcsCmp915955</td>\n",
       "    </tr>\n",
       "    <tr>\n",
       "      <th>120922</th>\n",
       "      <td>common</td>\n",
       "      <td>龙须藤</td>\n",
       "      <td>wcsCmp352150</td>\n",
       "      <td>wcsCmp671442</td>\n",
       "    </tr>\n",
       "  </tbody>\n",
       "</table>\n",
       "<p>77286 rows × 4 columns</p>\n",
       "</div>"
      ],
      "text/plain": [
       "       name_type         name      plant_id       name_id\n",
       "0         common          ???  wcsCmp732678  wcsCmp732678\n",
       "1         common          '!?  wcsCmp999219  wcsCmp613600\n",
       "2         common            마     wcs240732     wcs240732\n",
       "3         common     ミ ロバランノキ  wcsCmp431324  wcsCmp431324\n",
       "4         common  イ エロ－ターミナリア  wcsCmp431324  wcsCmp431324\n",
       "...          ...          ...           ...           ...\n",
       "120918    common           龙胆  wcsCmp821457  wcsCmp821457\n",
       "120919    common          龙胆草  wcsCmp820298  wcsCmp821379\n",
       "120920    common          龙芽草  wcsCmp901782  wcsCmp901782\n",
       "120921    common          龙葵子  wcsCmp915955  wcsCmp915955\n",
       "120922    common          龙须藤  wcsCmp352150  wcsCmp671442\n",
       "\n",
       "[77286 rows x 4 columns]"
      ]
     },
     "execution_count": 94,
     "metadata": {},
     "output_type": "execute_result"
    }
   ],
   "source": [
    "mpns_non_scientific_names_df[mpns_non_scientific_names_df[\"name_type\"] == \"common\"]"
   ]
  },
  {
   "cell_type": "code",
   "execution_count": 98,
   "metadata": {},
   "outputs": [
    {
     "data": {
      "text/plain": [
       "wcs317427       282\n",
       "wcsCmp539801    220\n",
       "wcs178867       219\n",
       "wcsCmp774037    218\n",
       "wcsCmp667002    199\n",
       "Name: name_id, dtype: int64"
      ]
     },
     "execution_count": 98,
     "metadata": {},
     "output_type": "execute_result"
    }
   ],
   "source": [
    "mpns_non_scientific_names_df[\"name_id\"].value_counts()[:5]"
   ]
  },
  {
   "cell_type": "code",
   "execution_count": 99,
   "metadata": {},
   "outputs": [
    {
     "data": {
      "text/html": [
       "<div>\n",
       "<style scoped>\n",
       "    .dataframe tbody tr th:only-of-type {\n",
       "        vertical-align: middle;\n",
       "    }\n",
       "\n",
       "    .dataframe tbody tr th {\n",
       "        vertical-align: top;\n",
       "    }\n",
       "\n",
       "    .dataframe thead th {\n",
       "        text-align: right;\n",
       "    }\n",
       "</style>\n",
       "<table border=\"1\" class=\"dataframe\">\n",
       "  <thead>\n",
       "    <tr style=\"text-align: right;\">\n",
       "      <th></th>\n",
       "      <th>name_type</th>\n",
       "      <th>name</th>\n",
       "      <th>plant_id</th>\n",
       "      <th>name_id</th>\n",
       "    </tr>\n",
       "  </thead>\n",
       "  <tbody>\n",
       "    <tr>\n",
       "      <th>641</th>\n",
       "      <td>common</td>\n",
       "      <td>abilu</td>\n",
       "      <td>wcs317427</td>\n",
       "      <td>wcs317427</td>\n",
       "    </tr>\n",
       "    <tr>\n",
       "      <th>820</th>\n",
       "      <td>common</td>\n",
       "      <td>abu shutor</td>\n",
       "      <td>wcs317427</td>\n",
       "      <td>wcs317427</td>\n",
       "    </tr>\n",
       "    <tr>\n",
       "      <th>821</th>\n",
       "      <td>common</td>\n",
       "      <td>abu sidra</td>\n",
       "      <td>wcs317427</td>\n",
       "      <td>wcs317427</td>\n",
       "    </tr>\n",
       "    <tr>\n",
       "      <th>3040</th>\n",
       "      <td>common</td>\n",
       "      <td>african sausage tree</td>\n",
       "      <td>wcs317427</td>\n",
       "      <td>wcs317427</td>\n",
       "    </tr>\n",
       "    <tr>\n",
       "      <th>4394</th>\n",
       "      <td>common</td>\n",
       "      <td>alamborodar</td>\n",
       "      <td>wcs317427</td>\n",
       "      <td>wcs317427</td>\n",
       "    </tr>\n",
       "    <tr>\n",
       "      <th>...</th>\n",
       "      <td>...</td>\n",
       "      <td>...</td>\n",
       "      <td>...</td>\n",
       "      <td>...</td>\n",
       "    </tr>\n",
       "    <tr>\n",
       "      <th>115746</th>\n",
       "      <td>common</td>\n",
       "      <td>wurstbaum</td>\n",
       "      <td>wcs317427</td>\n",
       "      <td>wcs317427</td>\n",
       "    </tr>\n",
       "    <tr>\n",
       "      <th>116435</th>\n",
       "      <td>common</td>\n",
       "      <td>yago</td>\n",
       "      <td>wcs317427</td>\n",
       "      <td>wcs317427</td>\n",
       "    </tr>\n",
       "    <tr>\n",
       "      <th>117275</th>\n",
       "      <td>common</td>\n",
       "      <td>yirlahi</td>\n",
       "      <td>wcs317427</td>\n",
       "      <td>wcs317427</td>\n",
       "    </tr>\n",
       "    <tr>\n",
       "      <th>117528</th>\n",
       "      <td>common</td>\n",
       "      <td>yumba</td>\n",
       "      <td>wcs317427</td>\n",
       "      <td>wcs317427</td>\n",
       "    </tr>\n",
       "    <tr>\n",
       "      <th>118744</th>\n",
       "      <td>common</td>\n",
       "      <td>zolombele dombolo</td>\n",
       "      <td>wcs317427</td>\n",
       "      <td>wcs317427</td>\n",
       "    </tr>\n",
       "  </tbody>\n",
       "</table>\n",
       "<p>282 rows × 4 columns</p>\n",
       "</div>"
      ],
      "text/plain": [
       "       name_type                  name   plant_id    name_id\n",
       "641       common                 abilu  wcs317427  wcs317427\n",
       "820       common            abu shutor  wcs317427  wcs317427\n",
       "821       common             abu sidra  wcs317427  wcs317427\n",
       "3040      common  african sausage tree  wcs317427  wcs317427\n",
       "4394      common           alamborodar  wcs317427  wcs317427\n",
       "...          ...                   ...        ...        ...\n",
       "115746    common             wurstbaum  wcs317427  wcs317427\n",
       "116435    common                  yago  wcs317427  wcs317427\n",
       "117275    common               yirlahi  wcs317427  wcs317427\n",
       "117528    common                 yumba  wcs317427  wcs317427\n",
       "118744    common     zolombele dombolo  wcs317427  wcs317427\n",
       "\n",
       "[282 rows x 4 columns]"
      ]
     },
     "execution_count": 99,
     "metadata": {},
     "output_type": "execute_result"
    }
   ],
   "source": [
    "mpns_non_scientific_names_df[mpns_non_scientific_names_df[\"name_id\"] == \"wcs317427\"]"
   ]
  }
 ],
 "metadata": {
  "interpreter": {
   "hash": "19f4009e4a0ac2e41cd5209751df2679f613a4ae7ff0fb4bff01b2c2d9f26dcc"
  },
  "kernelspec": {
   "display_name": "Python 3.8.5 64-bit ('venv': venv)",
   "name": "python3"
  },
  "language_info": {
   "codemirror_mode": {
    "name": "ipython",
    "version": 3
   },
   "file_extension": ".py",
   "mimetype": "text/x-python",
   "name": "python",
   "nbconvert_exporter": "python",
   "pygments_lexer": "ipython3",
   "version": "3.8.5"
  },
  "orig_nbformat": 4
 },
 "nbformat": 4,
 "nbformat_minor": 2
}
